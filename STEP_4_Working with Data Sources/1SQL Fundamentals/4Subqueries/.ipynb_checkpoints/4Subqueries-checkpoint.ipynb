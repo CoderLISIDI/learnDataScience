{
 "cells": [
  {
   "cell_type": "markdown",
   "metadata": {},
   "source": [
    "## 1. Writing More Complex Queries"
   ]
  },
  {
   "cell_type": "code",
   "execution_count": 2,
   "metadata": {
    "collapsed": true
   },
   "outputs": [],
   "source": [
    "# 我们迄今为止学到的SQL操作使我们能够回答只有一个不确定性来源的问题。 很多时候，我们想回答有两个或更多未知因素的问题。 例如：\n",
    "#     哪些行高于ShareWomen列的平均值？"
   ]
  },
  {
   "cell_type": "code",
   "execution_count": 4,
   "metadata": {
    "collapsed": false
   },
   "outputs": [],
   "source": [
    "# 使用我们迄今为止学到的SQL，没有办法编写回答这些问题的查询。 像AVG（）这样的集合函数只能在SELECT子句中使用。 以下查询："
   ]
  },
  {
   "cell_type": "code",
   "execution_count": 5,
   "metadata": {
    "collapsed": true
   },
   "outputs": [],
   "source": [
    "# SELECT * FROM recent_grads\n",
    "# WHERE ShareWomen > AVG(ShareWomen)"
   ]
  },
  {
   "cell_type": "code",
   "execution_count": 6,
   "metadata": {
    "collapsed": true
   },
   "outputs": [],
   "source": [
    "# will return an error:\n",
    "\n",
    "# (sqlite3.OperationalError) misuse of aggregate function AVG() \n",
    "# [SQL: 'SELECT * FROM recent_grads WHERE ShareWomen > AVG(ShareWomen)']"
   ]
  },
  {
   "cell_type": "code",
   "execution_count": 7,
   "metadata": {
    "collapsed": true
   },
   "outputs": [],
   "source": [
    "# 我们需要学习如何将我们想要回答的问题分解为可以结合的一系列查询。"
   ]
  },
  {
   "cell_type": "code",
   "execution_count": 8,
   "metadata": {
    "collapsed": true
   },
   "outputs": [],
   "source": [
    "# 尝试编写一个查询，使用到目前为止学到的SQL来回答以下问题：\n",
    "\n",
    "# 哪些行高于ShareWomen列的平均值？"
   ]
  },
  {
   "cell_type": "markdown",
   "metadata": {},
   "source": [
    "## 3. Subquery In SELECT"
   ]
  },
  {
   "cell_type": "code",
   "execution_count": 10,
   "metadata": {
    "collapsed": true
   },
   "outputs": [],
   "source": [
    "# 在最后一个屏幕中，我们编写了使用子查询在WHERE子句中表达动态过滤条件的SQL语句。 具体而言，我们对特定列中高于或低于平均值的行感兴趣。 \n",
    "# 如果我们想知道专业的比例高于给定列的平均值，该怎么办？ 我们需要将满足过滤条件的行数与表中的总行数相除。"
   ]
  },
  {
   "cell_type": "code",
   "execution_count": 11,
   "metadata": {
    "collapsed": true
   },
   "outputs": [],
   "source": [
    "# 让我们专注于最后一个屏幕的查询："
   ]
  },
  {
   "cell_type": "code",
   "execution_count": 12,
   "metadata": {
    "collapsed": true
   },
   "outputs": [],
   "source": [
    "# SELECT Major, ShareWomen FROM recent_grads\n",
    "# WHERE ShareWomen > (SELECT AVG(ShareWomen) FROM recent_grads)"
   ]
  },
  {
   "cell_type": "code",
   "execution_count": 13,
   "metadata": {
    "collapsed": true
   },
   "outputs": [],
   "source": [
    "# 使用COUNT（）聚合函数，我们可以返回结果集包含的行数："
   ]
  },
  {
   "cell_type": "code",
   "execution_count": 15,
   "metadata": {
    "collapsed": false
   },
   "outputs": [],
   "source": [
    "# SELECT COUNT(*) FROM recent_grads\n",
    "# WHERE ShareWomen > (SELECT AVG(ShareWomen) FROM recent_grads)"
   ]
  },
  {
   "cell_type": "code",
   "execution_count": 16,
   "metadata": {
    "collapsed": true
   },
   "outputs": [],
   "source": [
    "# 要返回比例，我们需要将此值与recent_grads中的总行数相除。 \n",
    "# 然而，挑战在于我们不知道行的总数（或者希望依赖于过时的计算，无论如何我们可能会硬编码）。\n",
    "\n",
    "# 要动态计算recent_grads中的总行数并能够在另一个SQL语句中使用它，我们可以在SELECT子句中使用子查询："
   ]
  },
  {
   "cell_type": "code",
   "execution_count": null,
   "metadata": {
    "collapsed": true
   },
   "outputs": [],
   "source": [
    "# SELECT COUNT(*), (SELECT COUNT(*) FROM recent_grads) FROM recent_grads\n",
    "# WHERE ShareWomen > (SELECT AVG(ShareWomen) FROM recent_grads)"
   ]
  },
  {
   "cell_type": "code",
   "execution_count": 17,
   "metadata": {
    "collapsed": true
   },
   "outputs": [],
   "source": [
    "# 我们将把它留给你来扩展SQL语句来计算实际比例。"
   ]
  },
  {
   "cell_type": "code",
   "execution_count": 18,
   "metadata": {
    "collapsed": true
   },
   "outputs": [],
   "source": [
    "# 编写一条SQL语句，用于计算包含ShareWomen以上平均值的行的比例（作为浮点值）。\n",
    "# 结果应只返回比例，别名为proportion_abv_avg，就像这样（使用不同的值）："
   ]
  },
  {
   "cell_type": "code",
   "execution_count": null,
   "metadata": {
    "collapsed": true
   },
   "outputs": [],
   "source": [
    "# SELECT CAST(COUNT(*) as float) / CAST((SELECT COUNT(*) from recent_grads) as float) proportion_abv_avg \n",
    "# from recent_grads\n",
    "\n",
    "# WHERE ShareWomen > (SELECT AVG(ShareWomen) from recent_grads)"
   ]
  }
 ],
 "metadata": {
  "kernelspec": {
   "display_name": "Python 2",
   "language": "python",
   "name": "python2"
  },
  "language_info": {
   "codemirror_mode": {
    "name": "ipython",
    "version": 2
   },
   "file_extension": ".py",
   "mimetype": "text/x-python",
   "name": "python",
   "nbconvert_exporter": "python",
   "pygments_lexer": "ipython2",
   "version": "2.7.13"
  }
 },
 "nbformat": 4,
 "nbformat_minor": 2
}
