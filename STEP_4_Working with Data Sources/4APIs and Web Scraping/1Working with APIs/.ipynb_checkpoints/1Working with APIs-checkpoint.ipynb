{
 "cells": [
  {
   "cell_type": "code",
   "execution_count": null,
   "metadata": {
    "collapsed": true
   },
   "outputs": [],
   "source": [
    "# 1. What's an API? -- start"
   ]
  },
  {
   "cell_type": "code",
   "execution_count": null,
   "metadata": {
    "collapsed": true
   },
   "outputs": [],
   "source": [
    "# Learn\n",
    "# 到目前为止，我们已经非常广泛地使用了数据集。虽然他们是受欢迎的资源，但在许多情况下使用它们是不切实际的。\n",
    "\n",
    "# 以下是数据集不能正常工作的一些情况：\n",
    "\n",
    "# - 数据变化频繁。例如，重新生成一个股票价格数据集并没有什么意义，并且每分钟下载一次。这种方法需要大量的带宽，而且速度很慢。\n",
    "\n",
    "# - 你只需要一小块更大的数据集。 Reddit的评论就是一个例子。如果你想从reddit只拉你自己的意见呢？下载整个reddit数据库没什么意义，然后过滤一些项目。\n",
    "\n",
    "# - 它涉及重复的计算。例如，Spotify有一个API可以告诉你一个音乐的流派。您理论上可以创建自己的分类器并使用它对音乐进行分类，但不会像Spotify那样拥有尽可能多的数据。\n",
    "\n",
    "# 在这样的情况下，应用程序接口（API）是正确的解决方案。一个API是一组方法和工具，允许不同的应用程序相互交互。\n",
    "# 程序员使用API​​动态地查询和检索数据（然后他们可以与他们自己的应用程序集成）。\n",
    "# 客户可以通过API快速有效地检索信息。\n",
    "\n",
    "# Reddit，Spotify，Twitter，Facebook和其他许多公司提供免费API，使开发人员能够访问他们存储在服务器上的信息;其他人则负责访问他们的API。\n",
    "\n",
    "# 在这个任务中，我们将查询一个基本的API来检索关于国际空间站（ISS）的数据。使用API​​将节省我们的时间和精力，而不是自己做所有的计算。"
   ]
  },
  {
   "cell_type": "code",
   "execution_count": null,
   "metadata": {
    "collapsed": true
   },
   "outputs": [],
   "source": [
    "# end"
   ]
  },
  {
   "cell_type": "code",
   "execution_count": null,
   "metadata": {
    "collapsed": true
   },
   "outputs": [],
   "source": [
    "# 2. Introduction to API Requests"
   ]
  },
  {
   "cell_type": "code",
   "execution_count": null,
   "metadata": {
    "collapsed": true
   },
   "outputs": [],
   "source": [
    "# 组织在Web服务器上托管他们的API。 \n",
    "# 当您在浏览器的地址栏中键入www.google.com时，您的计算机实际上是向www.google.com服务器请求一个网页，然后将其返回到您的浏览器。\n",
    "\n",
    "# API的工作方式大致相同，除了Web浏览器要求网页以外，程序要求提供数据。 \n",
    "# API通常以JavaScript Object Notation（JSON）格式返回此数据。 我们稍后会在这个任务中讨论JSON。\n",
    "\n",
    "# 我们向要从中获取数据的Web服务器发出API请求。 服务器然后回复并将其发送给我们。 在Python中，我们使用请求库来执行此操作。"
   ]
  },
  {
   "cell_type": "code",
   "execution_count": null,
   "metadata": {
    "collapsed": true
   },
   "outputs": [],
   "source": [
    "# end"
   ]
  },
  {
   "cell_type": "code",
   "execution_count": null,
   "metadata": {
    "collapsed": true
   },
   "outputs": [],
   "source": [
    "# 3. Types of Requests"
   ]
  },
  {
   "cell_type": "code",
   "execution_count": null,
   "metadata": {
    "collapsed": true
   },
   "outputs": [],
   "source": [
    "# Learn\n",
    "# 有很多不同类型的请求。最常见的是GET请求，我们用它来检索数据。我们将在以后的任务中探讨其他类型。\n",
    "\n",
    "# 我们可以使用一个简单的GET请求来从OpenNotify API中检索信息。\n",
    "\n",
    "# OpenNotify有几个API端点。端点是用于从API检索特定数据的服务器路由。\n",
    "# 例如，reddit API上的/ comments端点可能检索有关注释的信息，而/ users端点可能检索有关用户的数据。\n",
    "\n",
    "# 我们将在OpenNotify上看到的第一个端点是iss-now.json端点。该端点获取ISS当前的经纬度位置。\n",
    "# 一个数据集不适合这个任务，因为信息经常变化，并涉及到在服务器上的一些计算。\n",
    "\n",
    "# 查看OpenNotify端点的完整列表。\n",
    "\n",
    "# 我们已经为你导入了请求，所以请避免在这个任务中再次执行。导入请求将覆盖我们开发的用于应答检查的一些自定义API逻辑。"
   ]
  },
  {
   "cell_type": "code",
   "execution_count": null,
   "metadata": {
    "collapsed": true
   },
   "outputs": [],
   "source": [
    "# Instructions\n",
    "# 服务器将发送一个状态码，指示您的请求是成功还是失败。 您可以从response.status_code获取响应的状态码。\n",
    "    # 将状态码分配给变量status_code。"
   ]
  },
  {
   "cell_type": "code",
   "execution_count": 1,
   "metadata": {
    "collapsed": false,
    "scrolled": true
   },
   "outputs": [
    {
     "ename": "NameError",
     "evalue": "name 'requests' is not defined",
     "output_type": "error",
     "traceback": [
      "\u001b[0;31m---------------------------------------------------------------------------\u001b[0m",
      "\u001b[0;31mNameError\u001b[0m                                 Traceback (most recent call last)",
      "\u001b[0;32m<ipython-input-1-c87079725ad9>\u001b[0m in \u001b[0;36m<module>\u001b[0;34m()\u001b[0m\n\u001b[1;32m      1\u001b[0m \u001b[0;31m# Answer\u001b[0m\u001b[0;34m\u001b[0m\u001b[0;34m\u001b[0m\u001b[0m\n\u001b[1;32m      2\u001b[0m \u001b[0;31m# Make a get request to get the latest position of the ISS from the OpenNotify API.\u001b[0m\u001b[0;34m\u001b[0m\u001b[0;34m\u001b[0m\u001b[0m\n\u001b[0;32m----> 3\u001b[0;31m \u001b[0mresponse\u001b[0m \u001b[0;34m=\u001b[0m \u001b[0mrequests\u001b[0m\u001b[0;34m.\u001b[0m\u001b[0mget\u001b[0m\u001b[0;34m(\u001b[0m\u001b[0;34m\"http://api.open-notify.org/iss-now.json\"\u001b[0m\u001b[0;34m)\u001b[0m\u001b[0;34m\u001b[0m\u001b[0m\n\u001b[0m\u001b[1;32m      4\u001b[0m \u001b[0mstatus_code\u001b[0m \u001b[0;34m=\u001b[0m \u001b[0mresponse\u001b[0m\u001b[0;34m.\u001b[0m\u001b[0mstatus_code\u001b[0m\u001b[0;34m\u001b[0m\u001b[0m\n",
      "\u001b[0;31mNameError\u001b[0m: name 'requests' is not defined"
     ]
    }
   ],
   "source": [
    "# Answer\n",
    "# Make a get request to get the latest position of the ISS from the OpenNotify API.\n",
    "response = requests.get(\"http://api.open-notify.org/iss-now.json\")\n",
    "status_code = response.status_code"
   ]
  },
  {
   "cell_type": "code",
   "execution_count": null,
   "metadata": {
    "collapsed": true
   },
   "outputs": [],
   "source": [
    "# end"
   ]
  },
  {
   "cell_type": "code",
   "execution_count": null,
   "metadata": {
    "collapsed": true
   },
   "outputs": [],
   "source": []
  },
  {
   "cell_type": "code",
   "execution_count": null,
   "metadata": {
    "collapsed": true
   },
   "outputs": [],
   "source": []
  },
  {
   "cell_type": "code",
   "execution_count": null,
   "metadata": {
    "collapsed": true
   },
   "outputs": [],
   "source": []
  },
  {
   "cell_type": "code",
   "execution_count": null,
   "metadata": {
    "collapsed": true
   },
   "outputs": [],
   "source": []
  },
  {
   "cell_type": "code",
   "execution_count": null,
   "metadata": {
    "collapsed": true
   },
   "outputs": [],
   "source": []
  },
  {
   "cell_type": "code",
   "execution_count": null,
   "metadata": {
    "collapsed": true
   },
   "outputs": [],
   "source": []
  },
  {
   "cell_type": "code",
   "execution_count": null,
   "metadata": {
    "collapsed": true
   },
   "outputs": [],
   "source": []
  },
  {
   "cell_type": "code",
   "execution_count": null,
   "metadata": {
    "collapsed": true
   },
   "outputs": [],
   "source": []
  },
  {
   "cell_type": "code",
   "execution_count": null,
   "metadata": {
    "collapsed": true
   },
   "outputs": [],
   "source": []
  }
 ],
 "metadata": {
  "kernelspec": {
   "display_name": "Python 2",
   "language": "python",
   "name": "python2"
  },
  "language_info": {
   "codemirror_mode": {
    "name": "ipython",
    "version": 2
   },
   "file_extension": ".py",
   "mimetype": "text/x-python",
   "name": "python",
   "nbconvert_exporter": "python",
   "pygments_lexer": "ipython2",
   "version": "2.7.13"
  }
 },
 "nbformat": 4,
 "nbformat_minor": 2
}
