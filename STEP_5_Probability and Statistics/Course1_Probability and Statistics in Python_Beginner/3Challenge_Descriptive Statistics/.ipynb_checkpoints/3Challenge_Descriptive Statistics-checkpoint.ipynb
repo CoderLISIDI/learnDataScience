{
 "cells": [
  {
   "cell_type": "code",
   "execution_count": null,
   "metadata": {
    "collapsed": true
   },
   "outputs": [],
   "source": [
    "# 1.Introduction"
   ]
  },
  {
   "cell_type": "code",
   "execution_count": null,
   "metadata": {
    "collapsed": true
   },
   "outputs": [],
   "source": [
    "# Learn\n",
    "# FiveThirtyEight团队最近发布了一个数据集，该数据集包含了IMDB，\n",
    "# 腐烂的西红柿，Metacritic，IMDB和Fandango有实质性（至少30）用户和评论评论的电影样本的评论分数。\n",
    "# 每当电影发行，电影评论网站要求他们批准的网络评论家和他们的网站的用户群评价电影。\n",
    "# 将这些分数汇总起来，并将两组的平均分数在每个电影的网站上发布。\n",
    "\n",
    "# 以下是每个网站“星际迷航”的页面链接：\n",
    "\n",
    "    # 烂番茄\n",
    "    # 凡丹戈\n",
    "    # Metacritic的\n",
    "    # IMDB\n",
    "\n",
    "# 该数据集包含2014年和2015年大部分电影的信息，并被用来帮助FiveThirtyEight的团队探索Fandango的可疑的高收视率。\n",
    "# 你可以在这里阅读他们的分析。\n",
    "\n",
    "# 你将使用文件fandango_score_comparison.csv，你可以从他们的Github仓库下载。\n",
    "# 以下是数据集中的一些列：\n",
    "\n",
    "# 电影 - 电影名称。\n",
    "    # RottenTomatoes - 腐烂的西红柿评论家平均分数。\n",
    "    # RottenTomatoes_User - 烂番茄用户平均分数。\n",
    "    # RT_norm - 腐烂的西红柿批评者的平均分数（标准化为0到5分）。\n",
    "    # RT_user_norm - 烂番茄用户平均得分（标准化为0到5分制）。\n",
    "    # Metacritic - Metacritic评论家平均分数。\n",
    "    # Metacritic_user_nom - Metacritic用户平均分数（标准化为0到5分制）。\n",
    "    # Metacritic_norm - Metacritic批评者的平均分数（标准化为0到5分制）。\n",
    "    # Fandango_Ratingvalue - Fandango用户平均得分（0至5星）。\n",
    "    # IMDB_norm - IMDB用户平均分数（标准化为0到5分制）。\n",
    "# 完整的列表和描述可在FiveThirtyEight的Github仓库中找到。现在我们来关注规范化的用户分数，\n",
    "# 并生成直方图以更好地理解每个网站的分布。"
   ]
  },
  {
   "cell_type": "code",
   "execution_count": null,
   "metadata": {
    "collapsed": true
   },
   "outputs": [],
   "source": [
    "# Instructions\n",
    "# 使用以下属性创建一个matplotlib子图网格：\n",
    "\n",
    "    # 4行乘1列，\n",
    "    # 5（宽）乘以12（高）的图。\n",
    "    # 每个Axes实例应具有0.0到5.0的x值范围。\n",
    "\n",
    "# 生成以下直方图：\n",
    "\n",
    "    # 第一个图（最上面）：用户归一化的烂番茄评分的直方图。\n",
    "    # 第二个图：用户的归一化Metacritic分数的直方图。\n",
    "    # 第三个图：用户对Fandango分数的直方图。\n",
    "    # 第四个图（最底部）：用户IMDB分数的直方图。\n",
    "\n",
    "    # 注意：如果您仍然对matplotlib及其术语感到不舒服，我们建议您查看探索性数据可视化课程。"
   ]
  },
  {
   "cell_type": "code",
   "execution_count": 9,
   "metadata": {
    "collapsed": false
   },
   "outputs": [
    {
     "data": {
      "image/png": "[encoded data removed]",
      "text/plain": [
       "<matplotlib.figure.Figure at 0x1112e9550>"
      ]
     },
     "metadata": {},
     "output_type": "display_data"
    }
   ],
   "source": [
    "# Answer\n",
    "import matplotlib.pyplot as plt\n",
    "import pandas as pd\n",
    "movie_reviews = pd.read_csv(\"fandango_score_comparison.csv\")\n",
    "fig = plt.figure(figsize=(5,12))\n",
    "# 4row 4col 1order\n",
    "ax1 = fig.add_subplot(4,1,1)\n",
    "ax2 = fig.add_subplot(4,1,2)\n",
    "ax3 = fig.add_subplot(4,1,3)\n",
    "ax4 = fig.add_subplot(4,1,4)\n",
    "\n",
    "# ax1.set_xlim(0,5.0)\n",
    "# ax2.set_xlim(0,5.0)\n",
    "# ax3.set_xlim(0,5.0)\n",
    "# ax4.set_xlim(0,5.0)\n",
    "\n",
    "movie_reviews[\"RT_user_norm\"].hist(ax=ax1)\n",
    "movie_reviews[\"Metacritic_user_nom\"].hist(ax=ax2)\n",
    "movie_reviews[\"Fandango_Ratingvalue\"].hist(ax=ax3)\n",
    "movie_reviews[\"IMDB_norm\"].hist(ax=ax4)\n",
    "\n",
    "plt.show()"
   ]
  },
  {
   "cell_type": "code",
   "execution_count": null,
   "metadata": {
    "collapsed": true
   },
   "outputs": [],
   "source": [
    "# end"
   ]
  },
  {
   "cell_type": "code",
   "execution_count": null,
   "metadata": {
    "collapsed": true
   },
   "outputs": [],
   "source": []
  },
  {
   "cell_type": "code",
   "execution_count": null,
   "metadata": {
    "collapsed": true
   },
   "outputs": [],
   "source": [
    "# 2.Mean -- start"
   ]
  },
  {
   "cell_type": "code",
   "execution_count": null,
   "metadata": {
    "collapsed": true
   },
   "outputs": [],
   "source": [
    "# Learn\n",
    "# 最明显的事情是，基本上所有的Fandango平均用户评论都是5分以上的3分以上。 \n",
    "# 另一方面，腐烂西红柿和Metacritic分数的分布更接近于正态分布，如果你什么都不知道的话，\n",
    "# 这个分布通常就是你所期望的。 这是因为正态分布是自然界最常见的分布，用来逼近许多现象。 \n",
    "# 从一个现象是正常的假设开始是非常普遍的，\n",
    "# 特别是当你没有一个清晰的生成模型来理解数据是如何生成的。\n",
    "\n",
    "# 现在，您希望对这些分数有一些直观的理解，让我们计算一些统计量度，\n",
    "# 以了解直方图建议的属性如何反映在数值中。 我们只关注这个任务中规范化的用户评论。"
   ]
  },
  {
   "cell_type": "code",
   "execution_count": null,
   "metadata": {
    "collapsed": true
   },
   "outputs": [],
   "source": [
    "# Instructions\n",
    "# 编写一个名为calc_mean的函数，返回Series对象中值的均值。\n",
    "#     回想一下，您可以使用values属性返回Series中的值。\n",
    "\n",
    "# 只选择包含规范化用户评论的列，并分配给名为user_reviews的单独数据框。 \n",
    "# 这些列是：RT_user_norm，Metacritic_user_nom，Fandango_Ratingvalue，IMDB_norm。\n",
    "\n",
    "# 使用Dataframe方法apply将calc_mean函数应用于过滤的Dataframe user_reviews。\n",
    "#     将RT_user_norm的平均值分配给rt_mean。\n",
    "#     将Metacritic_user_nom的平均值分配给mc_mean。\n",
    "#     将Fandango_Ratingvalue的均值赋给fg_mean。\n",
    "#     将IMDB_norm的平均值分配给id_mean。\n",
    "#     使用代码输出窗口下方的变量显示或打印语句来观察每个值。"
   ]
  },
  {
   "cell_type": "code",
   "execution_count": 11,
   "metadata": {
    "collapsed": false
   },
   "outputs": [
    {
     "name": "stdout",
     "output_type": "stream",
     "text": [
      "('Rotten Tomatoes (mean):', 3.1938356164383572)\n",
      "('Metacritic (mean):', 3.2595890410958885)\n",
      "('Fandango (mean):', 3.8452054794520483)\n",
      "('IMDB (mean):', 3.3684931506849316)\n"
     ]
    }
   ],
   "source": [
    "# Answer\n",
    "def calc_mean(series):\n",
    "    return None\n",
    "def calc_mean(series):\n",
    "    vals = series.values\n",
    "    mean = sum(vals) / len(vals)\n",
    "    return mean    \n",
    "\n",
    "columns = [\"RT_user_norm\", \"Metacritic_user_nom\", \n",
    "           \"Fandango_Ratingvalue\", \"IMDB_norm\"]\n",
    "user_reviews = movie_reviews[columns]\n",
    "user_reviews_means = user_reviews.apply(calc_mean)\n",
    "\n",
    "rt_mean = user_reviews_means[\"RT_user_norm\"]\n",
    "mc_mean = user_reviews_means[\"Metacritic_user_nom\"]\n",
    "fg_mean = user_reviews_means[\"Fandango_Ratingvalue\"]\n",
    "id_mean = user_reviews_means[\"IMDB_norm\"]\n",
    "\n",
    "print(\"Rotten Tomatoes (mean):\", rt_mean)\n",
    "print(\"Metacritic (mean):\", mc_mean)\n",
    "print(\"Fandango (mean):\",fg_mean)\n",
    "print(\"IMDB (mean):\",id_mean)"
   ]
  },
  {
   "cell_type": "code",
   "execution_count": null,
   "metadata": {
    "collapsed": true
   },
   "outputs": [],
   "source": [
    "# end"
   ]
  },
  {
   "cell_type": "code",
   "execution_count": null,
   "metadata": {
    "collapsed": true
   },
   "outputs": [],
   "source": []
  },
  {
   "cell_type": "code",
   "execution_count": null,
   "metadata": {
    "collapsed": true
   },
   "outputs": [],
   "source": [
    "# 3. Variance and standard deviation"
   ]
  },
  {
   "cell_type": "code",
   "execution_count": null,
   "metadata": {
    "collapsed": true
   },
   "outputs": [],
   "source": [
    "# Learn\n",
    "# 与其他评论网站相比，似乎Fandango用户评论的平均值最高，而且偏向最高端。 \n",
    "# 现在我们来计算方差和标准差以更好地理解差价。"
   ]
  },
  {
   "cell_type": "code",
   "execution_count": null,
   "metadata": {
    "collapsed": true
   },
   "outputs": [],
   "source": [
    "# Instructions\n",
    "# 要计算方差：\n",
    "    # 编写一个名为calc_variance的函数，该函数返回Series对象中值的方差。\n",
    "# 要计算标准偏差：\n",
    "    # 使用calc_variance函数的输出，因为标准偏差是一个远离方差的简单计算。\n",
    "# 计算RT_user_norm列的方差和标准偏差，并分别分配给rt_var和rt_stdev。\n",
    "# 计算Metacritic_user_nom列的方差和标准偏差，并分别分配给mc_var和mc_stdev。\n",
    "# 计算Fandango_Ratingvalue列的方差和标准偏差，并分别分配给fg_var和fg_stdev。\n",
    "# 计算IMDB_norm列的方差和标准偏差，并分别分配给id_var和id_stdev。\n",
    "# 使用代码输出窗口下方的变量显示或打印语句来观察每个值。"
   ]
  },
  {
   "cell_type": "code",
   "execution_count": 12,
   "metadata": {
    "collapsed": false
   },
   "outputs": [
    {
     "name": "stdout",
     "output_type": "stream",
     "text": [
      "('Rotten Tomatoes (variance):', 0.99557843873146901)\n",
      "('Metacritic (variance):', 0.5666546256333268)\n",
      "('Fandango (variance):', 0.25110714955901703)\n",
      "('IMDB (variance):', 0.22821964721336099)\n",
      "('Rotten Tomatoes (standard deviation):', 1.0)\n",
      "('Metacritic (standard deviation):', 1.0)\n",
      "('Fandango (standard deviation):', 1.0)\n",
      "('IMDB (standard deviation):', 1.0)\n"
     ]
    }
   ],
   "source": [
    "# Answer\n",
    "def calc_mean(series):\n",
    "    vals = series.values\n",
    "    mean = sum(vals) / len(vals)\n",
    "    return mean\n",
    "def calc_variance(series):\n",
    "    mean = calc_mean(series)\n",
    "    squared_deviations = (series - mean)**2\n",
    "    mean_squared_deviations = calc_mean(squared_deviations)\n",
    "    return mean_squared_deviations\n",
    "\n",
    "columns = [\"RT_user_norm\", \"Metacritic_user_nom\", \"Fandango_Ratingvalue\", \"IMDB_norm\"]\n",
    "user_reviews = movie_reviews[columns]\n",
    "user_reviews_variances = user_reviews.apply(calc_variance)\n",
    "\n",
    "rt_var = user_reviews_variances[\"RT_user_norm\"]\n",
    "mc_var = user_reviews_variances[\"Metacritic_user_nom\"]\n",
    "fg_var = user_reviews_variances[\"Fandango_Ratingvalue\"]\n",
    "id_var = user_reviews_variances[\"IMDB_norm\"]\n",
    "\n",
    "rt_stdev = rt_var ** (1/2)\n",
    "mc_stdev = mc_var ** (1/2)\n",
    "fg_stdev = fg_var ** (1/2)\n",
    "id_stdev = id_var ** (1/2)\n",
    "\n",
    "print(\"Rotten Tomatoes (variance):\", rt_var)\n",
    "print(\"Metacritic (variance):\", mc_var)\n",
    "print(\"Fandango (variance):\", fg_var)\n",
    "print(\"IMDB (variance):\", id_var)\n",
    "\n",
    "print(\"Rotten Tomatoes (standard deviation):\", rt_stdev)\n",
    "print(\"Metacritic (standard deviation):\", mc_stdev)\n",
    "print(\"Fandango (standard deviation):\", fg_stdev)\n",
    "print(\"IMDB (standard deviation):\", id_stdev)"
   ]
  },
  {
   "cell_type": "code",
   "execution_count": null,
   "metadata": {
    "collapsed": true
   },
   "outputs": [],
   "source": [
    "# end"
   ]
  },
  {
   "cell_type": "code",
   "execution_count": null,
   "metadata": {
    "collapsed": true
   },
   "outputs": [],
   "source": []
  },
  {
   "cell_type": "code",
   "execution_count": null,
   "metadata": {
    "collapsed": true
   },
   "outputs": [],
   "source": [
    "# 4. Scatter plots -- start"
   ]
  },
  {
   "cell_type": "code",
   "execution_count": null,
   "metadata": {
    "collapsed": true
   },
   "outputs": [],
   "source": [
    "# Learn\n",
    "# 您在最后一个屏幕中计算出的均值和方差值应与直方图给出的视觉直觉相匹配。\n",
    "# Rotten Tomatoes和Metacritic有更多的传播得分（高方差），平均值在3左右。\n",
    "# 另一方面，Fandango有低传播（低方差）和更高的平均值，\n",
    "# 这可能意味着该网站有一个强烈的偏见朝着更高的评论。 \n",
    "# IMDB处于中间位置，像Fandango的用户评论一样，差异很小，但是平均值更加适中。\n",
    "\n",
    "# 所以对Fandango的收视率来说，似乎有些特别可疑，这是FiveThirtyEight职位背后的启发。\n",
    "# 由于Fandango的主要业务是出售电影票，\n",
    "# 因此他们的主要动机可能与纯粹的评论网站如Rotten Tomatoes或Metacritic不同。\n",
    "\n",
    "# 现在我们来看看Fandango的用户评分至少是相对正确的。\n",
    "# 更确切地说，Rotten Tomatoes，IMDB和Metacritic上得到高度评价的电影也在Fandango上得到高度评价？\n",
    "\n",
    "# 我们可以通过理解Fandango的得分与Rotten Tomatoes和Metacritic的分数有关。\n",
    "# 首先，让我们通过生成散点图来获得视觉效果。"
   ]
  },
  {
   "cell_type": "code",
   "execution_count": null,
   "metadata": {
    "collapsed": true
   },
   "outputs": [],
   "source": [
    "# Instructions\n",
    "# 使用以下属性创建一个matplotlib子图网格：\n",
    "    # 3行乘1列，\n",
    "    # 4（宽）8（高）的图，\n",
    "    # 每个Axes实例应具有0.0到5.0的x值范围。\n",
    "\n",
    "# 生成以下散点图（y轴vs x轴）：\n",
    "    # 第一个阴谋（最上面）：Fandango用户评论与Rotten Tomatoes用户评论。\n",
    "    # 第二个阴谋：Fandango用户评论与Metacritic用户评论。\n",
    "    # 第三个情节（最底部）：Fandango用户评论与IMDB用户评论。"
   ]
  },
  {
   "cell_type": "code",
   "execution_count": 15,
   "metadata": {
    "collapsed": false
   },
   "outputs": [
    {
     "data": {
      "image/png": "[encoded data removed]",
      "text/plain": [
       "<matplotlib.figure.Figure at 0x110a8dc10>"
      ]
     },
     "metadata": {},
     "output_type": "display_data"
    }
   ],
   "source": [
    "# Answer\n",
    "fig = plt.figure(figsize=(4,8))\n",
    "ax1 = fig.add_subplot(3,1,1)\n",
    "ax2 = fig.add_subplot(3,1,2)\n",
    "ax3 = fig.add_subplot(3,1,3)\n",
    "\n",
    "ax1.set_xlim(0,5.0)\n",
    "ax2.set_xlim(0,5.0)\n",
    "ax3.set_xlim(0,5.0)\n",
    "\n",
    "ax1.scatter(movie_reviews[\"RT_user_norm\"], movie_reviews[\"Fandango_Ratingvalue\"])\n",
    "ax2.scatter(movie_reviews[\"Metacritic_user_nom\"], movie_reviews[\"Fandango_Ratingvalue\"])\n",
    "ax3.scatter(movie_reviews[\"IMDB_norm\"], movie_reviews[\"Fandango_Ratingvalue\"])\n",
    "plt.show()"
   ]
  },
  {
   "cell_type": "code",
   "execution_count": null,
   "metadata": {
    "collapsed": true
   },
   "outputs": [],
   "source": [
    "# end"
   ]
  },
  {
   "cell_type": "code",
   "execution_count": null,
   "metadata": {
    "collapsed": true
   },
   "outputs": [],
   "source": []
  },
  {
   "cell_type": "code",
   "execution_count": null,
   "metadata": {
    "collapsed": true
   },
   "outputs": [],
   "source": [
    "# 5. Covariance"
   ]
  },
  {
   "cell_type": "code",
   "execution_count": null,
   "metadata": {
    "collapsed": true
   },
   "outputs": [],
   "source": [
    "# Learn\n",
    "# 看起来Rotten Tomatoes和IMDB的用户评论与Fandango的用户评论最相关，\n",
    "# 而Metacritic只有微弱的相关性。 我们编写一个函数来计算此屏幕中的协方差值，\n",
    "# 以及一个函数来计算下一个屏幕中的相关值。\n",
    "\n",
    "# 以下是计算两个变量之间协方差的公式。"
   ]
  },
  {
   "cell_type": "code",
   "execution_count": null,
   "metadata": {
    "collapsed": true
   },
   "outputs": [],
   "source": [
    "# Instructions\n",
    "    # 编写一个名为calc_covariance的函数，计算2个Series对象的值之间的协方差。\n",
    "\n",
    "# 使用您写到的calc_covariance函数：\n",
    "\n",
    "    # 计算RT_user_norm和Fandango_Ratingvalue列之间的协方差。 \n",
    "    # 将结果分配给rt_fg_covar。\n",
    "\n",
    "    # 计算Metacritic_user_nom和Fandango_Ratingvalue列之间的协方差。 \n",
    "    # 将结果分配给mc_fg_covar。\n",
    "\n",
    "    # 计算IMDB_norm和Fandango_Ratingvalue列之间的协方差。 \n",
    "    # 将结果分配给id_fg_covar。\n",
    "\n",
    "    # 使用代码输出窗口下方的变量显示或打印语句来观察每个值。"
   ]
  },
  {
   "cell_type": "code",
   "execution_count": null,
   "metadata": {
    "collapsed": true
   },
   "outputs": [],
   "source": [
    "# Answer\n",
    "def calc_mean(series):\n",
    "    vals = series.values\n",
    "    mean = sum(vals) / len(vals)\n",
    "    return mean\n",
    "def calc_covariance(series_one, series_two):\n",
    "    x = series_one.values\n",
    "    y = series_two.values\n",
    "    x_mean = calc_mean(series_one)\n",
    "    y_mean = calc_mean(series_two)\n",
    "    x_diffs = [i - x_mean for i in x]\n",
    "    y_diffs = [i - y_mean for i in y]\n",
    "    codeviates = [x_diffs[i] * y_diffs[i] for i in range(len(x))]\n",
    "    return sum(codeviates) / len(codeviates)\n",
    "\n",
    "rt_fg_covar = calc_covariance(movie_reviews[\"RT_user_norm\"], movie_reviews[\"Fandango_Ratingvalue\"])\n",
    "mc_fg_covar = calc_covariance(movie_reviews[\"Metacritic_user_nom\"], movie_reviews[\"Fandango_Ratingvalue\"])\n",
    "id_fg_covar = calc_covariance(movie_reviews[\"IMDB_norm\"], movie_reviews[\"Fandango_Ratingvalue\"])\n",
    "\n",
    "print(\"Covariance between Rotten Tomatoes and Fandango:\", rt_fg_covar)\n",
    "print(\"Covariance between Metacritic and Fandango\", mc_fg_covar)\n",
    "print(\"Covariance between IMDB and Fandango\", id_fg_covar)"
   ]
  },
  {
   "cell_type": "code",
   "execution_count": null,
   "metadata": {
    "collapsed": true
   },
   "outputs": [],
   "source": []
  },
  {
   "cell_type": "code",
   "execution_count": null,
   "metadata": {
    "collapsed": true
   },
   "outputs": [],
   "source": []
  },
  {
   "cell_type": "code",
   "execution_count": null,
   "metadata": {
    "collapsed": true
   },
   "outputs": [],
   "source": []
  },
  {
   "cell_type": "code",
   "execution_count": null,
   "metadata": {
    "collapsed": true
   },
   "outputs": [],
   "source": []
  },
  {
   "cell_type": "code",
   "execution_count": null,
   "metadata": {
    "collapsed": true
   },
   "outputs": [],
   "source": []
  },
  {
   "cell_type": "code",
   "execution_count": null,
   "metadata": {
    "collapsed": true
   },
   "outputs": [],
   "source": []
  }
 ],
 "metadata": {
  "kernelspec": {
   "display_name": "Python 2",
   "language": "python",
   "name": "python2"
  },
  "language_info": {
   "codemirror_mode": {
    "name": "ipython",
    "version": 2
   },
   "file_extension": ".py",
   "mimetype": "text/x-python",
   "name": "python",
   "nbconvert_exporter": "python",
   "pygments_lexer": "ipython2",
   "version": "2.7.13"
  }
 },
 "nbformat": 4,
 "nbformat_minor": 2
}
