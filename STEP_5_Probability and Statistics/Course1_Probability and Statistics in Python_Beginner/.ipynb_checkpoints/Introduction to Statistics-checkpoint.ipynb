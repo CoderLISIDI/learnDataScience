{
 "cells": [
  {
   "cell_type": "code",
   "execution_count": null,
   "metadata": {
    "collapsed": true
   },
   "outputs": [],
   "source": [
    "# 1.Introduction to Scales -- start\n",
    "# Learn\n",
    "# 统计的核心是计数和计量。\n",
    "# 为了有效地做到这一点，我们必须定义量表来确定我们的计数。 量表代表变量可能具有的可能值。\n",
    "\n",
    "# #等间隔标度#\n",
    "# 相等的间隔尺度总是一致的。\n",
    "\n",
    "# 想想汽车的速度。 无论您乘坐哪种速度，每小时五英里的速度总是每小时五英里。\n",
    "\n",
    "# 每小时60英里和55英里之间的差值总是等于每小时10英里和5英里之间的差值。"
   ]
  },
  {
   "cell_type": "code",
   "execution_count": null,
   "metadata": {
    "collapsed": true
   },
   "outputs": [],
   "source": [
    "# #对数尺度#\n",
    "\n",
    "# 对数刻度上的每一步代表不同的数量级。 例如，测量地震强度的里氏震级是一个对数尺度。\n",
    "\n",
    "# 里氏5级和6级之间的差异大于4级和5级之间的差异。这是因为里氏规模的每个数字代表前一个数字的振幅的10倍。\n",
    "\n",
    "# 里氏6级的强度（技术上说，强度是错误的术语，但它使得思考更容易）比5强大10倍，5比4强大10倍。\n",
    "# 6比4强100倍。\n",
    "\n",
    "# 我们可以通过加上这些值来计算等间隔尺度上的值的均值，然后除以值的总数。\n",
    "\n",
    "# 我们也可以对非等间隔的数值做同样的处理，但是由于单位之间的差异，结果不会有意义。"
   ]
  },
  {
   "cell_type": "code",
   "execution_count": null,
   "metadata": {
    "collapsed": true
   },
   "outputs": [],
   "source": [
    "# Instructions\n",
    "# 计算car_speeds的平均值，并将结果分配给mean_car_speed。\n",
    "\n",
    "# 计算地震的平均值，\n",
    "# 并将结果分配给mean_earthquake_intensities。\n",
    "# 请注意，这个值不会有意义，\n",
    "# 因为我们不应该用对数的方式来平均值。"
   ]
  },
  {
   "cell_type": "code",
   "execution_count": 3,
   "metadata": {
    "collapsed": false
   },
   "outputs": [
    {
     "name": "stdout",
     "output_type": "stream",
     "text": [
      "26\n",
      "5\n"
     ]
    }
   ],
   "source": [
    "#Answer\n",
    "car_speeds = [10,20,30,50,20]\n",
    "earthquake_intensities = [2,7,4,5,8]\n",
    "mean_car_speed = sum(car_speeds) / len(car_speeds)\n",
    "mean_earthquake_intensities = sum(earthquake_intensities) / len(earthquake_intensities)\n",
    "print(mean_car_speed)\n",
    "print(mean_earthquake_intensities)"
   ]
  },
  {
   "cell_type": "code",
   "execution_count": null,
   "metadata": {
    "collapsed": true
   },
   "outputs": [],
   "source": [
    "# end"
   ]
  },
  {
   "cell_type": "code",
   "execution_count": null,
   "metadata": {
    "collapsed": true
   },
   "outputs": [],
   "source": []
  },
  {
   "cell_type": "code",
   "execution_count": null,
   "metadata": {
    "collapsed": true
   },
   "outputs": [],
   "source": [
    "# 2.DisCrete and Continuous Scales -- start"
   ]
  },
  {
   "cell_type": "code",
   "execution_count": null,
   "metadata": {
    "collapsed": true
   },
   "outputs": [],
   "source": [
    "# Learn\n",
    "# 尺度可以是离散的或连续的。\n",
    "\n",
    "# 想想一个人每天要爬上蜗牛的英寸数。 蜗牛爬行1英寸，2英寸，1.5英寸，1.51英寸，\n",
    "# 或任何其他数字，这将是一个有效的观察。 这是因为英寸是连续的，甚至可能是几分之一英寸。\n",
    "\n",
    "# 现在想想一个人每天在一个停车场里计算汽车的数量。 \n",
    "# 1辆车，2辆车和10辆车是有效的测量，但1.5车是无效的。\n",
    "\n",
    "# 汽车的一半不是有意义的数量，因为汽车是离散的。 \n",
    "# 你不能有52％的车 - 你要么有车，要么没有。\n",
    "\n",
    "# 尽管如此，你仍然可以在离散的尺度上平均物品。 \n",
    "# 你可以说“平均每天有1.75辆车使用这个停车场”。 \n",
    "# 但是，任何汽车数量的每日价值都需要是一个整数。"
   ]
  },
  {
   "cell_type": "code",
   "execution_count": null,
   "metadata": {
    "collapsed": true
   },
   "outputs": [],
   "source": [
    "# Instructions\n",
    "Make a line plot with day_numbers on the x axis \n",
    "and snail_crawl_length on the y axis.\n",
    "\n",
    "Make a line plot with day_numbers on the x axis \n",
    "and cars_in_parking_lot on the y axis."
   ]
  },
  {
   "cell_type": "code",
   "execution_count": 5,
   "metadata": {
    "collapsed": false
   },
   "outputs": [
    {
     "data": {
      "image/png": "[encoded data removed]",
      "text/plain": [
       "<matplotlib.figure.Figure at 0x10bf8f4d0>"
      ]
     },
     "metadata": {},
     "output_type": "display_data"
    },
    {
     "data": {
      "image/png": "[encoded data removed]",
      "text/plain": [
       "<matplotlib.figure.Figure at 0x10c0f6d50>"
      ]
     },
     "metadata": {},
     "output_type": "display_data"
    }
   ],
   "source": [
    "#Answer\n",
    "day_numbers = [1,2,3,4,5,6,7]\n",
    "snail_crawl_length = [.5,2,5,10,1,.25,4]\n",
    "cars_in_parking_lot = [5,6,4,2,1,7,8]\n",
    "\n",
    "import matplotlib.pyplot as plt\n",
    "plt.plot(day_numbers, snail_crawl_length)\n",
    "plt.show()\n",
    "plt.plot(day_numbers, cars_in_parking_lot)\n",
    "plt.show()"
   ]
  },
  {
   "cell_type": "code",
   "execution_count": null,
   "metadata": {
    "collapsed": true
   },
   "outputs": [],
   "source": [
    "# end"
   ]
  },
  {
   "cell_type": "code",
   "execution_count": null,
   "metadata": {
    "collapsed": true
   },
   "outputs": [],
   "source": []
  },
  {
   "cell_type": "code",
   "execution_count": null,
   "metadata": {
    "collapsed": true
   },
   "outputs": [],
   "source": [
    "# 3.Understanding Scale Starting Points -- start"
   ]
  },
  {
   "cell_type": "code",
   "execution_count": null,
   "metadata": {
    "collapsed": true
   },
   "outputs": [],
   "source": [
    "# Learn\n",
    "# 一些量度以不同的方式使用零值。 想想停车场里的汽车数量。\n",
    "\n",
    "# 在这个地段的零车意味着完全没有汽车，所以绝对零是0车。 你不能有负数的车。\n",
    "\n",
    "# 现在想想华氏度。\n",
    "\n",
    "# 零度并不意味着没有温暖; 度规模也可以是负的，绝对零度（根本没有温度）是-459.67度。\n",
    "\n",
    "# 绝对零点不等于零的比例不能使我们采取有意义的比率。 \n",
    "# 举例来说，如果昨天有四辆车停在这个地段，而今天有八个停在这，\n",
    "# 我可以肯定地说，今天这个地段有两倍的车。\n",
    "\n",
    "# 不过，如果说昨天是华氏32度，今天是64度，我不能说今天比昨天Instructions温暖两倍。"
   ]
  },
  {
   "cell_type": "code",
   "execution_count": null,
   "metadata": {
    "collapsed": true
   },
   "outputs": [],
   "source": [
    "# Instructions\n",
    "# 转换fahrenheit_degrees中的值，以便绝对零值为0.\n",
    "# 如果您认为情况已经如此，则不要更改任何内容。 将结果分配给degrees_zero。\n",
    "\n",
    "# 转换monthly_town_population中的值，以便绝对零值为0.\n",
    "# 如果您认为已经如此，请不要更改任何内容。 将结果分配给population_zero。"
   ]
  },
  {
   "cell_type": "code",
   "execution_count": null,
   "metadata": {
    "collapsed": true
   },
   "outputs": [],
   "source": [
    "#Answer\n",
    "fahrenheit_degrees = [32, 64, 78, 102]\n",
    "yearly_town_population = [100,102,103,110,105,120]\n",
    "population_zero = yearly_town_population\n",
    "degrees_zero = [f + 459.67 for f in fahrenheit_degrees]"
   ]
  },
  {
   "cell_type": "code",
   "execution_count": null,
   "metadata": {
    "collapsed": true
   },
   "outputs": [],
   "source": [
    "# end"
   ]
  },
  {
   "cell_type": "code",
   "execution_count": null,
   "metadata": {
    "collapsed": true
   },
   "outputs": [],
   "source": []
  },
  {
   "cell_type": "code",
   "execution_count": null,
   "metadata": {
    "collapsed": true
   },
   "outputs": [],
   "source": [
    "# 4.Working With Ordinal Scales -- start"
   ]
  },
  {
   "cell_type": "code",
   "execution_count": null,
   "metadata": {
    "collapsed": true
   },
   "outputs": [],
   "source": [
    "# Learn\n",
    "# 到目前为止，我们已经看到了等间隔和离散的尺度，其中所有的值都是数字。 \n",
    "# 我们也可以有序数量级，其中物品按等级排序。\n",
    "\n",
    "# 例如，我们可以询问人们每天吸多少支香烟，答案可能是“无”，“少”，“一些”或“很多”。 \n",
    "# 这些答案并不完全符合香烟的数字，但我们知道“少数”比“没有”多。\n",
    "\n",
    "# 这是一个有序的评级量表。 我们可以按照逻辑顺序为答案分配数字，以便于处理。\n",
    "\n",
    "# 例如，我们可以将0映射到“无”，1映射到“一些”，2映射到“一些”等等。"
   ]
  },
  {
   "cell_type": "code",
   "execution_count": null,
   "metadata": {
    "collapsed": true
   },
   "outputs": [],
   "source": [
    "# Instructions\n",
    "# 在下面的代码块中，为每个调查回答分配一个数字，\n",
    "# 该数字对应于其在量度上的位置（“无”是0，依此类推）。\n",
    "\n",
    "# 计算所有调查回答的平均值，并将其分配给average_smoking。"
   ]
  },
  {
   "cell_type": "code",
   "execution_count": 6,
   "metadata": {
    "collapsed": false
   },
   "outputs": [
    {
     "name": "stdout",
     "output_type": "stream",
     "text": [
      "[0, 2, 3, 0, 1, 0, 0]\n",
      "0\n"
     ]
    }
   ],
   "source": [
    "# Results from our survey on how many cigarettes people smoke per day\n",
    "survey_responses = [\"none\", \"some\", \"a lot\", \"none\", \"a few\", \"none\", \"none\"]\n",
    "survey_scale = [\"none\", \"a few\", \"some\", \"a lot\"]\n",
    "survey_numbers = [survey_scale.index(response) for response in survey_responses]\n",
    "average_smoking = sum(survey_numbers) / len(survey_numbers)\n",
    "print(survey_numbers)\n",
    "print(average_smoking)"
   ]
  },
  {
   "cell_type": "code",
   "execution_count": null,
   "metadata": {
    "collapsed": true
   },
   "outputs": [],
   "source": [
    "# end"
   ]
  },
  {
   "cell_type": "code",
   "execution_count": null,
   "metadata": {
    "collapsed": true
   },
   "outputs": [],
   "source": []
  },
  {
   "cell_type": "code",
   "execution_count": null,
   "metadata": {
    "collapsed": true
   },
   "outputs": [],
   "source": [
    "# 5.Grouping Values with Categorical Scales -- start"
   ]
  },
  {
   "cell_type": "code",
   "execution_count": null,
   "metadata": {
    "collapsed": true
   },
   "outputs": [],
   "source": [
    "# Learn\n",
    "# 我们也可以有分类的尺度，这些尺度将价值归类为一般类别。\n",
    "\n",
    "# 一个例子是性别，可以是男性或女性。\n",
    "\n",
    "# 与序数标度不同，分类标度没有顺序。 \n",
    "# 例如，在我们的性别例子中，一个类别不大于或小于另一个。\n",
    "\n",
    "# 分类在数据科学中很常见。 您通常会使用它们将数据拆分成组。"
   ]
  },
  {
   "cell_type": "code",
   "execution_count": null,
   "metadata": {
    "collapsed": true
   },
   "outputs": [],
   "source": [
    "# Instructions\n",
    "# 计算每个“男性”的平均储蓄。 将结果分配给male_savings。\n",
    "\n",
    "# 计算每个“女性”的平均储蓄。 将结果分配给female_savings。"
   ]
  },
  {
   "cell_type": "code",
   "execution_count": null,
   "metadata": {
    "collapsed": true
   },
   "outputs": [],
   "source": [
    "# Answer\n",
    "# Let's say that these lists are both columns in a matrix.  Index 0 is the first row in both, and so on.\n",
    "gender = [\"male\", \"female\", \"female\", \"male\", \"male\", \"female\"]\n",
    "savings = [1200, 5000, 3400, 2400, 2800, 4100]\n",
    "\n",
    "male_savings_list = [savings[i] for i in range(0, len(gender)) if gender[i] == \"male\"]\n",
    "female_savings_list = [savings[i] for i in range(0, len(gender)) if gender[i] == \"female\"]\n",
    "\n",
    "male_savings = sum(male_savings_list) / len(male_savings_list)\n",
    "female_savings = sum(female_savings_list) / len(female_savings_list)\n"
   ]
  },
  {
   "cell_type": "code",
   "execution_count": null,
   "metadata": {
    "collapsed": true
   },
   "outputs": [],
   "source": [
    "# end"
   ]
  },
  {
   "cell_type": "code",
   "execution_count": null,
   "metadata": {
    "collapsed": true
   },
   "outputs": [],
   "source": []
  },
  {
   "cell_type": "code",
   "execution_count": null,
   "metadata": {
    "collapsed": true
   },
   "outputs": [],
   "source": [
    "# 6.Visualizing Counts with Frequency Histograms -- start"
   ]
  },
  {
   "cell_type": "code",
   "execution_count": null,
   "metadata": {
    "collapsed": true
   },
   "outputs": [],
   "source": [
    "# Learn\n",
    "# 还记得统计数字是如何计算的吗？ 频率直方图是一种可帮助我们可视化数据计数的图表类型。\n",
    "\n",
    "# 这些曲线相符的每个值在一个列表中出现的次数，然后绘制在y轴上的x轴的值和计数。\n",
    "\n",
    "# 频率直方图使我们更好地理解数据集中的值。"
   ]
  },
  {
   "cell_type": "code",
   "execution_count": null,
   "metadata": {
    "collapsed": true
   },
   "outputs": [],
   "source": [
    "# Instructions\n",
    "# Plot a histogram of student_scores."
   ]
  },
  {
   "cell_type": "code",
   "execution_count": 8,
   "metadata": {
    "collapsed": false
   },
   "outputs": [
    {
     "data": {
      "image/png": "[encoded data removed]",
      "text/plain": [
       "<matplotlib.figure.Figure at 0x10c1e3d90>"
      ]
     },
     "metadata": {},
     "output_type": "display_data"
    },
    {
     "data": {
      "image/png": "[encoded data removed]",
      "text/plain": [
       "<matplotlib.figure.Figure at 0x10c2d4890>"
      ]
     },
     "metadata": {},
     "output_type": "display_data"
    }
   ],
   "source": [
    "#Answer\n",
    "# Let's say that we watch cars drive by and calculate average speed in miles per hour\n",
    "average_speed = [10, 20, 25, 27, 28, 22, 15, 18, 17]\n",
    "import matplotlib.pyplot as plt\n",
    "plt.hist(average_speed)\n",
    "plt.show()\n",
    "\n",
    "# Let's say we measure student test scores from 0-100\n",
    "student_scores = [15, 80, 95, 100, 45, 75, 65]\n",
    "plt.hist(student_scores)\n",
    "plt.show()"
   ]
  },
  {
   "cell_type": "code",
   "execution_count": null,
   "metadata": {
    "collapsed": true
   },
   "outputs": [],
   "source": []
  },
  {
   "cell_type": "code",
   "execution_count": null,
   "metadata": {
    "collapsed": true
   },
   "outputs": [],
   "source": []
  },
  {
   "cell_type": "code",
   "execution_count": null,
   "metadata": {
    "collapsed": true
   },
   "outputs": [],
   "source": []
  },
  {
   "cell_type": "code",
   "execution_count": null,
   "metadata": {
    "collapsed": true
   },
   "outputs": [],
   "source": []
  },
  {
   "cell_type": "code",
   "execution_count": null,
   "metadata": {
    "collapsed": true
   },
   "outputs": [],
   "source": []
  }
 ],
 "metadata": {
  "kernelspec": {
   "display_name": "Python 2",
   "language": "python",
   "name": "python2"
  },
  "language_info": {
   "codemirror_mode": {
    "name": "ipython",
    "version": 2
   },
   "file_extension": ".py",
   "mimetype": "text/x-python",
   "name": "python",
   "nbconvert_exporter": "python",
   "pygments_lexer": "ipython2",
   "version": "2.7.13"
  }
 },
 "nbformat": 4,
 "nbformat_minor": 2
}
