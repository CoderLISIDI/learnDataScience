{
 "cells": [
  {
   "cell_type": "code",
   "execution_count": null,
   "metadata": {
    "collapsed": true
   },
   "outputs": [],
   "source": [
    "# 1.Introduction to Scales -- start\n",
    "# Learn\n",
    "# 统计的核心是计数和计量。\n",
    "# 为了有效地做到这一点，我们必须定义量表来确定我们的计数。 量表代表变量可能具有的可能值。\n",
    "\n",
    "# #等间隔标度#\n",
    "# 相等的间隔尺度总是一致的。\n",
    "\n",
    "# 想想汽车的速度。 无论您乘坐哪种速度，每小时五英里的速度总是每小时五英里。\n",
    "\n",
    "# 每小时60英里和55英里之间的差值总是等于每小时10英里和5英里之间的差值。"
   ]
  },
  {
   "cell_type": "code",
   "execution_count": null,
   "metadata": {
    "collapsed": true
   },
   "outputs": [],
   "source": [
    "# #对数尺度#\n",
    "\n",
    "# 对数刻度上的每一步代表不同的数量级。 例如，测量地震强度的里氏震级是一个对数尺度。\n",
    "\n",
    "# 里氏5级和6级之间的差异大于4级和5级之间的差异。这是因为里氏规模的每个数字代表前一个数字的振幅的10倍。\n",
    "\n",
    "# 里氏6级的强度（技术上说，强度是错误的术语，但它使得思考更容易）比5强大10倍，5比4强大10倍。\n",
    "# 6比4强100倍。\n",
    "\n",
    "# 我们可以通过加上这些值来计算等间隔尺度上的值的均值，然后除以值的总数。\n",
    "\n",
    "# 我们也可以对非等间隔的数值做同样的处理，但是由于单位之间的差异，结果不会有意义。"
   ]
  },
  {
   "cell_type": "code",
   "execution_count": null,
   "metadata": {
    "collapsed": true
   },
   "outputs": [],
   "source": [
    "# Instructions\n",
    "# 计算car_speeds的平均值，并将结果分配给mean_car_speed。\n",
    "\n",
    "# 计算地震的平均值，\n",
    "# 并将结果分配给mean_earthquake_intensities。\n",
    "# 请注意，这个值不会有意义，\n",
    "# 因为我们不应该用对数的方式来平均值。"
   ]
  },
  {
   "cell_type": "code",
   "execution_count": 3,
   "metadata": {
    "collapsed": false
   },
   "outputs": [
    {
     "name": "stdout",
     "output_type": "stream",
     "text": [
      "26\n",
      "5\n"
     ]
    }
   ],
   "source": [
    "#Answer\n",
    "car_speeds = [10,20,30,50,20]\n",
    "earthquake_intensities = [2,7,4,5,8]\n",
    "mean_car_speed = sum(car_speeds) / len(car_speeds)\n",
    "mean_earthquake_intensities = sum(earthquake_intensities) / len(earthquake_intensities)\n",
    "print(mean_car_speed)\n",
    "print(mean_earthquake_intensities)"
   ]
  },
  {
   "cell_type": "code",
   "execution_count": null,
   "metadata": {
    "collapsed": true
   },
   "outputs": [],
   "source": [
    "# end"
   ]
  },
  {
   "cell_type": "code",
   "execution_count": null,
   "metadata": {
    "collapsed": true
   },
   "outputs": [],
   "source": []
  },
  {
   "cell_type": "code",
   "execution_count": null,
   "metadata": {
    "collapsed": true
   },
   "outputs": [],
   "source": [
    "# 2.DisCrete and Continuous Scales -- start"
   ]
  },
  {
   "cell_type": "code",
   "execution_count": null,
   "metadata": {
    "collapsed": true
   },
   "outputs": [],
   "source": [
    "# Learn\n",
    "# 尺度可以是离散的或连续的。\n",
    "\n",
    "# 想想一个人每天要爬上蜗牛的英寸数。 蜗牛爬行1英寸，2英寸，1.5英寸，1.51英寸，\n",
    "# 或任何其他数字，这将是一个有效的观察。 这是因为英寸是连续的，甚至可能是几分之一英寸。\n",
    "\n",
    "# 现在想想一个人每天在一个停车场里计算汽车的数量。 \n",
    "# 1辆车，2辆车和10辆车是有效的测量，但1.5车是无效的。\n",
    "\n",
    "# 汽车的一半不是有意义的数量，因为汽车是离散的。 \n",
    "# 你不能有52％的车 - 你要么有车，要么没有。\n",
    "\n",
    "# 尽管如此，你仍然可以在离散的尺度上平均物品。 \n",
    "# 你可以说“平均每天有1.75辆车使用这个停车场”。 \n",
    "# 但是，任何汽车数量的每日价值都需要是一个整数。"
   ]
  },
  {
   "cell_type": "code",
   "execution_count": null,
   "metadata": {
    "collapsed": true
   },
   "outputs": [],
   "source": [
    "# Instructions\n",
    "Make a line plot with day_numbers on the x axis \n",
    "and snail_crawl_length on the y axis.\n",
    "\n",
    "Make a line plot with day_numbers on the x axis \n",
    "and cars_in_parking_lot on the y axis."
   ]
  },
  {
   "cell_type": "code",
   "execution_count": 5,
   "metadata": {
    "collapsed": false
   },
   "outputs": [
    {
     "data": {
      "image/png": "[encoded data removed]",
      "text/plain": [
       "<matplotlib.figure.Figure at 0x10bf8f4d0>"
      ]
     },
     "metadata": {},
     "output_type": "display_data"
    },
    {
     "data": {
      "image/png": "[encoded data removed]",
      "text/plain": [
       "<matplotlib.figure.Figure at 0x10c0f6d50>"
      ]
     },
     "metadata": {},
     "output_type": "display_data"
    }
   ],
   "source": [
    "#Answer\n",
    "day_numbers = [1,2,3,4,5,6,7]\n",
    "snail_crawl_length = [.5,2,5,10,1,.25,4]\n",
    "cars_in_parking_lot = [5,6,4,2,1,7,8]\n",
    "\n",
    "import matplotlib.pyplot as plt\n",
    "plt.plot(day_numbers, snail_crawl_length)\n",
    "plt.show()\n",
    "plt.plot(day_numbers, cars_in_parking_lot)\n",
    "plt.show()"
   ]
  },
  {
   "cell_type": "code",
   "execution_count": null,
   "metadata": {
    "collapsed": true
   },
   "outputs": [],
   "source": [
    "# end"
   ]
  },
  {
   "cell_type": "code",
   "execution_count": null,
   "metadata": {
    "collapsed": true
   },
   "outputs": [],
   "source": []
  },
  {
   "cell_type": "code",
   "execution_count": null,
   "metadata": {
    "collapsed": true
   },
   "outputs": [],
   "source": [
    "# 3.Understanding Scale Starting Points -- start"
   ]
  },
  {
   "cell_type": "code",
   "execution_count": null,
   "metadata": {
    "collapsed": true
   },
   "outputs": [],
   "source": [
    "# Learn\n",
    "# 一些量度以不同的方式使用零值。 想想停车场里的汽车数量。\n",
    "\n",
    "# 在这个地段的零车意味着完全没有汽车，所以绝对零是0车。 你不能有负数的车。\n",
    "\n",
    "# 现在想想华氏度。\n",
    "\n",
    "# 零度并不意味着没有温暖; 度规模也可以是负的，绝对零度（根本没有温度）是-459.67度。\n",
    "\n",
    "# 绝对零点不等于零的比例不能使我们采取有意义的比率。 \n",
    "# 举例来说，如果昨天有四辆车停在这个地段，而今天有八个停在这，\n",
    "# 我可以肯定地说，今天这个地段有两倍的车。\n",
    "\n",
    "# 不过，如果说昨天是华氏32度，今天是64度，我不能说今天比昨天Instructions温暖两倍。"
   ]
  },
  {
   "cell_type": "code",
   "execution_count": null,
   "metadata": {
    "collapsed": true
   },
   "outputs": [],
   "source": [
    "# Instructions\n",
    "# 转换fahrenheit_degrees中的值，以便绝对零值为0.\n",
    "# 如果您认为情况已经如此，则不要更改任何内容。 将结果分配给degrees_zero。\n",
    "\n",
    "# 转换monthly_town_population中的值，以便绝对零值为0.\n",
    "# 如果您认为已经如此，请不要更改任何内容。 将结果分配给population_zero。"
   ]
  },
  {
   "cell_type": "code",
   "execution_count": null,
   "metadata": {
    "collapsed": true
   },
   "outputs": [],
   "source": [
    "#Answer\n",
    "fahrenheit_degrees = [32, 64, 78, 102]\n",
    "yearly_town_population = [100,102,103,110,105,120]\n",
    "population_zero = yearly_town_population\n",
    "degrees_zero = [f + 459.67 for f in fahrenheit_degrees]"
   ]
  },
  {
   "cell_type": "code",
   "execution_count": null,
   "metadata": {
    "collapsed": true
   },
   "outputs": [],
   "source": [
    "# end"
   ]
  },
  {
   "cell_type": "code",
   "execution_count": null,
   "metadata": {
    "collapsed": true
   },
   "outputs": [],
   "source": []
  },
  {
   "cell_type": "code",
   "execution_count": null,
   "metadata": {
    "collapsed": true
   },
   "outputs": [],
   "source": [
    "# 4.Working With Ordinal Scales -- start"
   ]
  },
  {
   "cell_type": "code",
   "execution_count": null,
   "metadata": {
    "collapsed": true
   },
   "outputs": [],
   "source": [
    "# Learn\n",
    "# 到目前为止，我们已经看到了等间隔和离散的尺度，其中所有的值都是数字。 \n",
    "# 我们也可以有序数量级，其中物品按等级排序。\n",
    "\n",
    "# 例如，我们可以询问人们每天吸多少支香烟，答案可能是“无”，“少”，“一些”或“很多”。 \n",
    "# 这些答案并不完全符合香烟的数字，但我们知道“少数”比“没有”多。\n",
    "\n",
    "# 这是一个有序的评级量表。 我们可以按照逻辑顺序为答案分配数字，以便于处理。\n",
    "\n",
    "# 例如，我们可以将0映射到“无”，1映射到“一些”，2映射到“一些”等等。"
   ]
  },
  {
   "cell_type": "code",
   "execution_count": null,
   "metadata": {
    "collapsed": true
   },
   "outputs": [],
   "source": [
    "# Instructions\n",
    "# 在下面的代码块中，为每个调查回答分配一个数字，\n",
    "# 该数字对应于其在量度上的位置（“无”是0，依此类推）。\n",
    "\n",
    "# 计算所有调查回答的平均值，并将其分配给average_smoking。"
   ]
  },
  {
   "cell_type": "code",
   "execution_count": 6,
   "metadata": {
    "collapsed": false
   },
   "outputs": [
    {
     "name": "stdout",
     "output_type": "stream",
     "text": [
      "[0, 2, 3, 0, 1, 0, 0]\n",
      "0\n"
     ]
    }
   ],
   "source": [
    "# Results from our survey on how many cigarettes people smoke per day\n",
    "survey_responses = [\"none\", \"some\", \"a lot\", \"none\", \"a few\", \"none\", \"none\"]\n",
    "survey_scale = [\"none\", \"a few\", \"some\", \"a lot\"]\n",
    "survey_numbers = [survey_scale.index(response) for response in survey_responses]\n",
    "average_smoking = sum(survey_numbers) / len(survey_numbers)\n",
    "print(survey_numbers)\n",
    "print(average_smoking)"
   ]
  },
  {
   "cell_type": "code",
   "execution_count": null,
   "metadata": {
    "collapsed": true
   },
   "outputs": [],
   "source": [
    "# end"
   ]
  },
  {
   "cell_type": "code",
   "execution_count": null,
   "metadata": {
    "collapsed": true
   },
   "outputs": [],
   "source": []
  },
  {
   "cell_type": "code",
   "execution_count": null,
   "metadata": {
    "collapsed": true
   },
   "outputs": [],
   "source": [
    "# 5.Grouping Values with Categorical Scales -- start"
   ]
  },
  {
   "cell_type": "code",
   "execution_count": null,
   "metadata": {
    "collapsed": true
   },
   "outputs": [],
   "source": [
    "# Learn\n",
    "# 我们也可以有分类的尺度，这些尺度将价值归类为一般类别。\n",
    "\n",
    "# 一个例子是性别，可以是男性或女性。\n",
    "\n",
    "# 与序数标度不同，分类标度没有顺序。 \n",
    "# 例如，在我们的性别例子中，一个类别不大于或小于另一个。\n",
    "\n",
    "# 分类在数据科学中很常见。 您通常会使用它们将数据拆分成组。"
   ]
  },
  {
   "cell_type": "code",
   "execution_count": null,
   "metadata": {
    "collapsed": true
   },
   "outputs": [],
   "source": [
    "# Instructions\n",
    "# 计算每个“男性”的平均储蓄。 将结果分配给male_savings。\n",
    "\n",
    "# 计算每个“女性”的平均储蓄。 将结果分配给female_savings。"
   ]
  },
  {
   "cell_type": "code",
   "execution_count": null,
   "metadata": {
    "collapsed": true
   },
   "outputs": [],
   "source": [
    "# Answer\n",
    "# Let's say that these lists are both columns in a matrix.  Index 0 is the first row in both, and so on.\n",
    "gender = [\"male\", \"female\", \"female\", \"male\", \"male\", \"female\"]\n",
    "savings = [1200, 5000, 3400, 2400, 2800, 4100]\n",
    "\n",
    "male_savings_list = [savings[i] for i in range(0, len(gender)) if gender[i] == \"male\"]\n",
    "female_savings_list = [savings[i] for i in range(0, len(gender)) if gender[i] == \"female\"]\n",
    "\n",
    "male_savings = sum(male_savings_list) / len(male_savings_list)\n",
    "female_savings = sum(female_savings_list) / len(female_savings_list)\n"
   ]
  },
  {
   "cell_type": "code",
   "execution_count": null,
   "metadata": {
    "collapsed": true
   },
   "outputs": [],
   "source": [
    "# end"
   ]
  },
  {
   "cell_type": "code",
   "execution_count": null,
   "metadata": {
    "collapsed": true
   },
   "outputs": [],
   "source": []
  },
  {
   "cell_type": "code",
   "execution_count": null,
   "metadata": {
    "collapsed": true
   },
   "outputs": [],
   "source": [
    "# 6.Visualizing Counts with Frequency Histograms -- start"
   ]
  },
  {
   "cell_type": "code",
   "execution_count": null,
   "metadata": {
    "collapsed": true
   },
   "outputs": [],
   "source": [
    "# Learn\n",
    "# 还记得统计数字是如何计算的吗？ 频率直方图是一种可帮助我们可视化数据计数的图表类型。\n",
    "\n",
    "# 这些曲线相符的每个值在一个列表中出现的次数，然后绘制在y轴上的x轴的值和计数。\n",
    "\n",
    "# 频率直方图使我们更好地理解数据集中的值。"
   ]
  },
  {
   "cell_type": "code",
   "execution_count": null,
   "metadata": {
    "collapsed": true
   },
   "outputs": [],
   "source": [
    "# Instructions\n",
    "# Plot a histogram of student_scores."
   ]
  },
  {
   "cell_type": "code",
   "execution_count": 8,
   "metadata": {
    "collapsed": false
   },
   "outputs": [
    {
     "data": {
      "image/png": "[encoded data removed]",
      "text/plain": [
       "<matplotlib.figure.Figure at 0x10c1e3d90>"
      ]
     },
     "metadata": {},
     "output_type": "display_data"
    },
    {
     "data": {
      "image/png": "[encoded data removed]",
      "text/plain": [
       "<matplotlib.figure.Figure at 0x10c2d4890>"
      ]
     },
     "metadata": {},
     "output_type": "display_data"
    }
   ],
   "source": [
    "#Answer\n",
    "# Let's say that we watch cars drive by and calculate average speed in miles per hour\n",
    "average_speed = [10, 20, 25, 27, 28, 22, 15, 18, 17]\n",
    "import matplotlib.pyplot as plt\n",
    "plt.hist(average_speed)\n",
    "plt.show()\n",
    "\n",
    "# Let's say we measure student test scores from 0-100\n",
    "student_scores = [15, 80, 95, 100, 45, 75, 65]\n",
    "plt.hist(student_scores)\n",
    "plt.show()"
   ]
  },
  {
   "cell_type": "code",
   "execution_count": null,
   "metadata": {
    "collapsed": true
   },
   "outputs": [],
   "source": [
    "# end"
   ]
  },
  {
   "cell_type": "code",
   "execution_count": null,
   "metadata": {
    "collapsed": true
   },
   "outputs": [],
   "source": []
  },
  {
   "cell_type": "code",
   "execution_count": null,
   "metadata": {
    "collapsed": true
   },
   "outputs": [],
   "source": [
    "# 7.Aggregating Values with Histogram Bins -- start"
   ]
  },
  {
   "cell_type": "code",
   "execution_count": null,
   "metadata": {
    "collapsed": true
   },
   "outputs": [],
   "source": [
    "# Learn\n",
    "# 您可能已经注意到最后一个屏幕上的代码绘制了所有的值。\n",
    "\n",
    "# 相反，直方图使用分箱来计数值。将值汇总到预定义的“桶”中。\n",
    "\n",
    "# 这是他们如何工作。如果x轴的取值范围是0到10，而我们有10个bin，那么第一个bin将是0-1之间的值，第二个值是1-2之间的值，以此类推。\n",
    "\n",
    "# 如果我们有五个垃圾箱，第一个垃圾箱的值将在0-2之间，第二个垃圾箱的值将在2-4之间，依此类推。\n",
    "\n",
    "# 列表中的每个值都在bin内将会增加bin的计数。结果看起来像条形图。箱子让我们更好地了解数据的形状和分布，而不是单独绘制每个计数。\n",
    "\n",
    "# 现在你已经知道垃圾箱了，我们想指出一些你在前一个屏幕上看到的东西。 matplotlib的一个plot的默认bin数是10.我们有比这个更少的值，所以matplotlib显示了所有的值。\n",
    "\n",
    "# 让我们尝试一下使用不同数量的垃圾箱来更好地了解它们的工作方式。"
   ]
  },
  {
   "cell_type": "code",
   "execution_count": null,
   "metadata": {
    "collapsed": true
   },
   "outputs": [],
   "source": [
    "# Instructions\n",
    "# 绘制平均速度为2的bin的柱状图。"
   ]
  },
  {
   "cell_type": "code",
   "execution_count": 13,
   "metadata": {
    "collapsed": false
   },
   "outputs": [
    {
     "data": {
      "image/png": "[encoded data removed]",
      "text/plain": [
       "<matplotlib.figure.Figure at 0x10c96d6d0>"
      ]
     },
     "metadata": {},
     "output_type": "display_data"
    },
    {
     "data": {
      "image/png": "[encoded data removed]",
      "text/plain": [
       "<matplotlib.figure.Figure at 0x10c88dfd0>"
      ]
     },
     "metadata": {},
     "output_type": "display_data"
    },
    {
     "data": {
      "image/png": "[encoded data removed]",
      "text/plain": [
       "<matplotlib.figure.Figure at 0x10c69bfd0>"
      ]
     },
     "metadata": {},
     "output_type": "display_data"
    }
   ],
   "source": [
    "# Answer\n",
    "average_speed = [10, 20, 25, 27, 28, 22, 15, 18, 17]\n",
    "import matplotlib.pyplot as plt\n",
    "plt.hist(average_speed, bins=5)\n",
    "plt.show()\n",
    "\n",
    "\n",
    "# As you can see, matplotlib groups the values in the list into the nearest bins.\n",
    "# If we have fewer bins, each bin will have a higher count (because there will be fewer bins to group all of the values into).\n",
    "# If there are more bins, the total for each one will decrease, because each one will contain fewer values.\n",
    "# 你可以看到，matplotlib将列表中的值分组到最近的bins。\n",
    "# 如果我们有更少的箱子bin，每个箱子将有更高的计数（因为将有更少的箱子将所有的值分组）。\n",
    "# 如果有更多的垃圾箱，每个垃圾箱的总数都会减少，因为每个垃圾箱的值都会减\n",
    "plt.hist(average_speed, bins=4)\n",
    "plt.show()\n",
    "plt.hist(average_speed, bins=2)\n",
    "plt.show()"
   ]
  },
  {
   "cell_type": "code",
   "execution_count": null,
   "metadata": {
    "collapsed": true
   },
   "outputs": [],
   "source": [
    "# end"
   ]
  },
  {
   "cell_type": "code",
   "execution_count": null,
   "metadata": {
    "collapsed": true
   },
   "outputs": [],
   "source": []
  },
  {
   "cell_type": "code",
   "execution_count": null,
   "metadata": {
    "collapsed": true
   },
   "outputs": [],
   "source": [
    "# 8.Measuring Data Skew -- start"
   ]
  },
  {
   "cell_type": "code",
   "execution_count": null,
   "metadata": {
    "collapsed": true
   },
   "outputs": [],
   "source": [
    "# Learn\n",
    "# 现在你已经知道如何制作直方图了，你注意到这些地块有“形状”吗？\n",
    "\n",
    "# 这些形状很重要，因为它们可以显示数据的分布特征。 我们要看的第一个特点是倾斜的。\n",
    "\n",
    "# 歪斜是指数据中的不对称。 当数据集中在直方图的右侧时，例如，我们说它具有负偏移。 \n",
    "# 当数据集中在左边时，我们说它有一个正面的偏斜。\n",
    "\n",
    "# 我们可以用偏斜函数来衡量偏斜的程度。 正值表示正偏斜，负值表示负偏斜，接近零的值表示没有偏斜。\n",
    "# 正偏斜，向右偏斜分布\n",
    "# 负偏斜或向左偏斜分布"
   ]
  },
  {
   "cell_type": "code",
   "execution_count": null,
   "metadata": {
    "collapsed": true
   },
   "outputs": [],
   "source": [
    "# Instructions\n",
    "\n",
    "# 将test_scores_positive的偏斜分配给positive_skew。\n",
    "# 将test_scores_negative的偏斜分配给negative_skew。\n",
    "# 将test_scores_normal的偏斜分配给no_skew。\n",
    "Assign the skew of test_scores_positive to positive_skew.\n",
    "\n",
    "Assign the skew of test_scores_negative to negative_skew.\n",
    "\n",
    "Assign the skew of test_scores_normal to no_skew.\n"
   ]
  },
  {
   "cell_type": "code",
   "execution_count": 21,
   "metadata": {
    "collapsed": false
   },
   "outputs": [
    {
     "data": {
      "image/png": "[encoded data removed]",
      "text/plain": [
       "<matplotlib.figure.Figure at 0x11284e410>"
      ]
     },
     "metadata": {},
     "output_type": "display_data"
    },
    {
     "name": "stdout",
     "output_type": "stream",
     "text": [
      "1.34226441935\n"
     ]
    }
   ],
   "source": [
    "# Answer\n",
    "# We've already loaded in some numpy arrays. We'll make some plots with them.\n",
    "# The arrays contain student test scores that are on a 0-100 scale.\n",
    "import matplotlib.pyplot as plt\n",
    "\n",
    "# See how there's a long slope to the left?\n",
    "# The data is concentrated in the right part of the distribution, but some people also scored poorly.\n",
    "# This plot has a negative skew.\n",
    "average_speed = [10, 11, 12, 13, 14, 15, 16, 100, 110]\n",
    "import matplotlib.pyplot as plt\n",
    "# plt.hist(average_speed, bins=5)\n",
    "plt.hist(average_speed)\n",
    "plt.show()\n",
    "\n",
    "# # This plot has a long slope to the right.\n",
    "# # Most students did poorly, but a few did really well.\n",
    "# # This plot has a positive skew.\n",
    "# plt.hist(test_scores_positive)\n",
    "# plt.show()\n",
    "\n",
    "# # This plot has no skew either way. Most of the values are in the center, and there is no long slope either way.\n",
    "# # It is an unskewed distribution.\n",
    "# plt.hist(test_scores_normal)\n",
    "# plt.show()\n",
    "\n",
    "# # We can test how skewed a distribution is using the skew function.\n",
    "# # A positive value means positive skew, a negative value means negative skew, and close to zero means no skew.\n",
    "from scipy.stats import skew\n",
    "positive_skew = skew(average_speed)\n",
    "print(positive_skew)\n",
    "# negative_skew = skew(test_scores_negative)\n",
    "# no_skew = skew(test_scores_normal)"
   ]
  },
  {
   "cell_type": "code",
   "execution_count": null,
   "metadata": {
    "collapsed": true
   },
   "outputs": [],
   "source": [
    "# end"
   ]
  },
  {
   "cell_type": "code",
   "execution_count": null,
   "metadata": {
    "collapsed": true
   },
   "outputs": [],
   "source": []
  },
  {
   "cell_type": "code",
   "execution_count": null,
   "metadata": {
    "collapsed": true
   },
   "outputs": [],
   "source": [
    "# 9.Checking for Outliers with Kurtosis -- start"
   ]
  },
  {
   "cell_type": "code",
   "execution_count": null,
   "metadata": {
    "collapsed": true
   },
   "outputs": [],
   "source": [
    "# Learn\n",
    "# 峰度是分布的另一个特征。 峰度测量分布是短而平，还是瘦高。 换句话说，它评估峰值的形状。\n",
    "\n",
    "# “较短”分布具有较低的最大频率，但较高的后续频率。 高峭度可能表示异常值的问题（非常大或非常小的值会使数据偏斜）。"
   ]
  },
  {
   "cell_type": "code",
   "execution_count": null,
   "metadata": {
    "collapsed": true
   },
   "outputs": [],
   "source": [
    "# Instructions\n",
    "# Assign the kurtosis of test_scores_platy to kurt_platy.\n",
    "# Assign the kurtosis of test_scores_lepto to kurt_lepto.\n",
    "# Assign the kurtosis of test_scores_meso to kurt_meso.\n",
    "\n",
    "# 将test_scores_platy的峰度分配给kurt_platy。\n",
    "\n",
    "# 将test_scores_lepto的峰度分配给kurt_lepto。\n",
    "\n",
    "# 将test_scores_meso的峰度分配给kurt_meso。"
   ]
  },
  {
   "cell_type": "code",
   "execution_count": 23,
   "metadata": {
    "collapsed": false
   },
   "outputs": [
    {
     "ename": "NameError",
     "evalue": "name 'test_scores_platy' is not defined",
     "output_type": "error",
     "traceback": [
      "\u001b[0;31m---------------------------------------------------------------------------\u001b[0m",
      "\u001b[0;31mNameError\u001b[0m                                 Traceback (most recent call last)",
      "\u001b[0;32m<ipython-input-23-9b6ba88e4e9a>\u001b[0m in \u001b[0;36m<module>\u001b[0;34m()\u001b[0m\n\u001b[1;32m      5\u001b[0m \u001b[0;31m# Notice how the values are distributed fairly evenly, and there isn't a large cluster in the middle.\u001b[0m\u001b[0;34m\u001b[0m\u001b[0;34m\u001b[0m\u001b[0m\n\u001b[1;32m      6\u001b[0m \u001b[0;31m# Student performance varied widely.\u001b[0m\u001b[0;34m\u001b[0m\u001b[0;34m\u001b[0m\u001b[0m\n\u001b[0;32m----> 7\u001b[0;31m \u001b[0mplt\u001b[0m\u001b[0;34m.\u001b[0m\u001b[0mhist\u001b[0m\u001b[0;34m(\u001b[0m\u001b[0mtest_scores_platy\u001b[0m\u001b[0;34m)\u001b[0m\u001b[0;34m\u001b[0m\u001b[0m\n\u001b[0m\u001b[1;32m      8\u001b[0m \u001b[0mplt\u001b[0m\u001b[0;34m.\u001b[0m\u001b[0mylim\u001b[0m\u001b[0;34m(\u001b[0m\u001b[0;36m0\u001b[0m\u001b[0;34m,\u001b[0m\u001b[0;36m3500\u001b[0m\u001b[0;34m)\u001b[0m\u001b[0;34m\u001b[0m\u001b[0m\n\u001b[1;32m      9\u001b[0m \u001b[0mplt\u001b[0m\u001b[0;34m.\u001b[0m\u001b[0mxlim\u001b[0m\u001b[0;34m(\u001b[0m\u001b[0;36m0\u001b[0m\u001b[0;34m,\u001b[0m\u001b[0;36m1\u001b[0m\u001b[0;34m)\u001b[0m\u001b[0;34m\u001b[0m\u001b[0m\n",
      "\u001b[0;31mNameError\u001b[0m: name 'test_scores_platy' is not defined"
     ]
    }
   ],
   "source": [
    "# Answer\n",
    "import matplotlib.pyplot as plt\n",
    "\n",
    "# This plot is short. It is platykurtic.\n",
    "# Notice how the values are distributed fairly evenly, and there isn't a large cluster in the middle.\n",
    "# Student performance varied widely.\n",
    "plt.hist(test_scores_platy)\n",
    "plt.ylim(0,3500)\n",
    "plt.xlim(0,1)\n",
    "plt.show()\n",
    "\n",
    "# This plot is tall. It is leptokurtic.\n",
    "# Most students performed similarly.\n",
    "plt.hist(test_scores_lepto)\n",
    "plt.ylim(0,3500)\n",
    "plt.xlim(0,1)\n",
    "plt.show()\n",
    "\n",
    "# The height of this plot neither short nor tall. It is mesokurtic.\n",
    "plt.hist(test_scores_meso)\n",
    "plt.ylim(0,3500)\n",
    "plt.xlim(0,1)\n",
    "plt.show()\n",
    "\n",
    "# We can measure kurtosis with the kurtosis function.\n",
    "# Negative values indicate platykurtic distributions, 负数低峰度\n",
    "# positive values indicate leptokurtic distributions, 正数尖峰度\n",
    "# and values near 0 are mesokurtic.常态峰度量\n",
    "from scipy.stats import kurtosis\n",
    "kurt_platy = kurtosis(test_scores_platy)\n",
    "kurt_lepto = kurtosis(test_scores_lepto)\n",
    "kurt_meso = kurtosis(test_scores_meso)"
   ]
  },
  {
   "cell_type": "code",
   "execution_count": null,
   "metadata": {
    "collapsed": true
   },
   "outputs": [],
   "source": [
    "# end"
   ]
  },
  {
   "cell_type": "code",
   "execution_count": null,
   "metadata": {
    "collapsed": true
   },
   "outputs": [],
   "source": []
  },
  {
   "cell_type": "code",
   "execution_count": null,
   "metadata": {
    "collapsed": true
   },
   "outputs": [],
   "source": [
    "# 10.Modality -- start"
   ]
  },
  {
   "cell_type": "code",
   "execution_count": null,
   "metadata": {
    "collapsed": true
   },
   "outputs": [],
   "source": [
    "# Learn\n",
    "# 形式是分配的另一个特征。 形态是指分布中的模式或峰值的数量。\n",
    "\n",
    "# 真实世界的数据往往是单峰的（它只有一种模式）。"
   ]
  },
  {
   "cell_type": "code",
   "execution_count": null,
   "metadata": {
    "collapsed": true
   },
   "outputs": [],
   "source": [
    "# Instructions\n",
    "# Plot test_scores_multi, which has four peaks.\n",
    "# 绘制具有四个峰值的test_scores_multi。"
   ]
  },
  {
   "cell_type": "code",
   "execution_count": 24,
   "metadata": {
    "collapsed": false
   },
   "outputs": [
    {
     "ename": "NameError",
     "evalue": "name 'test_scores_uni' is not defined",
     "output_type": "error",
     "traceback": [
      "\u001b[0;31m---------------------------------------------------------------------------\u001b[0m",
      "\u001b[0;31mNameError\u001b[0m                                 Traceback (most recent call last)",
      "\u001b[0;32m<ipython-input-24-b4aa7146dbcb>\u001b[0m in \u001b[0;36m<module>\u001b[0;34m()\u001b[0m\n\u001b[1;32m      3\u001b[0m \u001b[0;34m\u001b[0m\u001b[0m\n\u001b[1;32m      4\u001b[0m \u001b[0;31m# This plot has one mode. It is unimodal.\u001b[0m\u001b[0;34m\u001b[0m\u001b[0;34m\u001b[0m\u001b[0m\n\u001b[0;32m----> 5\u001b[0;31m \u001b[0mplt\u001b[0m\u001b[0;34m.\u001b[0m\u001b[0mhist\u001b[0m\u001b[0;34m(\u001b[0m\u001b[0mtest_scores_uni\u001b[0m\u001b[0;34m)\u001b[0m\u001b[0;34m\u001b[0m\u001b[0m\n\u001b[0m\u001b[1;32m      6\u001b[0m \u001b[0mplt\u001b[0m\u001b[0;34m.\u001b[0m\u001b[0mshow\u001b[0m\u001b[0;34m(\u001b[0m\u001b[0;34m)\u001b[0m\u001b[0;34m\u001b[0m\u001b[0m\n\u001b[1;32m      7\u001b[0m \u001b[0;34m\u001b[0m\u001b[0m\n",
      "\u001b[0;31mNameError\u001b[0m: name 'test_scores_uni' is not defined"
     ]
    }
   ],
   "source": [
    "#Answer\n",
    "import matplotlib.pyplot as plt\n",
    "\n",
    "# This plot has one mode. It is unimodal.\n",
    "plt.hist(test_scores_uni)\n",
    "plt.show()\n",
    "\n",
    "# This plot has two peaks. It is bimodal.\n",
    "# This could happen if one group of students learned the material and another learned something else, for example.\n",
    "plt.hist(test_scores_bi)\n",
    "plt.show()\n",
    "\n",
    "# More than one peak means that the plot is multimodal.\n",
    "# We can't easily measure the modality of a plot, like we can with kurtosis or skew.\n",
    "# Often, the best way to detect multimodality is to examine the plot visually.\n",
    "plt.hist(test_scores_multi)\n",
    "plt.show()"
   ]
  },
  {
   "cell_type": "code",
   "execution_count": null,
   "metadata": {
    "collapsed": true
   },
   "outputs": [],
   "source": []
  },
  {
   "cell_type": "code",
   "execution_count": null,
   "metadata": {
    "collapsed": true
   },
   "outputs": [],
   "source": []
  },
  {
   "cell_type": "code",
   "execution_count": null,
   "metadata": {
    "collapsed": true
   },
   "outputs": [],
   "source": []
  },
  {
   "cell_type": "code",
   "execution_count": null,
   "metadata": {
    "collapsed": true
   },
   "outputs": [],
   "source": []
  },
  {
   "cell_type": "code",
   "execution_count": null,
   "metadata": {
    "collapsed": true
   },
   "outputs": [],
   "source": []
  },
  {
   "cell_type": "code",
   "execution_count": null,
   "metadata": {
    "collapsed": true
   },
   "outputs": [],
   "source": []
  }
 ],
 "metadata": {
  "kernelspec": {
   "display_name": "Python 2",
   "language": "python",
   "name": "python2"
  },
  "language_info": {
   "codemirror_mode": {
    "name": "ipython",
    "version": 2
   },
   "file_extension": ".py",
   "mimetype": "text/x-python",
   "name": "python",
   "nbconvert_exporter": "python",
   "pygments_lexer": "ipython2",
   "version": "2.7.13"
  }
 },
 "nbformat": 4,
 "nbformat_minor": 2
}
