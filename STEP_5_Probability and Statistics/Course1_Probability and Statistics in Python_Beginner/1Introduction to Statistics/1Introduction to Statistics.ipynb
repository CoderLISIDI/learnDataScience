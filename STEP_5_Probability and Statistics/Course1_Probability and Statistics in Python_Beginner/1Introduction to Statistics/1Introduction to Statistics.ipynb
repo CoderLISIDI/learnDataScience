{
 "cells": [
  {
   "cell_type": "code",
   "execution_count": null,
   "metadata": {
    "collapsed": true
   },
   "outputs": [],
   "source": [
    "# 1.Introduction to Scales -- start\n",
    "# Learn\n",
    "# 统计的核心是计数和计量。\n",
    "# 为了有效地做到这一点，我们必须定义量表来确定我们的计数。 量表代表变量可能具有的可能值。\n",
    "\n",
    "# #等间隔标度#\n",
    "# 相等的间隔尺度总是一致的。\n",
    "\n",
    "# 想想汽车的速度。 无论您乘坐哪种速度，每小时五英里的速度总是每小时五英里。\n",
    "\n",
    "# 每小时60英里和55英里之间的差值总是等于每小时10英里和5英里之间的差值。"
   ]
  },
  {
   "cell_type": "code",
   "execution_count": null,
   "metadata": {
    "collapsed": true
   },
   "outputs": [],
   "source": [
    "# #对数尺度#\n",
    "\n",
    "# 对数刻度上的每一步代表不同的数量级。 例如，测量地震强度的里氏震级是一个对数尺度。\n",
    "\n",
    "# 里氏5级和6级之间的差异大于4级和5级之间的差异。这是因为里氏规模的每个数字代表前一个数字的振幅的10倍。\n",
    "\n",
    "# 里氏6级的强度（技术上说，强度是错误的术语，但它使得思考更容易）比5强大10倍，5比4强大10倍。\n",
    "# 6比4强100倍。\n",
    "\n",
    "# 我们可以通过加上这些值来计算等间隔尺度上的值的均值，然后除以值的总数。\n",
    "\n",
    "# 我们也可以对非等间隔的数值做同样的处理，但是由于单位之间的差异，结果不会有意义。"
   ]
  },
  {
   "cell_type": "code",
   "execution_count": null,
   "metadata": {
    "collapsed": true
   },
   "outputs": [],
   "source": [
    "# Instructions\n",
    "# 计算car_speeds的平均值，并将结果分配给mean_car_speed。\n",
    "\n",
    "# 计算地震的平均值，\n",
    "# 并将结果分配给mean_earthquake_intensities。\n",
    "# 请注意，这个值不会有意义，\n",
    "# 因为我们不应该用对数的方式来平均值。"
   ]
  },
  {
   "cell_type": "code",
   "execution_count": 3,
   "metadata": {
    "collapsed": false
   },
   "outputs": [
    {
     "name": "stdout",
     "output_type": "stream",
     "text": [
      "26\n",
      "5\n"
     ]
    }
   ],
   "source": [
    "#Answer\n",
    "car_speeds = [10,20,30,50,20]\n",
    "earthquake_intensities = [2,7,4,5,8]\n",
    "mean_car_speed = sum(car_speeds) / len(car_speeds)\n",
    "mean_earthquake_intensities = sum(earthquake_intensities) / len(earthquake_intensities)\n",
    "print(mean_car_speed)\n",
    "print(mean_earthquake_intensities)"
   ]
  },
  {
   "cell_type": "code",
   "execution_count": null,
   "metadata": {
    "collapsed": true
   },
   "outputs": [],
   "source": [
    "# end"
   ]
  },
  {
   "cell_type": "code",
   "execution_count": null,
   "metadata": {
    "collapsed": true
   },
   "outputs": [],
   "source": []
  },
  {
   "cell_type": "code",
   "execution_count": null,
   "metadata": {
    "collapsed": true
   },
   "outputs": [],
   "source": [
    "# 2.DisCrete and Continuous Scales -- start"
   ]
  },
  {
   "cell_type": "code",
   "execution_count": null,
   "metadata": {
    "collapsed": true
   },
   "outputs": [],
   "source": [
    "# Learn\n",
    "# 尺度可以是离散的或连续的。\n",
    "\n",
    "# 想想一个人每天要爬上蜗牛的英寸数。 蜗牛爬行1英寸，2英寸，1.5英寸，1.51英寸，\n",
    "# 或任何其他数字，这将是一个有效的观察。 这是因为英寸是连续的，甚至可能是几分之一英寸。\n",
    "\n",
    "# 现在想想一个人每天在一个停车场里计算汽车的数量。 \n",
    "# 1辆车，2辆车和10辆车是有效的测量，但1.5车是无效的。\n",
    "\n",
    "# 汽车的一半不是有意义的数量，因为汽车是离散的。 \n",
    "# 你不能有52％的车 - 你要么有车，要么没有。\n",
    "\n",
    "# 尽管如此，你仍然可以在离散的尺度上平均物品。 \n",
    "# 你可以说“平均每天有1.75辆车使用这个停车场”。 \n",
    "# 但是，任何汽车数量的每日价值都需要是一个整数。"
   ]
  },
  {
   "cell_type": "code",
   "execution_count": null,
   "metadata": {
    "collapsed": true
   },
   "outputs": [],
   "source": [
    "# Instructions\n",
    "Make a line plot with day_numbers on the x axis \n",
    "and snail_crawl_length on the y axis.\n",
    "\n",
    "Make a line plot with day_numbers on the x axis \n",
    "and cars_in_parking_lot on the y axis."
   ]
  },
  {
   "cell_type": "code",
   "execution_count": 5,
   "metadata": {
    "collapsed": false
   },
   "outputs": [
    {
     "data": {
      "image/png": "[encoded data removed]",
      "text/plain": [
       "<matplotlib.figure.Figure at 0x10bf8f4d0>"
      ]
     },
     "metadata": {},
     "output_type": "display_data"
    },
    {
     "data": {
      "image/png": "[encoded data removed]",
      "text/plain": [
       "<matplotlib.figure.Figure at 0x10c0f6d50>"
      ]
     },
     "metadata": {},
     "output_type": "display_data"
    }
   ],
   "source": [
    "#Answer\n",
    "day_numbers = [1,2,3,4,5,6,7]\n",
    "snail_crawl_length = [.5,2,5,10,1,.25,4]\n",
    "cars_in_parking_lot = [5,6,4,2,1,7,8]\n",
    "\n",
    "import matplotlib.pyplot as plt\n",
    "plt.plot(day_numbers, snail_crawl_length)\n",
    "plt.show()\n",
    "plt.plot(day_numbers, cars_in_parking_lot)\n",
    "plt.show()"
   ]
  },
  {
   "cell_type": "code",
   "execution_count": null,
   "metadata": {
    "collapsed": true
   },
   "outputs": [],
   "source": [
    "# end"
   ]
  },
  {
   "cell_type": "code",
   "execution_count": null,
   "metadata": {
    "collapsed": true
   },
   "outputs": [],
   "source": []
  },
  {
   "cell_type": "code",
   "execution_count": null,
   "metadata": {
    "collapsed": true
   },
   "outputs": [],
   "source": [
    "# 3.Understanding Scale Starting Points -- start"
   ]
  },
  {
   "cell_type": "code",
   "execution_count": null,
   "metadata": {
    "collapsed": true
   },
   "outputs": [],
   "source": [
    "# Learn\n",
    "# 一些量度以不同的方式使用零值。 想想停车场里的汽车数量。\n",
    "\n",
    "# 在这个地段的零车意味着完全没有汽车，所以绝对零是0车。 你不能有负数的车。\n",
    "\n",
    "# 现在想想华氏度。\n",
    "\n",
    "# 零度并不意味着没有温暖; 度规模也可以是负的，绝对零度（根本没有温度）是-459.67度。\n",
    "\n",
    "# 绝对零点不等于零的比例不能使我们采取有意义的比率。 \n",
    "# 举例来说，如果昨天有四辆车停在这个地段，而今天有八个停在这，\n",
    "# 我可以肯定地说，今天这个地段有两倍的车。\n",
    "\n",
    "# 不过，如果说昨天是华氏32度，今天是64度，我不能说今天比昨天Instructions温暖两倍。"
   ]
  },
  {
   "cell_type": "code",
   "execution_count": null,
   "metadata": {
    "collapsed": true
   },
   "outputs": [],
   "source": [
    "# Instructions\n",
    "# 转换fahrenheit_degrees中的值，以便绝对零值为0.\n",
    "# 如果您认为情况已经如此，则不要更改任何内容。 将结果分配给degrees_zero。\n",
    "\n",
    "# 转换monthly_town_population中的值，以便绝对零值为0.\n",
    "# 如果您认为已经如此，请不要更改任何内容。 将结果分配给population_zero。"
   ]
  },
  {
   "cell_type": "code",
   "execution_count": null,
   "metadata": {
    "collapsed": true
   },
   "outputs": [],
   "source": [
    "#Answer\n",
    "fahrenheit_degrees = [32, 64, 78, 102]\n",
    "yearly_town_population = [100,102,103,110,105,120]\n",
    "population_zero = yearly_town_population\n",
    "degrees_zero = [f + 459.67 for f in fahrenheit_degrees]"
   ]
  },
  {
   "cell_type": "code",
   "execution_count": null,
   "metadata": {
    "collapsed": true
   },
   "outputs": [],
   "source": [
    "# end"
   ]
  },
  {
   "cell_type": "code",
   "execution_count": null,
   "metadata": {
    "collapsed": true
   },
   "outputs": [],
   "source": []
  },
  {
   "cell_type": "code",
   "execution_count": null,
   "metadata": {
    "collapsed": true
   },
   "outputs": [],
   "source": [
    "# 4.Working With Ordinal Scales -- start"
   ]
  },
  {
   "cell_type": "code",
   "execution_count": null,
   "metadata": {
    "collapsed": true
   },
   "outputs": [],
   "source": [
    "# Learn\n",
    "# 到目前为止，我们已经看到了等间隔和离散的尺度，其中所有的值都是数字。 \n",
    "# 我们也可以有序数量级，其中物品按等级排序。\n",
    "\n",
    "# 例如，我们可以询问人们每天吸多少支香烟，答案可能是“无”，“少”，“一些”或“很多”。 \n",
    "# 这些答案并不完全符合香烟的数字，但我们知道“少数”比“没有”多。\n",
    "\n",
    "# 这是一个有序的评级量表。 我们可以按照逻辑顺序为答案分配数字，以便于处理。\n",
    "\n",
    "# 例如，我们可以将0映射到“无”，1映射到“一些”，2映射到“一些”等等。"
   ]
  },
  {
   "cell_type": "code",
   "execution_count": null,
   "metadata": {
    "collapsed": true
   },
   "outputs": [],
   "source": [
    "# Instructions\n",
    "# 在下面的代码块中，为每个调查回答分配一个数字，\n",
    "# 该数字对应于其在量度上的位置（“无”是0，依此类推）。\n",
    "\n",
    "# 计算所有调查回答的平均值，并将其分配给average_smoking。"
   ]
  },
  {
   "cell_type": "code",
   "execution_count": 6,
   "metadata": {
    "collapsed": false
   },
   "outputs": [
    {
     "name": "stdout",
     "output_type": "stream",
     "text": [
      "[0, 2, 3, 0, 1, 0, 0]\n",
      "0\n"
     ]
    }
   ],
   "source": [
    "# Results from our survey on how many cigarettes people smoke per day\n",
    "survey_responses = [\"none\", \"some\", \"a lot\", \"none\", \"a few\", \"none\", \"none\"]\n",
    "survey_scale = [\"none\", \"a few\", \"some\", \"a lot\"]\n",
    "survey_numbers = [survey_scale.index(response) for response in survey_responses]\n",
    "average_smoking = sum(survey_numbers) / len(survey_numbers)\n",
    "print(survey_numbers)\n",
    "print(average_smoking)"
   ]
  },
  {
   "cell_type": "code",
   "execution_count": null,
   "metadata": {
    "collapsed": true
   },
   "outputs": [],
   "source": [
    "# end"
   ]
  },
  {
   "cell_type": "code",
   "execution_count": null,
   "metadata": {
    "collapsed": true
   },
   "outputs": [],
   "source": []
  },
  {
   "cell_type": "code",
   "execution_count": null,
   "metadata": {
    "collapsed": true
   },
   "outputs": [],
   "source": [
    "# 5.Grouping Values with Categorical Scales -- start"
   ]
  },
  {
   "cell_type": "code",
   "execution_count": null,
   "metadata": {
    "collapsed": true
   },
   "outputs": [],
   "source": [
    "# Learn\n",
    "# 我们也可以有分类的尺度，这些尺度将价值归类为一般类别。\n",
    "\n",
    "# 一个例子是性别，可以是男性或女性。\n",
    "\n",
    "# 与序数标度不同，分类标度没有顺序。 \n",
    "# 例如，在我们的性别例子中，一个类别不大于或小于另一个。\n",
    "\n",
    "# 分类在数据科学中很常见。 您通常会使用它们将数据拆分成组。"
   ]
  },
  {
   "cell_type": "code",
   "execution_count": null,
   "metadata": {
    "collapsed": true
   },
   "outputs": [],
   "source": [
    "# Instructions\n",
    "# 计算每个“男性”的平均储蓄。 将结果分配给male_savings。\n",
    "\n",
    "# 计算每个“女性”的平均储蓄。 将结果分配给female_savings。"
   ]
  },
  {
   "cell_type": "code",
   "execution_count": null,
   "metadata": {
    "collapsed": true
   },
   "outputs": [],
   "source": [
    "# Answer\n",
    "# Let's say that these lists are both columns in a matrix.  Index 0 is the first row in both, and so on.\n",
    "gender = [\"male\", \"female\", \"female\", \"male\", \"male\", \"female\"]\n",
    "savings = [1200, 5000, 3400, 2400, 2800, 4100]\n",
    "\n",
    "male_savings_list = [savings[i] for i in range(0, len(gender)) if gender[i] == \"male\"]\n",
    "female_savings_list = [savings[i] for i in range(0, len(gender)) if gender[i] == \"female\"]\n",
    "\n",
    "male_savings = sum(male_savings_list) / len(male_savings_list)\n",
    "female_savings = sum(female_savings_list) / len(female_savings_list)\n"
   ]
  },
  {
   "cell_type": "code",
   "execution_count": null,
   "metadata": {
    "collapsed": true
   },
   "outputs": [],
   "source": [
    "# end"
   ]
  },
  {
   "cell_type": "code",
   "execution_count": null,
   "metadata": {
    "collapsed": true
   },
   "outputs": [],
   "source": []
  },
  {
   "cell_type": "code",
   "execution_count": null,
   "metadata": {
    "collapsed": true
   },
   "outputs": [],
   "source": [
    "# 6.Visualizing Counts with Frequency Histograms -- start"
   ]
  },
  {
   "cell_type": "code",
   "execution_count": null,
   "metadata": {
    "collapsed": true
   },
   "outputs": [],
   "source": [
    "# Learn\n",
    "# 还记得统计数字是如何计算的吗？ 频率直方图是一种可帮助我们可视化数据计数的图表类型。\n",
    "\n",
    "# 这些曲线相符的每个值在一个列表中出现的次数，然后绘制在y轴上的x轴的值和计数。\n",
    "\n",
    "# 频率直方图使我们更好地理解数据集中的值。"
   ]
  },
  {
   "cell_type": "code",
   "execution_count": null,
   "metadata": {
    "collapsed": true
   },
   "outputs": [],
   "source": [
    "# Instructions\n",
    "# Plot a histogram of student_scores."
   ]
  },
  {
   "cell_type": "code",
   "execution_count": 8,
   "metadata": {
    "collapsed": false
   },
   "outputs": [
    {
     "data": {
      "image/png": "[encoded data removed]",
      "text/plain": [
       "<matplotlib.figure.Figure at 0x10c1e3d90>"
      ]
     },
     "metadata": {},
     "output_type": "display_data"
    },
    {
     "data": {
      "image/png": "[encoded data removed]",
      "text/plain": [
       "<matplotlib.figure.Figure at 0x10c2d4890>"
      ]
     },
     "metadata": {},
     "output_type": "display_data"
    }
   ],
   "source": [
    "#Answer\n",
    "# Let's say that we watch cars drive by and calculate average speed in miles per hour\n",
    "average_speed = [10, 20, 25, 27, 28, 22, 15, 18, 17]\n",
    "import matplotlib.pyplot as plt\n",
    "plt.hist(average_speed)\n",
    "plt.show()\n",
    "\n",
    "# Let's say we measure student test scores from 0-100\n",
    "student_scores = [15, 80, 95, 100, 45, 75, 65]\n",
    "plt.hist(student_scores)\n",
    "plt.show()"
   ]
  },
  {
   "cell_type": "code",
   "execution_count": null,
   "metadata": {
    "collapsed": true
   },
   "outputs": [],
   "source": [
    "# end"
   ]
  },
  {
   "cell_type": "code",
   "execution_count": null,
   "metadata": {
    "collapsed": true
   },
   "outputs": [],
   "source": []
  },
  {
   "cell_type": "code",
   "execution_count": null,
   "metadata": {
    "collapsed": true
   },
   "outputs": [],
   "source": [
    "# 7.Aggregating Values with Histogram Bins -- start"
   ]
  },
  {
   "cell_type": "code",
   "execution_count": null,
   "metadata": {
    "collapsed": true
   },
   "outputs": [],
   "source": [
    "# Learn\n",
    "# 您可能已经注意到最后一个屏幕上的代码绘制了所有的值。\n",
    "\n",
    "# 相反，直方图使用分箱来计数值。将值汇总到预定义的“桶”中。\n",
    "\n",
    "# 这是他们如何工作。如果x轴的取值范围是0到10，而我们有10个bin，那么第一个bin将是0-1之间的值，第二个值是1-2之间的值，以此类推。\n",
    "\n",
    "# 如果我们有五个垃圾箱，第一个垃圾箱的值将在0-2之间，第二个垃圾箱的值将在2-4之间，依此类推。\n",
    "\n",
    "# 列表中的每个值都在bin内将会增加bin的计数。结果看起来像条形图。箱子让我们更好地了解数据的形状和分布，而不是单独绘制每个计数。\n",
    "\n",
    "# 现在你已经知道垃圾箱了，我们想指出一些你在前一个屏幕上看到的东西。 matplotlib的一个plot的默认bin数是10.我们有比这个更少的值，所以matplotlib显示了所有的值。\n",
    "\n",
    "# 让我们尝试一下使用不同数量的垃圾箱来更好地了解它们的工作方式。"
   ]
  },
  {
   "cell_type": "code",
   "execution_count": null,
   "metadata": {
    "collapsed": true
   },
   "outputs": [],
   "source": [
    "# Instructions\n",
    "# 绘制平均速度为2的bin的柱状图。"
   ]
  },
  {
   "cell_type": "code",
   "execution_count": 13,
   "metadata": {
    "collapsed": false
   },
   "outputs": [
    {
     "data": {
      "image/png": "[encoded data removed]",
      "text/plain": [
       "<matplotlib.figure.Figure at 0x10c96d6d0>"
      ]
     },
     "metadata": {},
     "output_type": "display_data"
    },
    {
     "data": {
      "image/png": "[encoded data removed]",
      "text/plain": [
       "<matplotlib.figure.Figure at 0x10c88dfd0>"
      ]
     },
     "metadata": {},
     "output_type": "display_data"
    },
    {
     "data": {
      "image/png": "[encoded data removed]",
      "text/plain": [
       "<matplotlib.figure.Figure at 0x10c69bfd0>"
      ]
     },
     "metadata": {},
     "output_type": "display_data"
    }
   ],
   "source": [
    "# Answer\n",
    "average_speed = [10, 20, 25, 27, 28, 22, 15, 18, 17]\n",
    "import matplotlib.pyplot as plt\n",
    "plt.hist(average_speed, bins=5)\n",
    "plt.show()\n",
    "\n",
    "\n",
    "# As you can see, matplotlib groups the values in the list into the nearest bins.\n",
    "# If we have fewer bins, each bin will have a higher count (because there will be fewer bins to group all of the values into).\n",
    "# If there are more bins, the total for each one will decrease, because each one will contain fewer values.\n",
    "# 你可以看到，matplotlib将列表中的值分组到最近的bins。\n",
    "# 如果我们有更少的箱子bin，每个箱子将有更高的计数（因为将有更少的箱子将所有的值分组）。\n",
    "# 如果有更多的垃圾箱，每个垃圾箱的总数都会减少，因为每个垃圾箱的值都会减\n",
    "plt.hist(average_speed, bins=4)\n",
    "plt.show()\n",
    "plt.hist(average_speed, bins=2)\n",
    "plt.show()"
   ]
  },
  {
   "cell_type": "code",
   "execution_count": null,
   "metadata": {
    "collapsed": true
   },
   "outputs": [],
   "source": [
    "# end"
   ]
  },
  {
   "cell_type": "code",
   "execution_count": null,
   "metadata": {
    "collapsed": true
   },
   "outputs": [],
   "source": []
  },
  {
   "cell_type": "code",
   "execution_count": null,
   "metadata": {
    "collapsed": true
   },
   "outputs": [],
   "source": [
    "# 8.Measuring Data Skew -- start"
   ]
  },
  {
   "cell_type": "code",
   "execution_count": null,
   "metadata": {
    "collapsed": true
   },
   "outputs": [],
   "source": [
    "# Learn\n",
    "# 现在你已经知道如何制作直方图了，你注意到这些地块有“形状”吗？\n",
    "\n",
    "# 这些形状很重要，因为它们可以显示数据的分布特征。 我们要看的第一个特点是倾斜的。\n",
    "\n",
    "# 歪斜是指数据中的不对称。 当数据集中在直方图的右侧时，例如，我们说它具有负偏移。 \n",
    "# 当数据集中在左边时，我们说它有一个正面的偏斜。\n",
    "\n",
    "# 我们可以用偏斜函数来衡量偏斜的程度。 正值表示正偏斜，负值表示负偏斜，接近零的值表示没有偏斜。\n",
    "# 正偏斜，向右偏斜分布\n",
    "# 负偏斜或向左偏斜分布"
   ]
  },
  {
   "cell_type": "code",
   "execution_count": null,
   "metadata": {
    "collapsed": true
   },
   "outputs": [],
   "source": [
    "# Instructions\n",
    "\n",
    "# 将test_scores_positive的偏斜分配给positive_skew。\n",
    "# 将test_scores_negative的偏斜分配给negative_skew。\n",
    "# 将test_scores_normal的偏斜分配给no_skew。\n",
    "Assign the skew of test_scores_positive to positive_skew.\n",
    "\n",
    "Assign the skew of test_scores_negative to negative_skew.\n",
    "\n",
    "Assign the skew of test_scores_normal to no_skew.\n"
   ]
  },
  {
   "cell_type": "code",
   "execution_count": 21,
   "metadata": {
    "collapsed": false
   },
   "outputs": [
    {
     "data": {
      "image/png": "[encoded data removed]",
      "text/plain": [
       "<matplotlib.figure.Figure at 0x11284e410>"
      ]
     },
     "metadata": {},
     "output_type": "display_data"
    },
    {
     "name": "stdout",
     "output_type": "stream",
     "text": [
      "1.34226441935\n"
     ]
    }
   ],
   "source": [
    "# Answer\n",
    "# We've already loaded in some numpy arrays. We'll make some plots with them.\n",
    "# The arrays contain student test scores that are on a 0-100 scale.\n",
    "import matplotlib.pyplot as plt\n",
    "\n",
    "# See how there's a long slope to the left?\n",
    "# The data is concentrated in the right part of the distribution, but some people also scored poorly.\n",
    "# This plot has a negative skew.\n",
    "average_speed = [10, 11, 12, 13, 14, 15, 16, 100, 110]\n",
    "import matplotlib.pyplot as plt\n",
    "# plt.hist(average_speed, bins=5)\n",
    "plt.hist(average_speed)\n",
    "plt.show()\n",
    "\n",
    "# # This plot has a long slope to the right.\n",
    "# # Most students did poorly, but a few did really well.\n",
    "# # This plot has a positive skew.\n",
    "# plt.hist(test_scores_positive)\n",
    "# plt.show()\n",
    "\n",
    "# # This plot has no skew either way. Most of the values are in the center, and there is no long slope either way.\n",
    "# # It is an unskewed distribution.\n",
    "# plt.hist(test_scores_normal)\n",
    "# plt.show()\n",
    "\n",
    "# # We can test how skewed a distribution is using the skew function.\n",
    "# # A positive value means positive skew, a negative value means negative skew, and close to zero means no skew.\n",
    "from scipy.stats import skew\n",
    "positive_skew = skew(average_speed)\n",
    "print(positive_skew)\n",
    "# negative_skew = skew(test_scores_negative)\n",
    "# no_skew = skew(test_scores_normal)"
   ]
  },
  {
   "cell_type": "code",
   "execution_count": null,
   "metadata": {
    "collapsed": true
   },
   "outputs": [],
   "source": [
    "# end"
   ]
  },
  {
   "cell_type": "code",
   "execution_count": null,
   "metadata": {
    "collapsed": true
   },
   "outputs": [],
   "source": []
  },
  {
   "cell_type": "code",
   "execution_count": null,
   "metadata": {
    "collapsed": true
   },
   "outputs": [],
   "source": [
    "# 9.Checking for Outliers with Kurtosis -- start"
   ]
  },
  {
   "cell_type": "code",
   "execution_count": null,
   "metadata": {
    "collapsed": true
   },
   "outputs": [],
   "source": [
    "# Learn\n",
    "# 峰度是分布的另一个特征。 峰度测量分布是短而平，还是瘦高。 换句话说，它评估峰值的形状。\n",
    "\n",
    "# “较短”分布具有较低的最大频率，但较高的后续频率。 高峭度可能表示异常值的问题（非常大或非常小的值会使数据偏斜）。"
   ]
  },
  {
   "cell_type": "code",
   "execution_count": null,
   "metadata": {
    "collapsed": true
   },
   "outputs": [],
   "source": [
    "# Instructions\n",
    "# Assign the kurtosis of test_scores_platy to kurt_platy.\n",
    "# Assign the kurtosis of test_scores_lepto to kurt_lepto.\n",
    "# Assign the kurtosis of test_scores_meso to kurt_meso.\n",
    "\n",
    "# 将test_scores_platy的峰度分配给kurt_platy。\n",
    "\n",
    "# 将test_scores_lepto的峰度分配给kurt_lepto。\n",
    "\n",
    "# 将test_scores_meso的峰度分配给kurt_meso。"
   ]
  },
  {
   "cell_type": "code",
   "execution_count": 23,
   "metadata": {
    "collapsed": false
   },
   "outputs": [
    {
     "ename": "NameError",
     "evalue": "name 'test_scores_platy' is not defined",
     "output_type": "error",
     "traceback": [
      "\u001b[0;31m---------------------------------------------------------------------------\u001b[0m",
      "\u001b[0;31mNameError\u001b[0m                                 Traceback (most recent call last)",
      "\u001b[0;32m<ipython-input-23-9b6ba88e4e9a>\u001b[0m in \u001b[0;36m<module>\u001b[0;34m()\u001b[0m\n\u001b[1;32m      5\u001b[0m \u001b[0;31m# Notice how the values are distributed fairly evenly, and there isn't a large cluster in the middle.\u001b[0m\u001b[0;34m\u001b[0m\u001b[0;34m\u001b[0m\u001b[0m\n\u001b[1;32m      6\u001b[0m \u001b[0;31m# Student performance varied widely.\u001b[0m\u001b[0;34m\u001b[0m\u001b[0;34m\u001b[0m\u001b[0m\n\u001b[0;32m----> 7\u001b[0;31m \u001b[0mplt\u001b[0m\u001b[0;34m.\u001b[0m\u001b[0mhist\u001b[0m\u001b[0;34m(\u001b[0m\u001b[0mtest_scores_platy\u001b[0m\u001b[0;34m)\u001b[0m\u001b[0;34m\u001b[0m\u001b[0m\n\u001b[0m\u001b[1;32m      8\u001b[0m \u001b[0mplt\u001b[0m\u001b[0;34m.\u001b[0m\u001b[0mylim\u001b[0m\u001b[0;34m(\u001b[0m\u001b[0;36m0\u001b[0m\u001b[0;34m,\u001b[0m\u001b[0;36m3500\u001b[0m\u001b[0;34m)\u001b[0m\u001b[0;34m\u001b[0m\u001b[0m\n\u001b[1;32m      9\u001b[0m \u001b[0mplt\u001b[0m\u001b[0;34m.\u001b[0m\u001b[0mxlim\u001b[0m\u001b[0;34m(\u001b[0m\u001b[0;36m0\u001b[0m\u001b[0;34m,\u001b[0m\u001b[0;36m1\u001b[0m\u001b[0;34m)\u001b[0m\u001b[0;34m\u001b[0m\u001b[0m\n",
      "\u001b[0;31mNameError\u001b[0m: name 'test_scores_platy' is not defined"
     ]
    }
   ],
   "source": [
    "# Answer\n",
    "import matplotlib.pyplot as plt\n",
    "\n",
    "# This plot is short. It is platykurtic.\n",
    "# Notice how the values are distributed fairly evenly, and there isn't a large cluster in the middle.\n",
    "# Student performance varied widely.\n",
    "plt.hist(test_scores_platy)\n",
    "plt.ylim(0,3500)\n",
    "plt.xlim(0,1)\n",
    "plt.show()\n",
    "\n",
    "# This plot is tall. It is leptokurtic.\n",
    "# Most students performed similarly.\n",
    "plt.hist(test_scores_lepto)\n",
    "plt.ylim(0,3500)\n",
    "plt.xlim(0,1)\n",
    "plt.show()\n",
    "\n",
    "# The height of this plot neither short nor tall. It is mesokurtic.\n",
    "plt.hist(test_scores_meso)\n",
    "plt.ylim(0,3500)\n",
    "plt.xlim(0,1)\n",
    "plt.show()\n",
    "\n",
    "# We can measure kurtosis with the kurtosis function.\n",
    "# Negative values indicate platykurtic distributions, 负数低峰度\n",
    "# positive values indicate leptokurtic distributions, 正数尖峰度\n",
    "# and values near 0 are mesokurtic.常态峰度量\n",
    "from scipy.stats import kurtosis\n",
    "kurt_platy = kurtosis(test_scores_platy)\n",
    "kurt_lepto = kurtosis(test_scores_lepto)\n",
    "kurt_meso = kurtosis(test_scores_meso)"
   ]
  },
  {
   "cell_type": "code",
   "execution_count": 5,
   "metadata": {
    "collapsed": false
   },
   "outputs": [
    {
     "data": {
      "image/png": "[encoded data removed]",
      "text/plain": [
       "<IPython.core.display.Image object>"
      ]
     },
     "execution_count": 5,
     "metadata": {},
     "output_type": "execute_result"
    }
   ],
   "source": [
    "from IPython.display import Image\n",
    "Image(filename='checking1.png')"
   ]
  },
  {
   "cell_type": "code",
   "execution_count": 6,
   "metadata": {
    "collapsed": false
   },
   "outputs": [
    {
     "data": {
      "image/png": "[encoded data removed]",
      "text/plain": [
       "<IPython.core.display.Image object>"
      ]
     },
     "execution_count": 6,
     "metadata": {},
     "output_type": "execute_result"
    }
   ],
   "source": [
    "from IPython.display import Image\n",
    "Image(filename='checking2.png')"
   ]
  },
  {
   "cell_type": "code",
   "execution_count": null,
   "metadata": {
    "collapsed": true
   },
   "outputs": [],
   "source": [
    "# end"
   ]
  },
  {
   "cell_type": "code",
   "execution_count": null,
   "metadata": {
    "collapsed": true
   },
   "outputs": [],
   "source": [
    "# 10.Modality -- start"
   ]
  },
  {
   "cell_type": "code",
   "execution_count": null,
   "metadata": {
    "collapsed": true
   },
   "outputs": [],
   "source": [
    "# Learn\n",
    "# 形式是分配的另一个特征。 形态是指分布中的模式或峰值的数量。\n",
    "\n",
    "# 真实世界的数据往往是单峰的（它只有一种模式）。"
   ]
  },
  {
   "cell_type": "code",
   "execution_count": null,
   "metadata": {
    "collapsed": true
   },
   "outputs": [],
   "source": [
    "# Instructions\n",
    "# Plot test_scores_multi, which has four peaks.\n",
    "# 绘制具有四个峰值的test_scores_multi。"
   ]
  },
  {
   "cell_type": "code",
   "execution_count": 24,
   "metadata": {
    "collapsed": false
   },
   "outputs": [
    {
     "ename": "NameError",
     "evalue": "name 'test_scores_uni' is not defined",
     "output_type": "error",
     "traceback": [
      "\u001b[0;31m---------------------------------------------------------------------------\u001b[0m",
      "\u001b[0;31mNameError\u001b[0m                                 Traceback (most recent call last)",
      "\u001b[0;32m<ipython-input-24-b4aa7146dbcb>\u001b[0m in \u001b[0;36m<module>\u001b[0;34m()\u001b[0m\n\u001b[1;32m      3\u001b[0m \u001b[0;34m\u001b[0m\u001b[0m\n\u001b[1;32m      4\u001b[0m \u001b[0;31m# This plot has one mode. It is unimodal.\u001b[0m\u001b[0;34m\u001b[0m\u001b[0;34m\u001b[0m\u001b[0m\n\u001b[0;32m----> 5\u001b[0;31m \u001b[0mplt\u001b[0m\u001b[0;34m.\u001b[0m\u001b[0mhist\u001b[0m\u001b[0;34m(\u001b[0m\u001b[0mtest_scores_uni\u001b[0m\u001b[0;34m)\u001b[0m\u001b[0;34m\u001b[0m\u001b[0m\n\u001b[0m\u001b[1;32m      6\u001b[0m \u001b[0mplt\u001b[0m\u001b[0;34m.\u001b[0m\u001b[0mshow\u001b[0m\u001b[0;34m(\u001b[0m\u001b[0;34m)\u001b[0m\u001b[0;34m\u001b[0m\u001b[0m\n\u001b[1;32m      7\u001b[0m \u001b[0;34m\u001b[0m\u001b[0m\n",
      "\u001b[0;31mNameError\u001b[0m: name 'test_scores_uni' is not defined"
     ]
    }
   ],
   "source": [
    "#Answer\n",
    "import matplotlib.pyplot as plt\n",
    "\n",
    "# This plot has one mode. It is unimodal.\n",
    "plt.hist(test_scores_uni)\n",
    "plt.show()\n",
    "\n",
    "# This plot has two peaks. It is bimodal.\n",
    "# This could happen if one group of students learned the material and another learned something else, for example.\n",
    "plt.hist(test_scores_bi)\n",
    "plt.show()\n",
    "\n",
    "# More than one peak means that the plot is multimodal.\n",
    "# We can't easily measure the modality of a plot, like we can with kurtosis or skew.\n",
    "# Often, the best way to detect multimodality is to examine the plot visually.\n",
    "plt.hist(test_scores_multi)\n",
    "plt.show()"
   ]
  },
  {
   "cell_type": "code",
   "execution_count": 4,
   "metadata": {
    "collapsed": false
   },
   "outputs": [
    {
     "data": {
      "image/png": "[encoded data removed]",
      "text/plain": [
       "<IPython.core.display.Image object>"
      ]
     },
     "execution_count": 4,
     "metadata": {},
     "output_type": "execute_result"
    }
   ],
   "source": [
    "from IPython.display import Image\n",
    "Image(filename='Modality1.png')"
   ]
  },
  {
   "cell_type": "code",
   "execution_count": 3,
   "metadata": {
    "collapsed": false
   },
   "outputs": [
    {
     "data": {
      "image/png": "[encoded data removed]",
      "text/plain": [
       "<IPython.core.display.Image object>"
      ]
     },
     "execution_count": 3,
     "metadata": {},
     "output_type": "execute_result"
    }
   ],
   "source": [
    "from IPython.display import Image\n",
    "Image(filename='Modality2.png')"
   ]
  },
  {
   "cell_type": "code",
   "execution_count": null,
   "metadata": {
    "collapsed": true
   },
   "outputs": [],
   "source": [
    "# end"
   ]
  },
  {
   "cell_type": "code",
   "execution_count": null,
   "metadata": {
    "collapsed": true
   },
   "outputs": [],
   "source": []
  },
  {
   "cell_type": "code",
   "execution_count": null,
   "metadata": {
    "collapsed": true
   },
   "outputs": [],
   "source": [
    "# 11.Measures of Central Tendency -- start"
   ]
  },
  {
   "cell_type": "code",
   "execution_count": null,
   "metadata": {
    "collapsed": true
   },
   "outputs": [],
   "source": [
    "# Learn\n",
    "# 现在我们知道如何衡量一个分布的特征，让我们来看看集中趋势测度。\n",
    "\n",
    "# 集中趋势测量评估数据点集中在一个中心值附近的可能性。\n",
    "\n",
    "# 我们要看的第一个是平均值。 我们之前计算的是平均值，但让我们进一步探索。\n",
    "\n",
    "# 平均值只是数组中所有元素的总和除以元素的数量。"
   ]
  },
  {
   "cell_type": "code",
   "execution_count": null,
   "metadata": {
    "collapsed": true
   },
   "outputs": [],
   "source": [
    "# Instructions\n",
    "# 计算test_scores_normal的平均值，并将其分配给mean_normal。\n",
    "# 计算test_scores_negative的平均值，并将其分配给mean_negative。\n",
    "# 计算test_scores_positive的平均值，并将其分配给mean_positive。\n",
    "\n",
    "# Compute the mean of test_scores_normal, and assign it to mean_normal.\n",
    "\n",
    "# Compute the mean of test_scores_negative, and assign it to mean_negative.\n",
    "\n",
    "# Compute the mean of test_scores_positive, and assign it to mean_positive.\n"
   ]
  },
  {
   "cell_type": "code",
   "execution_count": 7,
   "metadata": {
    "collapsed": false
   },
   "outputs": [
    {
     "ename": "NameError",
     "evalue": "name 'test_scores_normal' is not defined",
     "output_type": "error",
     "traceback": [
      "\u001b[0;31m---------------------------------------------------------------------------\u001b[0m",
      "\u001b[0;31mNameError\u001b[0m                                 Traceback (most recent call last)",
      "\u001b[0;32m<ipython-input-7-6a3d07c881f8>\u001b[0m in \u001b[0;36m<module>\u001b[0;34m()\u001b[0m\n\u001b[1;32m      3\u001b[0m \u001b[0;31m# Let's put a line over our plot that shows the mean.\u001b[0m\u001b[0;34m\u001b[0m\u001b[0;34m\u001b[0m\u001b[0m\n\u001b[1;32m      4\u001b[0m \u001b[0;31m# This is the same histogram we plotted for skew a few screens ago.\u001b[0m\u001b[0;34m\u001b[0m\u001b[0;34m\u001b[0m\u001b[0m\n\u001b[0;32m----> 5\u001b[0;31m \u001b[0mplt\u001b[0m\u001b[0;34m.\u001b[0m\u001b[0mhist\u001b[0m\u001b[0;34m(\u001b[0m\u001b[0mtest_scores_normal\u001b[0m\u001b[0;34m)\u001b[0m\u001b[0;34m\u001b[0m\u001b[0m\n\u001b[0m\u001b[1;32m      6\u001b[0m \u001b[0;31m# We can use the .mean() method of a numpy array to compute the mean.\u001b[0m\u001b[0;34m\u001b[0m\u001b[0;34m\u001b[0m\u001b[0m\n\u001b[1;32m      7\u001b[0m \u001b[0mmean_test_score\u001b[0m \u001b[0;34m=\u001b[0m \u001b[0mtest_scores_normal\u001b[0m\u001b[0;34m.\u001b[0m\u001b[0mmean\u001b[0m\u001b[0;34m(\u001b[0m\u001b[0;34m)\u001b[0m\u001b[0;34m\u001b[0m\u001b[0m\n",
      "\u001b[0;31mNameError\u001b[0m: name 'test_scores_normal' is not defined"
     ]
    }
   ],
   "source": [
    "# Answer\n",
    "import matplotlib.pyplot as plt\n",
    "# Let's put a line over our plot that shows the mean.\n",
    "# This is the same histogram we plotted for skew a few screens ago.\n",
    "plt.hist(test_scores_normal)\n",
    "# We can use the .mean() method of a numpy array to compute the mean.\n",
    "mean_test_score = test_scores_normal.mean()\n",
    "# The axvline function will plot a vertical line over an existing plot.\n",
    "plt.axvline(mean_test_score)\n",
    "\n",
    "# Now we can show the plot and clear the figure.\n",
    "plt.show()\n",
    "\n",
    "# When we plot test_scores_negative, which is a very negatively skewed distribution, \n",
    "# we see that the small values on the left pull the mean in that direction.\n",
    "# Very large and very small values can easily skew the mean.\n",
    "# Very skewed distributions can make the mean misleading.\n",
    "plt.hist(test_scores_negative)\n",
    "plt.axvline(test_scores_negative.mean())\n",
    "plt.show()\n",
    "\n",
    "# We can do the same with the positive side.\n",
    "# Notice how the very high values pull the mean to the right more than we would expect.\n",
    "plt.hist(test_scores_positive)\n",
    "plt.axvline(test_scores_positive.mean())\n",
    "plt.show()\n",
    "mean_normal = test_scores_normal.mean()\n",
    "mean_negative = test_scores_negative.mean()\n",
    "mean_positive = test_scores_positive.mean()"
   ]
  },
  {
   "cell_type": "code",
   "execution_count": null,
   "metadata": {
    "collapsed": true
   },
   "outputs": [],
   "source": [
    "# end"
   ]
  },
  {
   "cell_type": "code",
   "execution_count": null,
   "metadata": {
    "collapsed": true
   },
   "outputs": [],
   "source": []
  },
  {
   "cell_type": "code",
   "execution_count": null,
   "metadata": {
    "collapsed": true
   },
   "outputs": [],
   "source": [
    "# 12.Calculating the Median -- start"
   ]
  },
  {
   "cell_type": "code",
   "execution_count": null,
   "metadata": {
    "collapsed": true
   },
   "outputs": [],
   "source": [
    "# Learn\n",
    "# 中位数是集中趋势的另一个度量。 这是一个数组的中点。\n",
    "\n",
    "# 要计算中位数，我们需要对数组进行排序，然后把数值放在中间。 如果中间有两个值（因为数组中有偶数个项目），那么我们取两个中间值的平均值。\n",
    "\n",
    "# 中位数对于非常大或非常小的值（我们称之为异常值）较不敏感，并且是更为现实的分布中心。"
   ]
  },
  {
   "cell_type": "code",
   "execution_count": null,
   "metadata": {
    "collapsed": true
   },
   "outputs": [],
   "source": [
    "# Instructions\n",
    "# 绘制test_scores_positive的直方图。\n",
    "# 为中位数添加绿线。\n",
    "# 添加一个红线的意思。\n",
    "# Plot a histogram for test_scores_positive.\n",
    "\n",
    "# Add a green line for the median.\n",
    "\n",
    "# Add a red line for the mean."
   ]
  },
  {
   "cell_type": "code",
   "execution_count": 8,
   "metadata": {
    "collapsed": false
   },
   "outputs": [
    {
     "ename": "NameError",
     "evalue": "name 'test_scores_negative' is not defined",
     "output_type": "error",
     "traceback": [
      "\u001b[0;31m---------------------------------------------------------------------------\u001b[0m",
      "\u001b[0;31mNameError\u001b[0m                                 Traceback (most recent call last)",
      "\u001b[0;32m<ipython-input-8-891250e9f923>\u001b[0m in \u001b[0;36m<module>\u001b[0;34m()\u001b[0m\n\u001b[1;32m      6\u001b[0m \u001b[0;34m\u001b[0m\u001b[0m\n\u001b[1;32m      7\u001b[0m \u001b[0;31m# Plot the histogram\u001b[0m\u001b[0;34m\u001b[0m\u001b[0;34m\u001b[0m\u001b[0m\n\u001b[0;32m----> 8\u001b[0;31m \u001b[0mplt\u001b[0m\u001b[0;34m.\u001b[0m\u001b[0mhist\u001b[0m\u001b[0;34m(\u001b[0m\u001b[0mtest_scores_negative\u001b[0m\u001b[0;34m)\u001b[0m\u001b[0;34m\u001b[0m\u001b[0m\n\u001b[0m\u001b[1;32m      9\u001b[0m \u001b[0;31m# Compute the median\u001b[0m\u001b[0;34m\u001b[0m\u001b[0;34m\u001b[0m\u001b[0m\n\u001b[1;32m     10\u001b[0m \u001b[0mmedian\u001b[0m \u001b[0;34m=\u001b[0m \u001b[0mnumpy\u001b[0m\u001b[0;34m.\u001b[0m\u001b[0mmedian\u001b[0m\u001b[0;34m(\u001b[0m\u001b[0mtest_scores_negative\u001b[0m\u001b[0;34m)\u001b[0m\u001b[0;34m\u001b[0m\u001b[0m\n",
      "\u001b[0;31mNameError\u001b[0m: name 'test_scores_negative' is not defined"
     ]
    }
   ],
   "source": [
    "# Answer\n",
    "# Let's plot the mean and median side-by-side in a negatively skewed distribution.\n",
    "# Unfortunately, arrays don't have a nice median method, so we have to use a numpy function to compute it.\n",
    "import numpy\n",
    "import matplotlib.pyplot as plt\n",
    "\n",
    "# Plot the histogram\n",
    "plt.hist(test_scores_negative)\n",
    "# Compute the median\n",
    "median = numpy.median(test_scores_negative)\n",
    "\n",
    "# Plot the median in green (the color argument of \"g\" means green)\n",
    "plt.axvline(median, color=\"g\")\n",
    "\n",
    "# Plot the mean in red\n",
    "plt.axvline(test_scores_negative.mean(), color=\"r\")\n",
    "\n",
    "# Notice how the median is further to the right than the mean.\n",
    "# It's less sensitive to outliers, and isn't pulled to the left.\n",
    "plt.show()\n",
    "plt.hist(test_scores_positive)\n",
    "plt.axvline(numpy.median(test_scores_positive), color=\"g\")\n",
    "plt.axvline(test_scores_positive.mean(), color=\"r\")\n",
    "plt.show()"
   ]
  },
  {
   "cell_type": "code",
   "execution_count": 9,
   "metadata": {
    "collapsed": false
   },
   "outputs": [
    {
     "data": {
      "image/png": "[encoded data removed]",
      "text/plain": [
       "<IPython.core.display.Image object>"
      ]
     },
     "execution_count": 9,
     "metadata": {},
     "output_type": "execute_result"
    }
   ],
   "source": [
    "from IPython.display import Image\n",
    "Image(filename='Median.png')"
   ]
  },
  {
   "cell_type": "code",
   "execution_count": null,
   "metadata": {
    "collapsed": true
   },
   "outputs": [],
   "source": [
    "# end"
   ]
  },
  {
   "cell_type": "code",
   "execution_count": null,
   "metadata": {
    "collapsed": true
   },
   "outputs": [],
   "source": []
  },
  {
   "cell_type": "code",
   "execution_count": null,
   "metadata": {
    "collapsed": true
   },
   "outputs": [],
   "source": [
    "# 13.Overview of the Titanic Data -- start"
   ]
  },
  {
   "cell_type": "code",
   "execution_count": null,
   "metadata": {
    "collapsed": true
   },
   "outputs": [],
   "source": [
    "# 在接下来的几个屏幕上，我们将清理和分析来自泰坦尼克号的乘客生存数据。 每一行都代表泰坦尼克号上的一名乘客，并提供个人详细信息和生存信息。\n",
    "\n",
    "# 以下是一些相关的专栏：\n",
    "\n",
    "# 名字 - 乘客的名字\n",
    "# 性别 - 乘客的性别\n",
    "# 年龄 - 乘客的年龄\n",
    "# 有些列有缺失的值，例如年龄和性别列。 在我们分析数据之前，我们需要首先处理这些值。"
   ]
  },
  {
   "cell_type": "code",
   "execution_count": null,
   "metadata": {
    "collapsed": true
   },
   "outputs": [],
   "source": [
    "# end"
   ]
  },
  {
   "cell_type": "code",
   "execution_count": null,
   "metadata": {
    "collapsed": true
   },
   "outputs": [],
   "source": []
  },
  {
   "cell_type": "code",
   "execution_count": null,
   "metadata": {
    "collapsed": true
   },
   "outputs": [],
   "source": [
    "# 14.Removing Missing Data -- start"
   ]
  },
  {
   "cell_type": "code",
   "execution_count": null,
   "metadata": {
    "collapsed": true
   },
   "outputs": [],
   "source": [
    "# Learn\n",
    "# 现在我们已经了解了一些统计数据，让我们练习一下泰坦尼克号的数据。\n",
    "\n",
    "# 这些数据是泰坦尼克号上的所有乘客的一个清单，这艘船是1912年4月沉没的。\n",
    "# 它包含乘客姓名，年龄和其他信息（例如他们是否幸存）。\n",
    "\n",
    "# 不幸的是，并不是所有的数据都可用， 一些乘客缺少年龄等细节。 \n",
    "# 在分析数据之前，我们必须对丢失的行进行一些处理。\n",
    "\n",
    "# 解决这个问题最简单的方法就是删除所有缺少数据的行。 \n",
    "# 在所有情况下，这不一定是最好的解决方案，但我们将在后面了解其他处理这些情况的方法。"
   ]
  },
  {
   "cell_type": "code",
   "execution_count": null,
   "metadata": {
    "collapsed": true
   },
   "outputs": [],
   "source": [
    "# Instructions\n",
    "# 删除“年龄”和“性别”列中的NaN值。\n",
    "# 将结果分配给new_titanic_survival。\n",
    "# Remove the NaN values in the \"age\" and \"sex\" columns.\n",
    "# Assign the result to new_titanic_survival."
   ]
  },
  {
   "cell_type": "code",
   "execution_count": 11,
   "metadata": {
    "collapsed": false
   },
   "outputs": [
    {
     "name": "stdout",
     "output_type": "stream",
     "text": [
      "(1310, 14)\n",
      "(0, 14)\n",
      "(293, 14)\n",
      "(1046, 14)\n"
     ]
    }
   ],
   "source": [
    "# Answer\n",
    "import pandas\n",
    "f = \"titanic_survival.csv\"\n",
    "titanic_survival = pandas.read_csv(f)\n",
    "\n",
    "# Luckily, pandas DataFrames have a method that can drop rows that have missing data\n",
    "# Let's look at how large the DataFrame is first\n",
    "print(titanic_survival.shape)\n",
    "\n",
    "# There were 1,310 passengers on the Titanic, according to our data\n",
    "# Now let's drop any rows that have missing data\n",
    "# The DataFrame dropna method will do this for us\n",
    "# It will remove any rows with that contain missing values\n",
    "new_titanic_survival = titanic_survival.dropna()\n",
    "\n",
    "# Hmm, it looks like we were too zealous with dropping rows that contained NA values\n",
    "# We now have no rows in our DataFrame\n",
    "# This is because some of the later columns, which aren't immediately relevant to our analysis, contain a lot of missing values\n",
    "print(new_titanic_survival.shape)\n",
    "\n",
    "# We can use the subset keyword argument to the dropna method so that it only drops rows if there are NA values in certain columns\n",
    "# This line of code will drop any row where the embarkation port (where people boarded the Titanic) or cabin number is missing\n",
    "new_titanic_survival = titanic_survival.dropna(subset=[\"embarked\", \"cabin\"])\n",
    "\n",
    "# This result is much better. We've only removed the rows we needed to.\n",
    "print(new_titanic_survival.shape)\n",
    "\n",
    "new_titanic_survival = titanic_survival.dropna(subset=[\"age\", \"sex\"])\n",
    "print(new_titanic_survival.shape)"
   ]
  },
  {
   "cell_type": "code",
   "execution_count": null,
   "metadata": {
    "collapsed": true
   },
   "outputs": [],
   "source": [
    "# end"
   ]
  },
  {
   "cell_type": "code",
   "execution_count": null,
   "metadata": {
    "collapsed": true
   },
   "outputs": [],
   "source": []
  },
  {
   "cell_type": "code",
   "execution_count": null,
   "metadata": {
    "collapsed": true
   },
   "outputs": [],
   "source": [
    "# 15.Plotting Age -- start"
   ]
  },
  {
   "cell_type": "code",
   "execution_count": null,
   "metadata": {
    "collapsed": true
   },
   "outputs": [],
   "source": [
    "# Learn\n",
    "# 现在我们已经清理了数据，让我们来分析一下。"
   ]
  },
  {
   "cell_type": "code",
   "execution_count": null,
   "metadata": {
    "collapsed": true
   },
   "outputs": [],
   "source": [
    "# Instructions\n",
    "# 在新的泰坦尼克号生存中绘制“年龄”列的直方图。\n",
    "# 为中位数添加绿线。\n",
    "# 添加一个红线的意思。\n",
    "# Plot a histogram of the \"age\" column in new_titanic_survival.\n",
    "# Add a green line for the median.\n",
    "# Add a red line for the mean."
   ]
  },
  {
   "cell_type": "code",
   "execution_count": 12,
   "metadata": {
    "collapsed": false
   },
   "outputs": [
    {
     "data": {
      "image/png": "[encoded data removed]",
      "text/plain": [
       "<matplotlib.figure.Figure at 0x1134fea50>"
      ]
     },
     "metadata": {},
     "output_type": "display_data"
    }
   ],
   "source": [
    "# Answer\n",
    "# We've loaded the clean version of the data into the variable new_titanic_survival\n",
    "import matplotlib.pyplot as plt\n",
    "import numpy\n",
    "plt.hist(new_titanic_survival[\"age\"])\n",
    "plt.axvline(numpy.median(new_titanic_survival[\"age\"]), color=\"g\")\n",
    "plt.axvline(new_titanic_survival[\"age\"].mean(), color=\"r\")\n",
    "plt.show()"
   ]
  },
  {
   "cell_type": "code",
   "execution_count": null,
   "metadata": {
    "collapsed": true
   },
   "outputs": [],
   "source": [
    "# end"
   ]
  },
  {
   "cell_type": "code",
   "execution_count": null,
   "metadata": {
    "collapsed": true
   },
   "outputs": [],
   "source": []
  },
  {
   "cell_type": "code",
   "execution_count": null,
   "metadata": {
    "collapsed": true
   },
   "outputs": [],
   "source": [
    "# 15.Calculating Indexes for Age -- start"
   ]
  },
  {
   "cell_type": "code",
   "execution_count": null,
   "metadata": {
    "collapsed": true
   },
   "outputs": [],
   "source": [
    "# Learn\n",
    "# 年龄分布非常有趣。 这表明很多20多岁到40多岁的人都没有孩子。\n",
    "\n",
    "# 现在我们知道分布是什么样子了，让我们来计算它的特性和集中趋势测量。"
   ]
  },
  {
   "cell_type": "code",
   "execution_count": null,
   "metadata": {
    "collapsed": true
   },
   "outputs": [],
   "source": [
    "# Instructions\n",
    "# Assign the mean of the \"age\" column of new_titanic_survival to mean_age.\n",
    "# Assign the median of the \"age\" column of new_titanic_survival to median_age.\n",
    "# Assign the skew of the \"age\" column of new_titanic_survival to skew_age.\n",
    "# Assign the kurtosis of the \"age\" column of new_titanic_survival to kurtosis_age.\n",
    "# 将new_titanic_survival的“年龄”列的均值赋给mean_age。\n",
    "# 将new_titanic_survival的“年龄”列的中位数指定为median_age。\n",
    "# 将new_titanic_survival的“年龄”列的偏斜分配给skew_age。\n",
    "# 将new_titanic_survival的“年龄”列的峰度分配给kurtosis_age。"
   ]
  },
  {
   "cell_type": "code",
   "execution_count": 13,
   "metadata": {
    "collapsed": true
   },
   "outputs": [],
   "source": [
    "# Answer\n",
    "import numpy\n",
    "from scipy.stats import skew\n",
    "from scipy.stats import kurtosis\n",
    "mean_age = new_titanic_survival[\"age\"].mean()\n",
    "median_age = numpy.median(new_titanic_survival[\"age\"])\n",
    "skew_age = skew(new_titanic_survival[\"age\"])\n",
    "kurtosis_age = kurtosis(new_titanic_survival[\"age\"])"
   ]
  },
  {
   "cell_type": "code",
   "execution_count": null,
   "metadata": {
    "collapsed": true
   },
   "outputs": [],
   "source": [
    "# end"
   ]
  },
  {
   "cell_type": "code",
   "execution_count": null,
   "metadata": {
    "collapsed": true
   },
   "outputs": [],
   "source": []
  }
 ],
 "metadata": {
  "kernelspec": {
   "display_name": "Python 2",
   "language": "python",
   "name": "python2"
  },
  "language_info": {
   "codemirror_mode": {
    "name": "ipython",
    "version": 2
   },
   "file_extension": ".py",
   "mimetype": "text/x-python",
   "name": "python",
   "nbconvert_exporter": "python",
   "pygments_lexer": "ipython2",
   "version": "2.7.13"
  }
 },
 "nbformat": 4,
 "nbformat_minor": 2
}
