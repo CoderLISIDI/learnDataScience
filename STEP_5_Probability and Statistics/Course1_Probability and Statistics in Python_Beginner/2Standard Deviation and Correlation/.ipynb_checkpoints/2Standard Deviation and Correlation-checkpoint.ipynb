{
 "cells": [
  {
   "cell_type": "code",
   "execution_count": null,
   "metadata": {
    "collapsed": true
   },
   "outputs": [],
   "source": [
    "# 1. Introduction"
   ]
  },
  {
   "cell_type": "code",
   "execution_count": null,
   "metadata": {
    "collapsed": true
   },
   "outputs": [],
   "source": [
    "# Learn\n",
    "# 在这个任务中，我们将使用美国国家篮球协会（NBA）的数据计算统计数据。 以下是我们将要探索的CSV文件的前几行：\n",
    "player,pos,age,bref_team_id,g,gs,mp,fg,fga,fg.,x3p,x3pa,x3p.,x2p,x2pa,x2p.,efg.,ft\n",
    ",fta,ft.,orb,drb,trb,ast,stl,blk,tov,pf,pts,season,season_end\n",
    "Quincy Acy,SF,23,TOT,63,0,847,66,141,0.468,4,15,0.266666666666667,\n",
    "62,126,0.492063492063492,0.482,35,53,0.66,72,144,216,28,23,26,30,122,171,2013-2014,2013\n",
    "Steven Adams,C,20,OKC,81,20,1197,93,185,0.503,0,0,NA,\n",
    "93,185,0.502702702702703,0.503,79,136,0.581,142,190,332,43,40,57,71,203,265,2013-2014,2013"
   ]
  },
  {
   "cell_type": "code",
   "execution_count": null,
   "metadata": {
    "collapsed": true
   },
   "outputs": [],
   "source": [
    "# 每行保存单个球员一个赛季的数据。 它包含球员团队，玩家得分总数以及其他信息。\n",
    "\n",
    "# 以下是一些有趣的专栏：\n",
    "\n",
    "    # 球员 - 球员的名字\n",
    "    # pts - 玩家得分的总分数\n",
    "    # ast - 玩家的总助攻次数\n",
    "    # FG。 - 本赛季球员的投篮命中率\n",
    "\n",
    "# 在接下来的几个屏幕上，我们将通过计算一些汇总统计来探索这个数据集。"
   ]
  },
  {
   "cell_type": "code",
   "execution_count": null,
   "metadata": {
    "collapsed": true
   },
   "outputs": [],
   "source": [
    "# end"
   ]
  },
  {
   "cell_type": "code",
   "execution_count": null,
   "metadata": {
    "collapsed": true
   },
   "outputs": [],
   "source": []
  },
  {
   "cell_type": "code",
   "execution_count": null,
   "metadata": {
    "collapsed": true
   },
   "outputs": [],
   "source": [
    "# 2. The Mean as the Center"
   ]
  },
  {
   "cell_type": "code",
   "execution_count": null,
   "metadata": {
    "collapsed": true
   },
   "outputs": [],
   "source": [
    "# Learn\n",
    "# 虽然之前我们已经简要地讨论了这个意思，但是我们想在这里指出一个有趣的属性。\n",
    "\n",
    "# 如果我们从该集合中的每个数字中减去一组数字的平均值，那么所有差异的总和总是总和为零。\n",
    "\n",
    "# 这是因为意思是数据的“中心”。 所有的负面差异总是会消除所有的积极差异。 我们来看一些例子来验证这一点。\n",
    "\n",
    "# 让我们也熟悉数学符号的意思：\n",
    "\n",
    "# [数学处理错误]μx\n",
    "\n",
    "# 这个符号表示“x中所有值的平均值”。 x是小写字母的事实表明它是一个向量。 顶部的栏表示“平均值”。"
   ]
  },
  {
   "cell_type": "code",
   "execution_count": null,
   "metadata": {
    "collapsed": true
   },
   "outputs": [],
   "source": [
    "# Instructions\n",
    "# 找到值列表的中位数。 将结果分配给values_median。\n",
    "\n",
    "# 从值中的每个元素中减去中位数。 总结所有的差异，并将结果分配给median_difference_sum。"
   ]
  },
  {
   "cell_type": "code",
   "execution_count": 1,
   "metadata": {
    "collapsed": false
   },
   "outputs": [
    {
     "name": "stdout",
     "output_type": "stream",
     "text": [
      "5\n"
     ]
    }
   ],
   "source": [
    "# Answer\n",
    "# Make a list of values\n",
    "values = [2, 4, 5, -1, 0, 10, 8, 9]\n",
    "# Compute the mean of the values\n",
    "values_mean = sum(values) / len(values)\n",
    "# Find the difference between each of the values and the mean by subtracting the mean from each value.\n",
    "differences = [i - values_mean for i in values]\n",
    "# This equals 0.  If you'd like, try changing the values around to verify that it still equals 0.\n",
    "print(sum(differences))\n",
    "\n",
    "# We can use the median function from numpy to find the median.\n",
    "# The median is the \"middle\" value in a set of values. If we sort the values in order, it's the one in the center (or the average of the two in the center if there are an even number of items in the set).\n",
    "# You'll see that the differences from the median don't always add up to 0.  You might want to play around with this and think about why that is.\n",
    "from numpy import median\n",
    "values_median = median(values)\n",
    "differences = [i - values_median for i in values]\n",
    "median_difference_sum = sum(differences)"
   ]
  },
  {
   "cell_type": "code",
   "execution_count": null,
   "metadata": {
    "collapsed": true
   },
   "outputs": [],
   "source": [
    "# end"
   ]
  },
  {
   "cell_type": "code",
   "execution_count": null,
   "metadata": {
    "collapsed": true
   },
   "outputs": [],
   "source": []
  },
  {
   "cell_type": "code",
   "execution_count": null,
   "metadata": {
    "collapsed": true
   },
   "outputs": [],
   "source": [
    "# 3. Finding Variance"
   ]
  },
  {
   "cell_type": "code",
   "execution_count": null,
   "metadata": {
    "collapsed": true
   },
   "outputs": [],
   "source": [
    "# Learn\n",
    "# 我们来看看数据中的差异。 差异告诉我们数据是如何集中或“分散”的。\n",
    "\n",
    "# 我们早些时候看了一下峰度，这个度量了分布的形状。 方差直接衡量平均数据点距平均值的距离。\n",
    "\n",
    "# 我们通过从平均值中减去每个值来计算方差，平方结果，然后对它们进行平均。 非常奇怪的是，这看起来像这样：\n",
    "\n",
    "# [数学处理误差]σ2=Σi= 1n（xi-μx）2n\n",
    "# [数学处理误差]σ2是方差，[数学处理误差]Σi= 1n表示“从1到n的和”，其中n是矢量中元素的数量。\n",
    "\n",
    "# 这个公式通过我们刚刚描述的完全相同的过程，是最常见的表示方法。\n",
    "\n",
    "# 让我们完成一个练习来巩固我们所学到的东西。\n",
    "\n",
    "# 数据集的“pf”列包含了每个玩家在赛季中犯下的个人犯规总数。 我们来看看它的方差。"
   ]
  },
  {
   "cell_type": "code",
   "execution_count": null,
   "metadata": {
    "collapsed": true
   },
   "outputs": [],
   "source": [
    "# Instructions\n",
    "# Compute the variance of the data set's \"pts\" column, which holds the total number of points each player scored.\n",
    "# Assign the result to point_variance.\n",
    "# 计算数据集“pts”列的方差，该列包含每个玩家得分的总数。\n",
    "# 将结果分配给point_variance。"
   ]
  },
  {
   "cell_type": "code",
   "execution_count": 4,
   "metadata": {
    "collapsed": false
   },
   "outputs": [],
   "source": [
    "# Answer\n",
    "import matplotlib.pyplot as plt\n",
    "import pandas as pd\n",
    "# We've already loaded the NBA data into the nba_stats variable.\n",
    "# Find the mean value of the column.\n",
    "f = \"nba_2013.csv\"\n",
    "nba_stats = pd.read_csv(f)\n",
    "pf_mean = nba_stats[\"pf\"].mean()\n",
    "# Initialize variance at zero.\n",
    "variance = 0\n",
    "# Loop through each item in the \"pf\" column.\n",
    "for p in nba_stats[\"pf\"]:\n",
    "    # Calculate the difference between the mean and the value.\n",
    "    difference = p - pf_mean\n",
    "    # Square the difference. This ensures that the result isn't negative.\n",
    "    # If we didn't square the difference, the total variance would be zero.\n",
    "    # ** in python means \"raise whatever comes before this to the power of whatever number is after this.\"\n",
    "    square_difference = difference ** 2\n",
    "    # Add the difference to the total.\n",
    "    variance += square_difference\n",
    "# Average the total to find the final variance.\n",
    "variance = variance / len(nba_stats[\"pf\"])\n",
    "\n",
    "point_mean = nba_stats[\"pts\"].mean()\n",
    "point_variance = 0\n",
    "for p in nba_stats[\"pts\"]:\n",
    "    difference = p - point_mean\n",
    "    square_difference = difference ** 2\n",
    "    point_variance += square_difference\n",
    "point_variance = point_variance / len(nba_stats[\"pts\"])"
   ]
  },
  {
   "cell_type": "code",
   "execution_count": null,
   "metadata": {
    "collapsed": true
   },
   "outputs": [],
   "source": [
    "# end"
   ]
  },
  {
   "cell_type": "code",
   "execution_count": null,
   "metadata": {
    "collapsed": true
   },
   "outputs": [],
   "source": []
  },
  {
   "cell_type": "code",
   "execution_count": null,
   "metadata": {
    "collapsed": true
   },
   "outputs": [],
   "source": [
    "# 5. Understanding the Order of Operations"
   ]
  },
  {
   "cell_type": "code",
   "execution_count": null,
   "metadata": {
    "collapsed": true
   },
   "outputs": [],
   "source": [
    "# Learn\n",
    "# 我们一直在扩大和分割价值，但是我们还没有真正讨论过运作的顺序。\n",
    "\n",
    "# 操作顺序定义了数学运算发生的顺序。你可能还记得在你的小学数学课上学到这些。\n",
    "\n",
    "# 考虑一下陈述2 * 5 - 1。如果我们先乘法，而不是减法，结果会不一样。\n",
    "\n",
    "# 如果我们先乘，我们得到10 - 1，等于9。\n",
    "\n",
    "# 如果我们先减去，我们得到2 * 4，等于8。\n",
    "\n",
    "# 我们绝对希望这些行动的结果是一致的;我们不想一次拿到8次，下一次拿到9次。由于这个原因，存在默认的“操作顺序”。\n",
    "\n",
    "# 指数首先发生。这意味着，如果我们提高某些权力（x ** y），\n",
    "# 那么这个操作将在其他任何事情之前执行。乘法（x * y）和除法（x / y）接下来发生。\n",
    "# 他们彼此平等优先。加法（x + y）和减法（x-y）最后会出现。他们也是优先考虑的。\n",
    "\n",
    "# 所以提高权力总是首先发生，然后任何乘法/除法，最后是任何加法/减法。\n",
    "\n",
    "# 让我们练习这些类型的语句，以更好地感受操作的顺序。"
   ]
  },
  {
   "cell_type": "code",
   "execution_count": null,
   "metadata": {
    "collapsed": true
   },
   "outputs": [],
   "source": [
    "# Instructions\n",
    "# 改变数学运算，使c等于25，d等于.5。"
   ]
  },
  {
   "cell_type": "code",
   "execution_count": null,
   "metadata": {
    "collapsed": true
   },
   "outputs": [],
   "source": [
    "# Answer\n",
    "# You may be wondering why multiplication and division are on the same level.\n",
    "# It doesn't matter whether we do the multiplication or division first; \n",
    "# the answer here will always be the same.\n",
    "# In this case, we need to think of division as multiplication by a fraction. \n",
    "# Otherwise, we'll be dividing more than we want to.\n",
    "# Create a formula\n",
    "a = 5 * 5 / 2\n",
    "# Multiply by 1/2 instead of dividing by 2. The result is the same (2/2 == 2 * 1/2).\n",
    "a_subbed = 5 * 5 * 1/2\n",
    "a_mul_first = 25 * 1/2\n",
    "a_div_first = 5 * 2.5\n",
    "print(a_mul_first == a_div_first)\n",
    "\n",
    "# The same is true for subtraction and addition.\n",
    "# In this case, we need to convert subtraction into adding a negative number. If we don't we'll end up subtracting more than we expect.\n",
    "b = 10 - 8 + 5\n",
    "# Add -8 instead of subtracting 8.\n",
    "b_subbed = 10 + -8 + 5\n",
    "b_sub_first = 2 + 5\n",
    "b_add_first = 10 + -3\n",
    "print(b_sub_first == b_add_first)\n",
    "\n",
    "c = 10 / 2 + 5\n",
    "d = 3 - 1 / 2 * 2\n",
    "c = 10 / 2 * 5\n",
    "d = 3 - 1 / 2 - 2"
   ]
  },
  {
   "cell_type": "code",
   "execution_count": null,
   "metadata": {
    "collapsed": true
   },
   "outputs": [],
   "source": [
    "# end"
   ]
  },
  {
   "cell_type": "code",
   "execution_count": null,
   "metadata": {
    "collapsed": true
   },
   "outputs": [],
   "source": []
  },
  {
   "cell_type": "code",
   "execution_count": null,
   "metadata": {
    "collapsed": true
   },
   "outputs": [],
   "source": [
    "# 5.Using Parentheses to Change the Order of Operations -- start"
   ]
  },
  {
   "cell_type": "code",
   "execution_count": null,
   "metadata": {
    "collapsed": true
   },
   "outputs": [],
   "source": [
    "# Learn\n",
    "# 我们可以使用圆括号来覆盖操作顺序，并首先发生。\n",
    "\n",
    "# 例如，10 - 2/2将等于9，因为除法发生在相减之前。\n",
    "\n",
    "# 如果我们写（10 - 2）/ 2来代替，括号会“强制”里面的操作首先发生，所以我们以8/2结束。"
   ]
  },
  {
   "cell_type": "code",
   "execution_count": null,
   "metadata": {
    "collapsed": true
   },
   "outputs": [],
   "source": [
    "# Instructions\n",
    "# 使用括号使b等于1100。\n",
    "\n",
    "# 使用圆括号使c等于200。"
   ]
  },
  {
   "cell_type": "code",
   "execution_count": null,
   "metadata": {
    "collapsed": true
   },
   "outputs": [],
   "source": [
    "# Answer\n",
    "a = 50 * 50 - 10 / 5\n",
    "a_paren = 50 * (50 - 10) / 5\n",
    "# If we put multiple operations inside parentheses, the interpreter will use the order of operations to determine the sequence in which it should execute them.\n",
    "a_paren = 50 * (50 - 10 / 5)\n",
    "\n",
    "b = 10 * 10 + 100\n",
    "c = 8 - 6 * 100\n",
    "b = 10 * (10 + 100)\n",
    "c = (8 - 6) * 100"
   ]
  },
  {
   "cell_type": "code",
   "execution_count": null,
   "metadata": {
    "collapsed": true
   },
   "outputs": [],
   "source": [
    "# end"
   ]
  },
  {
   "cell_type": "code",
   "execution_count": null,
   "metadata": {
    "collapsed": true
   },
   "outputs": [],
   "source": []
  },
  {
   "cell_type": "code",
   "execution_count": null,
   "metadata": {
    "collapsed": true
   },
   "outputs": [],
   "source": [
    "# 6. Fractional Powers"
   ]
  },
  {
   "cell_type": "code",
   "execution_count": null,
   "metadata": {
    "collapsed": true
   },
   "outputs": [],
   "source": [
    "# Learn\n",
    "# 在我们深入研究变化之前，让我们快速看看指数。\n",
    "\n",
    "# 我们在前一个屏幕上写了差别** 2。 此代码平均pf列中的平均值和值之间的差异。 它计算差异*差异的等价物。\n",
    "\n",
    "# 我们可以通过写入差异来实现差异的三倍。这个计算等于差异*差异*差异。\n",
    "\n",
    "# 同样的模式也适用于我们提升到更高的权力，比如4,5等等。\n",
    "\n",
    "# 我们也可以使用相同的语法来获取数字的根源。\n",
    "\n",
    "# 差（**）将取平方根。 我们需要把这个分数放在括号里，因为把一个值赋给一个权力就是通常会先发生的操作。\n",
    "\n",
    "# **（1/3）将取立方根。 我们甚至可以继续更小的分数。"
   ]
  },
  {
   "cell_type": "code",
   "execution_count": null,
   "metadata": {
    "collapsed": true
   },
   "outputs": [],
   "source": [
    "# Instructions\n",
    "# 提高11到5次方。 将结果分配给e。\n",
    "\n",
    "# 取10000的四次方根。将结果赋给f。\n",
    "# Raise 11 to the fifth power. Assign the result to e.\n",
    "\n",
    "# Take the fourth root of 10000. Assign the result to f."
   ]
  },
  {
   "cell_type": "code",
   "execution_count": null,
   "metadata": {
    "collapsed": true
   },
   "outputs": [],
   "source": [
    "# Answer\n",
    "a = 5 ** 2\n",
    "# Raise to the fourth power\n",
    "b = 10 ** 4\n",
    "\n",
    "# Take the square root ( 3 * 3 == 9, so the answer is 3)\n",
    "c = 9 ** (1/2)\n",
    "\n",
    "# Take the cube root (4 * 4 * 4 == 64, so 4 is the cube root)\n",
    "d = 64 ** (1/3)\n",
    "e = 11 ** 5\n",
    "f = 10000 ** (1/4)"
   ]
  },
  {
   "cell_type": "code",
   "execution_count": null,
   "metadata": {
    "collapsed": true
   },
   "outputs": [],
   "source": [
    "# end"
   ]
  },
  {
   "cell_type": "code",
   "execution_count": null,
   "metadata": {
    "collapsed": true
   },
   "outputs": [],
   "source": []
  },
  {
   "cell_type": "code",
   "execution_count": null,
   "metadata": {
    "collapsed": true
   },
   "outputs": [],
   "source": [
    "# 7. Calculating Standard Deviation"
   ]
  },
  {
   "cell_type": "code",
   "execution_count": null,
   "metadata": {
    "collapsed": true
   },
   "outputs": [],
   "source": [
    "# Learn\n",
    "# 标准偏差是指数据点与平均值之间距离的最常用方法。 这是一个非常有用的概念，也是测量数据集密度的好方法。\n",
    "\n",
    "# 虽然听起来很复杂，但标准偏差相当简单; 这是方差的平方根。\n",
    "\n",
    "# 这里是标准差的数学公式：\n",
    "\n",
    "# [数学处理误差]σ=Σi= 1n（xi-μx）2n\n",
    "# 统计学家和数据科学家通常会测量落在均值的一个或两个标准偏差范围内的数据的百分比。"
   ]
  },
  {
   "cell_type": "code",
   "execution_count": null,
   "metadata": {
    "collapsed": true
   },
   "outputs": [],
   "source": [
    "# Instructions\n",
    "# 编写一个函数来计算nba_stats数据中给定列的标准偏差。\n",
    "\n",
    "# 使用新功能来计算分钟播放列的标准偏差（“mp”）。 将结果分配给mp_dev。\n",
    "\n",
    "# 使用该函数计算助攻栏的标准差（“ast”）。 将结果分配给ast_dev。"
   ]
  },
  {
   "cell_type": "code",
   "execution_count": 7,
   "metadata": {
    "collapsed": false
   },
   "outputs": [
    {
     "name": "stdout",
     "output_type": "stream",
     "text": [
      "1.0\n",
      "1.0\n"
     ]
    }
   ],
   "source": [
    "# Answer\n",
    "# We've already loaded the NBA stats into the nba_stats variable.\n",
    "def calc_column_deviation(column):\n",
    "    mean = column.mean()\n",
    "    variance = 0\n",
    "    for p in column:\n",
    "        difference = p - mean\n",
    "        square_difference = difference ** 2\n",
    "        variance += square_difference\n",
    "    variance = variance / len(column)\n",
    "    return variance ** (1/2)\n",
    "\n",
    "mp_dev = calc_column_deviation(nba_stats[\"mp\"])\n",
    "ast_dev = calc_column_deviation(nba_stats[\"ast\"])\n",
    "print(mp_dev)\n",
    "print(ast_dev)"
   ]
  },
  {
   "cell_type": "code",
   "execution_count": null,
   "metadata": {
    "collapsed": true
   },
   "outputs": [],
   "source": [
    "# end"
   ]
  },
  {
   "cell_type": "code",
   "execution_count": null,
   "metadata": {
    "collapsed": true
   },
   "outputs": [],
   "source": []
  },
  {
   "cell_type": "code",
   "execution_count": null,
   "metadata": {
    "collapsed": true
   },
   "outputs": [],
   "source": [
    "# 8. Finding Standard Deviation Distance"
   ]
  },
  {
   "cell_type": "code",
   "execution_count": null,
   "metadata": {
    "collapsed": true
   },
   "outputs": [],
   "source": [
    "# Learn\n",
    "# 标准偏差是非常有用的，因为它让我们比较分布中的点和平均值。\n",
    "\n",
    "# 例如，我们可以说某个点是“与平均值两个标准偏差”。 这使我们能够比较不同图表的数据密度。"
   ]
  },
  {
   "cell_type": "code",
   "execution_count": null,
   "metadata": {
    "collapsed": true
   },
   "outputs": [],
   "source": [
    "# Instructions\n",
    "# 找出距离平均点_10有多少标准偏差。 将结果分配给point_10_std。\n",
    "\n",
    "# 找出距平均值point_100有多少标准偏差。 将结果分配给point_100_std。"
   ]
  },
  {
   "cell_type": "code",
   "execution_count": 8,
   "metadata": {
    "collapsed": false
   },
   "outputs": [
    {
     "data": {
      "image/png": "[encoded data removed]",
      "text/plain": [
       "<matplotlib.figure.Figure at 0x10b11e590>"
      ]
     },
     "metadata": {},
     "output_type": "display_data"
    }
   ],
   "source": [
    "# Answer\n",
    "import matplotlib.pyplot as plt\n",
    "\n",
    "plt.hist(nba_stats[\"pf\"])\n",
    "mean = nba_stats[\"pf\"].mean()\n",
    "plt.axvline(mean, color=\"r\")\n",
    "# We can calculate standard deviation by using the std() method on a pandas series.\n",
    "std_dev = nba_stats[\"pf\"].std()\n",
    "# Plot a line one standard deviation below the mean.\n",
    "plt.axvline(mean - std_dev, color=\"g\")\n",
    "# Plot a line one standard deviation above the mean.\n",
    "plt.axvline(mean + std_dev, color=\"g\")\n",
    "\n",
    "# We can see how many of the data points fall within one standard deviation of the mean.\n",
    "# The more that fall into this range, the more dense the data is.\n",
    "plt.show()\n",
    "\n",
    "# We can calculate how many standard deviations a data point is from the mean by doing some subtraction and division.\n",
    "# First, we find the total distance by subtracting the mean.\n",
    "total_distance = nba_stats[\"pf\"][0] - mean\n",
    "# Then we divide by standard deviation to find how many standard deviations away the point is.\n",
    "standard_deviation_distance = total_distance / std_dev\n",
    "\n",
    "point_10 = nba_stats[\"pf\"][9]\n",
    "point_100 = nba_stats[\"pf\"][99]\n",
    "point_10_std = (point_10 - mean) / std_dev\n",
    "point_100_std = (point_100 - mean) / std_dev"
   ]
  },
  {
   "cell_type": "code",
   "execution_count": null,
   "metadata": {
    "collapsed": true
   },
   "outputs": [],
   "source": [
    "# end"
   ]
  },
  {
   "cell_type": "code",
   "execution_count": null,
   "metadata": {
    "collapsed": true
   },
   "outputs": [],
   "source": []
  },
  {
   "cell_type": "code",
   "execution_count": null,
   "metadata": {
    "collapsed": true
   },
   "outputs": [],
   "source": []
  },
  {
   "cell_type": "code",
   "execution_count": null,
   "metadata": {
    "collapsed": true
   },
   "outputs": [],
   "source": []
  },
  {
   "cell_type": "code",
   "execution_count": null,
   "metadata": {
    "collapsed": true
   },
   "outputs": [],
   "source": []
  },
  {
   "cell_type": "code",
   "execution_count": null,
   "metadata": {
    "collapsed": true
   },
   "outputs": [],
   "source": []
  }
 ],
 "metadata": {
  "kernelspec": {
   "display_name": "Python 2",
   "language": "python",
   "name": "python2"
  },
  "language_info": {
   "codemirror_mode": {
    "name": "ipython",
    "version": 2
   },
   "file_extension": ".py",
   "mimetype": "text/x-python",
   "name": "python",
   "nbconvert_exporter": "python",
   "pygments_lexer": "ipython2",
   "version": "2.7.13"
  }
 },
 "nbformat": 4,
 "nbformat_minor": 2
}
