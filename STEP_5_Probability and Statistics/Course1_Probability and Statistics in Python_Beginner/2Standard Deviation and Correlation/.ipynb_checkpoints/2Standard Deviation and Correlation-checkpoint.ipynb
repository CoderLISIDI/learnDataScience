{
 "cells": [
  {
   "cell_type": "code",
   "execution_count": null,
   "metadata": {
    "collapsed": true
   },
   "outputs": [],
   "source": [
    "# 1. Introduction"
   ]
  },
  {
   "cell_type": "code",
   "execution_count": null,
   "metadata": {
    "collapsed": true
   },
   "outputs": [],
   "source": [
    "# Learn\n",
    "# 在这个任务中，我们将使用美国国家篮球协会（NBA）的数据计算统计数据。 以下是我们将要探索的CSV文件的前几行：\n",
    "player,pos,age,bref_team_id,g,gs,mp,fg,fga,fg.,x3p,x3pa,x3p.,x2p,x2pa,x2p.,efg.,ft\n",
    ",fta,ft.,orb,drb,trb,ast,stl,blk,tov,pf,pts,season,season_end\n",
    "Quincy Acy,SF,23,TOT,63,0,847,66,141,0.468,4,15,0.266666666666667,\n",
    "62,126,0.492063492063492,0.482,35,53,0.66,72,144,216,28,23,26,30,122,171,2013-2014,2013\n",
    "Steven Adams,C,20,OKC,81,20,1197,93,185,0.503,0,0,NA,\n",
    "93,185,0.502702702702703,0.503,79,136,0.581,142,190,332,43,40,57,71,203,265,2013-2014,2013"
   ]
  },
  {
   "cell_type": "code",
   "execution_count": null,
   "metadata": {
    "collapsed": true
   },
   "outputs": [],
   "source": [
    "# 每行保存单个球员一个赛季的数据。 它包含球员团队，玩家得分总数以及其他信息。\n",
    "\n",
    "# 以下是一些有趣的专栏：\n",
    "\n",
    "    # 球员 - 球员的名字\n",
    "    # pts - 玩家得分的总分数\n",
    "    # ast - 玩家的总助攻次数\n",
    "    # FG。 - 本赛季球员的投篮命中率\n",
    "\n",
    "# 在接下来的几个屏幕上，我们将通过计算一些汇总统计来探索这个数据集。"
   ]
  },
  {
   "cell_type": "code",
   "execution_count": null,
   "metadata": {
    "collapsed": true
   },
   "outputs": [],
   "source": [
    "# end"
   ]
  },
  {
   "cell_type": "code",
   "execution_count": null,
   "metadata": {
    "collapsed": true
   },
   "outputs": [],
   "source": []
  },
  {
   "cell_type": "code",
   "execution_count": null,
   "metadata": {
    "collapsed": true
   },
   "outputs": [],
   "source": [
    "# 2. The Mean as the Center"
   ]
  },
  {
   "cell_type": "code",
   "execution_count": null,
   "metadata": {
    "collapsed": true
   },
   "outputs": [],
   "source": [
    "# Learn\n",
    "# 虽然之前我们已经简要地讨论了这个意思，但是我们想在这里指出一个有趣的属性。\n",
    "\n",
    "# 如果我们从该集合中的每个数字中减去一组数字的平均值，那么所有差异的总和总是总和为零。\n",
    "\n",
    "# 这是因为意思是数据的“中心”。 所有的负面差异总是会消除所有的积极差异。 我们来看一些例子来验证这一点。\n",
    "\n",
    "# 让我们也熟悉数学符号的意思：\n",
    "\n",
    "# [数学处理错误]μx\n",
    "\n",
    "# 这个符号表示“x中所有值的平均值”。 x是小写字母的事实表明它是一个向量。 顶部的栏表示“平均值”。"
   ]
  },
  {
   "cell_type": "code",
   "execution_count": null,
   "metadata": {
    "collapsed": true
   },
   "outputs": [],
   "source": [
    "# Instructions\n",
    "# 找到值列表的中位数。 将结果分配给values_median。\n",
    "\n",
    "# 从值中的每个元素中减去中位数。 总结所有的差异，并将结果分配给median_difference_sum。"
   ]
  },
  {
   "cell_type": "code",
   "execution_count": 1,
   "metadata": {
    "collapsed": false
   },
   "outputs": [
    {
     "name": "stdout",
     "output_type": "stream",
     "text": [
      "5\n"
     ]
    }
   ],
   "source": [
    "# Answer\n",
    "# Make a list of values\n",
    "values = [2, 4, 5, -1, 0, 10, 8, 9]\n",
    "# Compute the mean of the values\n",
    "values_mean = sum(values) / len(values)\n",
    "# Find the difference between each of the values and the mean by subtracting the mean from each value.\n",
    "differences = [i - values_mean for i in values]\n",
    "# This equals 0.  If you'd like, try changing the values around to verify that it still equals 0.\n",
    "print(sum(differences))\n",
    "\n",
    "# We can use the median function from numpy to find the median.\n",
    "# The median is the \"middle\" value in a set of values. If we sort the values in order, it's the one in the center (or the average of the two in the center if there are an even number of items in the set).\n",
    "# You'll see that the differences from the median don't always add up to 0.  You might want to play around with this and think about why that is.\n",
    "from numpy import median\n",
    "values_median = median(values)\n",
    "differences = [i - values_median for i in values]\n",
    "median_difference_sum = sum(differences)"
   ]
  },
  {
   "cell_type": "code",
   "execution_count": null,
   "metadata": {
    "collapsed": true
   },
   "outputs": [],
   "source": [
    "# end"
   ]
  },
  {
   "cell_type": "code",
   "execution_count": null,
   "metadata": {
    "collapsed": true
   },
   "outputs": [],
   "source": []
  },
  {
   "cell_type": "code",
   "execution_count": null,
   "metadata": {
    "collapsed": true
   },
   "outputs": [],
   "source": [
    "# 3. Finding Variance"
   ]
  },
  {
   "cell_type": "code",
   "execution_count": null,
   "metadata": {
    "collapsed": true
   },
   "outputs": [],
   "source": [
    "# Learn\n",
    "# 我们来看看数据中的差异。 差异告诉我们数据是如何集中或“分散”的。\n",
    "\n",
    "# 我们早些时候看了一下峰度，这个度量了分布的形状。 方差直接衡量平均数据点距平均值的距离。\n",
    "\n",
    "# 我们通过从平均值中减去每个值来计算方差，平方结果，然后对它们进行平均。 非常奇怪的是，这看起来像这样：\n",
    "\n",
    "# [数学处理误差]σ2=Σi= 1n（xi-μx）2n\n",
    "# [数学处理误差]σ2是方差，[数学处理误差]Σi= 1n表示“从1到n的和”，其中n是矢量中元素的数量。\n",
    "\n",
    "# 这个公式通过我们刚刚描述的完全相同的过程，是最常见的表示方法。\n",
    "\n",
    "# 让我们完成一个练习来巩固我们所学到的东西。\n",
    "\n",
    "# 数据集的“pf”列包含了每个玩家在赛季中犯下的个人犯规总数。 我们来看看它的方差。"
   ]
  },
  {
   "cell_type": "code",
   "execution_count": null,
   "metadata": {
    "collapsed": true
   },
   "outputs": [],
   "source": [
    "# Instructions\n",
    "# Compute the variance of the data set's \"pts\" column, which holds the total number of points each player scored.\n",
    "# Assign the result to point_variance.\n",
    "# 计算数据集“pts”列的方差，该列包含每个玩家得分的总数。\n",
    "# 将结果分配给point_variance。"
   ]
  },
  {
   "cell_type": "code",
   "execution_count": 4,
   "metadata": {
    "collapsed": false
   },
   "outputs": [],
   "source": [
    "# Answer\n",
    "import matplotlib.pyplot as plt\n",
    "import pandas as pd\n",
    "# We've already loaded the NBA data into the nba_stats variable.\n",
    "# Find the mean value of the column.\n",
    "f = \"nba_2013.csv\"\n",
    "nba_stats = pd.read_csv(f)\n",
    "pf_mean = nba_stats[\"pf\"].mean()\n",
    "# Initialize variance at zero.\n",
    "variance = 0\n",
    "# Loop through each item in the \"pf\" column.\n",
    "for p in nba_stats[\"pf\"]:\n",
    "    # Calculate the difference between the mean and the value.\n",
    "    difference = p - pf_mean\n",
    "    # Square the difference. This ensures that the result isn't negative.\n",
    "    # If we didn't square the difference, the total variance would be zero.\n",
    "    # ** in python means \"raise whatever comes before this to the power of whatever number is after this.\"\n",
    "    square_difference = difference ** 2\n",
    "    # Add the difference to the total.\n",
    "    variance += square_difference\n",
    "# Average the total to find the final variance.\n",
    "variance = variance / len(nba_stats[\"pf\"])\n",
    "\n",
    "point_mean = nba_stats[\"pts\"].mean()\n",
    "point_variance = 0\n",
    "for p in nba_stats[\"pts\"]:\n",
    "    difference = p - point_mean\n",
    "    square_difference = difference ** 2\n",
    "    point_variance += square_difference\n",
    "point_variance = point_variance / len(nba_stats[\"pts\"])"
   ]
  },
  {
   "cell_type": "code",
   "execution_count": null,
   "metadata": {
    "collapsed": true
   },
   "outputs": [],
   "source": [
    "# end"
   ]
  },
  {
   "cell_type": "code",
   "execution_count": null,
   "metadata": {
    "collapsed": true
   },
   "outputs": [],
   "source": []
  },
  {
   "cell_type": "code",
   "execution_count": null,
   "metadata": {
    "collapsed": true
   },
   "outputs": [],
   "source": [
    "# 5. Understanding the Order of Operations"
   ]
  },
  {
   "cell_type": "code",
   "execution_count": null,
   "metadata": {
    "collapsed": true
   },
   "outputs": [],
   "source": [
    "# Learn\n",
    "# 我们一直在扩大和分割价值，但是我们还没有真正讨论过运作的顺序。\n",
    "\n",
    "# 操作顺序定义了数学运算发生的顺序。你可能还记得在你的小学数学课上学到这些。\n",
    "\n",
    "# 考虑一下陈述2 * 5 - 1。如果我们先乘法，而不是减法，结果会不一样。\n",
    "\n",
    "# 如果我们先乘，我们得到10 - 1，等于9。\n",
    "\n",
    "# 如果我们先减去，我们得到2 * 4，等于8。\n",
    "\n",
    "# 我们绝对希望这些行动的结果是一致的;我们不想一次拿到8次，下一次拿到9次。由于这个原因，存在默认的“操作顺序”。\n",
    "\n",
    "# 指数首先发生。这意味着，如果我们提高某些权力（x ** y），\n",
    "# 那么这个操作将在其他任何事情之前执行。乘法（x * y）和除法（x / y）接下来发生。\n",
    "# 他们彼此平等优先。加法（x + y）和减法（x-y）最后会出现。他们也是优先考虑的。\n",
    "\n",
    "# 所以提高权力总是首先发生，然后任何乘法/除法，最后是任何加法/减法。\n",
    "\n",
    "# 让我们练习这些类型的语句，以更好地感受操作的顺序。"
   ]
  },
  {
   "cell_type": "code",
   "execution_count": null,
   "metadata": {
    "collapsed": true
   },
   "outputs": [],
   "source": [
    "# Instructions\n",
    "# 改变数学运算，使c等于25，d等于.5。"
   ]
  },
  {
   "cell_type": "code",
   "execution_count": null,
   "metadata": {
    "collapsed": true
   },
   "outputs": [],
   "source": [
    "# Answer\n",
    "# You may be wondering why multiplication and division are on the same level.\n",
    "# It doesn't matter whether we do the multiplication or division first; \n",
    "# the answer here will always be the same.\n",
    "# In this case, we need to think of division as multiplication by a fraction. \n",
    "# Otherwise, we'll be dividing more than we want to.\n",
    "# Create a formula\n",
    "a = 5 * 5 / 2\n",
    "# Multiply by 1/2 instead of dividing by 2. The result is the same (2/2 == 2 * 1/2).\n",
    "a_subbed = 5 * 5 * 1/2\n",
    "a_mul_first = 25 * 1/2\n",
    "a_div_first = 5 * 2.5\n",
    "print(a_mul_first == a_div_first)\n",
    "\n",
    "# The same is true for subtraction and addition.\n",
    "# In this case, we need to convert subtraction into adding a negative number. If we don't we'll end up subtracting more than we expect.\n",
    "b = 10 - 8 + 5\n",
    "# Add -8 instead of subtracting 8.\n",
    "b_subbed = 10 + -8 + 5\n",
    "b_sub_first = 2 + 5\n",
    "b_add_first = 10 + -3\n",
    "print(b_sub_first == b_add_first)\n",
    "\n",
    "c = 10 / 2 + 5\n",
    "d = 3 - 1 / 2 * 2\n",
    "c = 10 / 2 * 5\n",
    "d = 3 - 1 / 2 - 2"
   ]
  },
  {
   "cell_type": "code",
   "execution_count": null,
   "metadata": {
    "collapsed": true
   },
   "outputs": [],
   "source": [
    "# end"
   ]
  },
  {
   "cell_type": "code",
   "execution_count": null,
   "metadata": {
    "collapsed": true
   },
   "outputs": [],
   "source": []
  },
  {
   "cell_type": "code",
   "execution_count": null,
   "metadata": {
    "collapsed": true
   },
   "outputs": [],
   "source": [
    "# 5.Using Parentheses to Change the Order of Operations -- start"
   ]
  },
  {
   "cell_type": "code",
   "execution_count": null,
   "metadata": {
    "collapsed": true
   },
   "outputs": [],
   "source": [
    "# Learn\n",
    "# 我们可以使用圆括号来覆盖操作顺序，并首先发生。\n",
    "\n",
    "# 例如，10 - 2/2将等于9，因为除法发生在相减之前。\n",
    "\n",
    "# 如果我们写（10 - 2）/ 2来代替，括号会“强制”里面的操作首先发生，所以我们以8/2结束。"
   ]
  },
  {
   "cell_type": "code",
   "execution_count": null,
   "metadata": {
    "collapsed": true
   },
   "outputs": [],
   "source": [
    "# Instructions\n",
    "# 使用括号使b等于1100。\n",
    "\n",
    "# 使用圆括号使c等于200。"
   ]
  },
  {
   "cell_type": "code",
   "execution_count": null,
   "metadata": {
    "collapsed": true
   },
   "outputs": [],
   "source": [
    "# Answer\n",
    "a = 50 * 50 - 10 / 5\n",
    "a_paren = 50 * (50 - 10) / 5\n",
    "# If we put multiple operations inside parentheses, the interpreter will use the order of operations to determine the sequence in which it should execute them.\n",
    "a_paren = 50 * (50 - 10 / 5)\n",
    "\n",
    "b = 10 * 10 + 100\n",
    "c = 8 - 6 * 100\n",
    "b = 10 * (10 + 100)\n",
    "c = (8 - 6) * 100"
   ]
  },
  {
   "cell_type": "code",
   "execution_count": null,
   "metadata": {
    "collapsed": true
   },
   "outputs": [],
   "source": [
    "# end"
   ]
  },
  {
   "cell_type": "code",
   "execution_count": null,
   "metadata": {
    "collapsed": true
   },
   "outputs": [],
   "source": []
  },
  {
   "cell_type": "code",
   "execution_count": null,
   "metadata": {
    "collapsed": true
   },
   "outputs": [],
   "source": [
    "# 6. Fractional Powers"
   ]
  },
  {
   "cell_type": "code",
   "execution_count": null,
   "metadata": {
    "collapsed": true
   },
   "outputs": [],
   "source": [
    "# Learn\n",
    "# 在我们深入研究变化之前，让我们快速看看指数。\n",
    "\n",
    "# 我们在前一个屏幕上写了差别** 2。 此代码平均pf列中的平均值和值之间的差异。 它计算差异*差异的等价物。\n",
    "\n",
    "# 我们可以通过写入差异来实现差异的三倍。这个计算等于差异*差异*差异。\n",
    "\n",
    "# 同样的模式也适用于我们提升到更高的权力，比如4,5等等。\n",
    "\n",
    "# 我们也可以使用相同的语法来获取数字的根源。\n",
    "\n",
    "# 差（**）将取平方根。 我们需要把这个分数放在括号里，因为把一个值赋给一个权力就是通常会先发生的操作。\n",
    "\n",
    "# **（1/3）将取立方根。 我们甚至可以继续更小的分数。"
   ]
  },
  {
   "cell_type": "code",
   "execution_count": null,
   "metadata": {
    "collapsed": true
   },
   "outputs": [],
   "source": [
    "# Instructions\n",
    "# 提高11到5次方。 将结果分配给e。\n",
    "\n",
    "# 取10000的四次方根。将结果赋给f。\n",
    "# Raise 11 to the fifth power. Assign the result to e.\n",
    "\n",
    "# Take the fourth root of 10000. Assign the result to f."
   ]
  },
  {
   "cell_type": "code",
   "execution_count": null,
   "metadata": {
    "collapsed": true
   },
   "outputs": [],
   "source": [
    "# Answer\n",
    "a = 5 ** 2\n",
    "# Raise to the fourth power\n",
    "b = 10 ** 4\n",
    "\n",
    "# Take the square root ( 3 * 3 == 9, so the answer is 3)\n",
    "c = 9 ** (1/2)\n",
    "\n",
    "# Take the cube root (4 * 4 * 4 == 64, so 4 is the cube root)\n",
    "d = 64 ** (1/3)\n",
    "e = 11 ** 5\n",
    "f = 10000 ** (1/4)"
   ]
  },
  {
   "cell_type": "code",
   "execution_count": null,
   "metadata": {
    "collapsed": true
   },
   "outputs": [],
   "source": [
    "# end"
   ]
  },
  {
   "cell_type": "code",
   "execution_count": null,
   "metadata": {
    "collapsed": true
   },
   "outputs": [],
   "source": []
  },
  {
   "cell_type": "code",
   "execution_count": null,
   "metadata": {
    "collapsed": true
   },
   "outputs": [],
   "source": [
    "# 7. Calculating Standard Deviation"
   ]
  },
  {
   "cell_type": "code",
   "execution_count": null,
   "metadata": {
    "collapsed": true
   },
   "outputs": [],
   "source": [
    "# Learn\n",
    "# 标准偏差是指数据点与平均值之间距离的最常用方法。 这是一个非常有用的概念，也是测量数据集密度的好方法。\n",
    "\n",
    "# 虽然听起来很复杂，但标准偏差相当简单; 这是方差的平方根。\n",
    "\n",
    "# 这里是标准差的数学公式：\n",
    "\n",
    "# [数学处理误差]σ=Σi= 1n（xi-μx）2n\n",
    "# 统计学家和数据科学家通常会测量落在均值的一个或两个标准偏差范围内的数据的百分比。"
   ]
  },
  {
   "cell_type": "code",
   "execution_count": null,
   "metadata": {
    "collapsed": true
   },
   "outputs": [],
   "source": [
    "# Instructions\n",
    "# 编写一个函数来计算nba_stats数据中给定列的标准偏差。\n",
    "\n",
    "# 使用新功能来计算分钟播放列的标准偏差（“mp”）。 将结果分配给mp_dev。\n",
    "\n",
    "# 使用该函数计算助攻栏的标准差（“ast”）。 将结果分配给ast_dev。"
   ]
  },
  {
   "cell_type": "code",
   "execution_count": 7,
   "metadata": {
    "collapsed": false
   },
   "outputs": [
    {
     "name": "stdout",
     "output_type": "stream",
     "text": [
      "1.0\n",
      "1.0\n"
     ]
    }
   ],
   "source": [
    "# Answer\n",
    "# We've already loaded the NBA stats into the nba_stats variable.\n",
    "def calc_column_deviation(column):\n",
    "    mean = column.mean()\n",
    "    variance = 0\n",
    "    for p in column:\n",
    "        difference = p - mean\n",
    "        square_difference = difference ** 2\n",
    "        variance += square_difference\n",
    "    variance = variance / len(column)\n",
    "    return variance ** (1/2)\n",
    "\n",
    "mp_dev = calc_column_deviation(nba_stats[\"mp\"])\n",
    "ast_dev = calc_column_deviation(nba_stats[\"ast\"])\n",
    "print(mp_dev)\n",
    "print(ast_dev)"
   ]
  },
  {
   "cell_type": "code",
   "execution_count": null,
   "metadata": {
    "collapsed": true
   },
   "outputs": [],
   "source": [
    "# end"
   ]
  },
  {
   "cell_type": "code",
   "execution_count": null,
   "metadata": {
    "collapsed": true
   },
   "outputs": [],
   "source": []
  },
  {
   "cell_type": "code",
   "execution_count": null,
   "metadata": {
    "collapsed": true
   },
   "outputs": [],
   "source": [
    "# 8. Finding Standard Deviation Distance"
   ]
  },
  {
   "cell_type": "code",
   "execution_count": null,
   "metadata": {
    "collapsed": true
   },
   "outputs": [],
   "source": [
    "# Learn\n",
    "# 标准偏差是非常有用的，因为它让我们比较分布中的点和平均值。\n",
    "\n",
    "# 例如，我们可以说某个点是“与平均值两个标准偏差”。 这使我们能够比较不同图表的数据密度。"
   ]
  },
  {
   "cell_type": "code",
   "execution_count": null,
   "metadata": {
    "collapsed": true
   },
   "outputs": [],
   "source": [
    "# Instructions\n",
    "# 找出距离平均点_10有多少标准偏差。 将结果分配给point_10_std。\n",
    "\n",
    "# 找出距平均值point_100有多少标准偏差。 将结果分配给point_100_std。"
   ]
  },
  {
   "cell_type": "code",
   "execution_count": 8,
   "metadata": {
    "collapsed": false
   },
   "outputs": [
    {
     "data": {
      "image/png": "[encoded data removed]",
      "text/plain": [
       "<matplotlib.figure.Figure at 0x10b11e590>"
      ]
     },
     "metadata": {},
     "output_type": "display_data"
    }
   ],
   "source": [
    "# Answer\n",
    "import matplotlib.pyplot as plt\n",
    "\n",
    "plt.hist(nba_stats[\"pf\"])\n",
    "mean = nba_stats[\"pf\"].mean()\n",
    "plt.axvline(mean, color=\"r\")\n",
    "# We can calculate standard deviation by using the std() method on a pandas series.\n",
    "std_dev = nba_stats[\"pf\"].std()\n",
    "# Plot a line one standard deviation below the mean.\n",
    "plt.axvline(mean - std_dev, color=\"g\")\n",
    "# Plot a line one standard deviation above the mean.\n",
    "plt.axvline(mean + std_dev, color=\"g\")\n",
    "\n",
    "# We can see how many of the data points fall within one standard deviation of the mean.\n",
    "# The more that fall into this range, the more dense the data is.\n",
    "plt.show()\n",
    "\n",
    "# We can calculate how many standard deviations a data point is from the mean by doing some subtraction and division.\n",
    "# First, we find the total distance by subtracting the mean.\n",
    "total_distance = nba_stats[\"pf\"][0] - mean\n",
    "# Then we divide by standard deviation to find how many standard deviations away the point is.\n",
    "standard_deviation_distance = total_distance / std_dev\n",
    "\n",
    "point_10 = nba_stats[\"pf\"][9]\n",
    "point_100 = nba_stats[\"pf\"][99]\n",
    "point_10_std = (point_10 - mean) / std_dev\n",
    "point_100_std = (point_100 - mean) / std_dev"
   ]
  },
  {
   "cell_type": "code",
   "execution_count": null,
   "metadata": {
    "collapsed": true
   },
   "outputs": [],
   "source": [
    "# end"
   ]
  },
  {
   "cell_type": "code",
   "execution_count": null,
   "metadata": {
    "collapsed": true
   },
   "outputs": [],
   "source": []
  },
  {
   "cell_type": "code",
   "execution_count": null,
   "metadata": {
    "collapsed": true
   },
   "outputs": [],
   "source": [
    "# 9. Working with the Normal Distribution"
   ]
  },
  {
   "cell_type": "code",
   "execution_count": null,
   "metadata": {
    "collapsed": true
   },
   "outputs": [],
   "source": [
    "# Learn\n",
    "# 正态分布是一种特殊的分布。 您可能更认为钟形曲线。\n",
    "\n",
    "# 正态分布存在于各种自然现象中。 \n",
    "# 例如，如果我们制作了一个地球上每个人的高度的直方图，那么它或多或少就是一个正态分布。\n",
    "\n",
    "# 我们可以通过使用概率密度函数来生成一个正态分布。"
   ]
  },
  {
   "cell_type": "code",
   "execution_count": null,
   "metadata": {
    "collapsed": true
   },
   "outputs": [],
   "source": [
    "# Instructions\n",
    "# 在-10开始的范围内进行正态分布，在10结束，并且具有步骤.1。\n",
    "\n",
    "# 分布的均值应为0，标准差为2。"
   ]
  },
  {
   "cell_type": "code",
   "execution_count": null,
   "metadata": {
    "collapsed": true
   },
   "outputs": [],
   "source": []
  },
  {
   "cell_type": "code",
   "execution_count": 21,
   "metadata": {
    "collapsed": false,
    "scrolled": false
   },
   "outputs": [
    {
     "data": {
      "image/png": "[encoded data removed]",
      "text/plain": [
       "<matplotlib.figure.Figure at 0x10eb10d50>"
      ]
     },
     "metadata": {},
     "output_type": "display_data"
    },
    {
     "name": "stdout",
     "output_type": "stream",
     "text": [
      "[-10.   -9.5  -9.   -8.5  -8.   -7.5  -7.   -6.5  -6.   -5.5  -5.   -4.5\n",
      "  -4.   -3.5  -3.   -2.5  -2.   -1.5  -1.   -0.5   0.    0.5   1.    1.5\n",
      "   2.    2.5   3.    3.5   4.    4.5   5.    5.5   6.    6.5   7.    7.5\n",
      "   8.    8.5   9.    9.5]\n",
      "[  7.43359757e-07   2.51475364e-06   7.99187055e-06   2.38593183e-05\n",
      "   6.69151129e-05   1.76297841e-04   4.36341348e-04   1.01452403e-03\n",
      "   2.21592421e-03   4.54678125e-03   8.76415025e-03   1.58698259e-02\n",
      "   2.69954833e-02   4.31386594e-02   6.47587978e-02   9.13245427e-02\n",
      "   1.20985362e-01   1.50568716e-01   1.76032663e-01   1.93334058e-01\n",
      "   1.99471140e-01   1.93334058e-01   1.76032663e-01   1.50568716e-01\n",
      "   1.20985362e-01   9.13245427e-02   6.47587978e-02   4.31386594e-02\n",
      "   2.69954833e-02   1.58698259e-02   8.76415025e-03   4.54678125e-03\n",
      "   2.21592421e-03   1.01452403e-03   4.36341348e-04   1.76297841e-04\n",
      "   6.69151129e-05   2.38593183e-05   7.99187055e-06   2.51475364e-06]\n"
     ]
    },
    {
     "data": {
      "image/png": "[encoded data removed]",
      "text/plain": [
       "<matplotlib.figure.Figure at 0x10e3b2d50>"
      ]
     },
     "metadata": {},
     "output_type": "display_data"
    }
   ],
   "source": [
    "# Answer\n",
    "import numpy as np\n",
    "import matplotlib.pyplot as plt\n",
    "# The norm module has a pdf function (pdf stands for probability density function)\n",
    "from scipy.stats import norm\n",
    "\n",
    "# The arange function generates a numpy vector\n",
    "# The vector below will start at -1, and go up to, but not including 1\n",
    "# It will proceed in \"steps\" of .01.  So the first element will be -1, the second -.99, the third -.98, all the way up to .99.\n",
    "points = np.arange(-1, 1, 0.01)\n",
    "\n",
    "# The norm.pdf function will take the points vector and convert it into a probability vector\n",
    "# Each element in the vector will correspond to the normal distribution (earlier elements and later element smaller, peak in the center)\n",
    "# The distribution will be centered on 0, and will have a standard devation of .3\n",
    "probabilities = norm.pdf(points, 0, .3)\n",
    "\n",
    "# Plot the points values on the x-axis and the corresponding probabilities on the y-axis\n",
    "# See the bell curve?\n",
    "plt.plot(points, probabilities)\n",
    "plt.show()\n",
    "\n",
    "points = np.arange(-10, 10, 0.5)\n",
    "print(points)\n",
    "# norm.pdf(x, loc, scale) x:横坐标 loc:峰位置 scale:标准差\n",
    "probabilities = norm.pdf(points, 0, 2)\n",
    "print(probabilities)\n",
    "plt.plot(points, probabilities)\n",
    "plt.show()"
   ]
  },
  {
   "cell_type": "code",
   "execution_count": null,
   "metadata": {
    "collapsed": true
   },
   "outputs": [],
   "source": [
    "# end"
   ]
  },
  {
   "cell_type": "code",
   "execution_count": null,
   "metadata": {
    "collapsed": true
   },
   "outputs": [],
   "source": []
  },
  {
   "cell_type": "code",
   "execution_count": null,
   "metadata": {
    "collapsed": true
   },
   "outputs": [],
   "source": [
    "# 10. Normal Distribution Deviation"
   ]
  },
  {
   "cell_type": "code",
   "execution_count": null,
   "metadata": {
    "collapsed": true
   },
   "outputs": [],
   "source": [
    "# Learn\n",
    "# 关于正态分布的一个很酷的事情是，对于每一个数据，\n",
    "# 相同百分比的数据在平均值的一个标准偏差内，相同的百分比在平均值的两个标准偏差内，等等。\n",
    "\n",
    "# 大约68％的数据在一个标准差内，大约95％在两个标准差内，大约99％在三个标准偏差内。\n",
    "\n",
    "# 这有助于我们快速了解数据集中的值，以及它们的典型或异常情况。\n",
    "\n",
    "# 注意：我们暂时会偏离NBA数据集。 我们将使用家蝇翅长度数据集来更好地理解正态分布。"
   ]
  },
  {
   "cell_type": "code",
   "execution_count": null,
   "metadata": {
    "collapsed": true
   },
   "outputs": [],
   "source": [
    "# Instructions\n",
    "\n",
    "# 对于wing_lengths中的每个点，计算标准差与平均值的距离。\n",
    "\n",
    "# 计算平均值的一个标准偏差内的数据比例。 将结果分配给within_one_percentage。\n",
    "\n",
    "# 计算平均值的两个标准偏差内的数据比例。 将结果分配给within_two_percentage。\n",
    "\n",
    "# 计算平均值的三个标准偏差内的数据比例。 将结果分配给within_three_percentage。"
   ]
  },
  {
   "cell_type": "code",
   "execution_count": 29,
   "metadata": {
    "collapsed": false
   },
   "outputs": [
    {
     "name": "stdout",
     "output_type": "stream",
     "text": [
      "mean:\n",
      "45\n",
      "standard_deviation:\n",
      "1\n",
      "standard_deviations:\n",
      "[-9, -8, -7, -7, -6, -6, -5, -5, -5, -5, -4, -4, -4, -4, -4, -4, -3, -3, -3, -3, -3, -3, -3, -2, -2, -2, -2, -2, -2, -2, -2, -1, -1, -1, -1, -1, -1, -1, -1, -1, 0, 0, 0, 0, 0, 0, 0, 0, 0, 0, 1, 1, 1, 1, 1, 1, 1, 1, 1, 1, 2, 2, 2, 2, 2, 2, 2, 2, 2, 3, 3, 3, 3, 3, 3, 3, 3, 4, 4, 4, 4, 4, 4, 4, 5, 5, 5, 5, 5, 5, 6, 6, 6, 6, 7, 7, 8, 8, 9, 10]\n",
      "within:\n",
      "[-1, -1, -1, -1, -1, -1, -1, -1, -1, 0, 0, 0, 0, 0, 0, 0, 0, 0, 0, 1, 1, 1, 1, 1, 1, 1, 1, 1, 1]\n",
      "within:\n",
      "[-2, -2, -2, -2, -2, -2, -2, -2, -1, -1, -1, -1, -1, -1, -1, -1, -1, 0, 0, 0, 0, 0, 0, 0, 0, 0, 0, 1, 1, 1, 1, 1, 1, 1, 1, 1, 1, 2, 2, 2, 2, 2, 2, 2, 2, 2]\n",
      "within:\n",
      "[-3, -3, -3, -3, -3, -3, -3, -2, -2, -2, -2, -2, -2, -2, -2, -1, -1, -1, -1, -1, -1, -1, -1, -1, 0, 0, 0, 0, 0, 0, 0, 0, 0, 0, 1, 1, 1, 1, 1, 1, 1, 1, 1, 1, 2, 2, 2, 2, 2, 2, 2, 2, 2, 3, 3, 3, 3, 3, 3, 3, 3]\n",
      "within_one_percentage:\n",
      "0\n",
      "within_two_percentage:\n",
      "0\n",
      "within_three_percentage:\n",
      "0\n"
     ]
    }
   ],
   "source": [
    "# Answer\n",
    "# Housefly wing lengths in millimeters\n",
    "wing_lengths = [36, 37, 38, 38, 39, \n",
    "                39, 40, 40, 40, 40, 41, 41, \n",
    "                41, 41, 41, 41, 42, 42, 42, \n",
    "                42, 42, 42, 42, 43, 43, 43, \n",
    "                43, 43, 43, 43, 43, 44, 44, \n",
    "                44, 44, 44, 44, 44, 44, 44, 45, \n",
    "                45, 45, 45, 45, 45, 45, 45, 45, \n",
    "                45, 46, 46, 46, 46, 46, 46, 46, \n",
    "                46, 46, 46, 47, 47, 47, 47, 47, 47, \n",
    "                47, 47, 47, 48, 48, 48, 48, 48, 48, 48, \n",
    "                48, 49, 49, 49, 49, 49, 49, 49, 50, 50, 50, \n",
    "                50, 50, 50, 51, 51, 51, 51, 52, 52, 53, 53, 54, 55]\n",
    "mean = sum(wing_lengths) / len(wing_lengths)\n",
    "print(\"mean:\")\n",
    "print(mean)\n",
    "variances = [(i - mean) ** 2 for i in wing_lengths]\n",
    "variance = sum(variances)/ len(variances)\n",
    "standard_deviation = variance ** (1/2)\n",
    "print(\"standard_deviation:\")\n",
    "print(standard_deviation)\n",
    "standard_deviations = [(i - mean) / \n",
    "                       standard_deviation for i in wing_lengths]\n",
    "print(\"standard_deviations:\")\n",
    "print(standard_deviations)\n",
    "def within_percentage(deviations, count):\n",
    "    within = [i for i in deviations if i <= count and i >= -count]\n",
    "    print(\"within:\")\n",
    "    print(within)\n",
    "    count = len(within)\n",
    "    return count / len(deviations)\n",
    "\n",
    "within_one_percentage = within_percentage(standard_deviations, 1)\n",
    "within_two_percentage = within_percentage(standard_deviations, 2)\n",
    "within_three_percentage = within_percentage(standard_deviations, 3)\n",
    "print(\"within_one_percentage:\")\n",
    "print(within_one_percentage)\n",
    "print(\"within_two_percentage:\")\n",
    "print(within_two_percentage)\n",
    "print(\"within_three_percentage:\")\n",
    "print(within_three_percentage)"
   ]
  },
  {
   "cell_type": "code",
   "execution_count": null,
   "metadata": {
    "collapsed": true
   },
   "outputs": [],
   "source": [
    "# end"
   ]
  },
  {
   "cell_type": "code",
   "execution_count": null,
   "metadata": {
    "collapsed": true
   },
   "outputs": [],
   "source": []
  },
  {
   "cell_type": "code",
   "execution_count": null,
   "metadata": {
    "collapsed": true
   },
   "outputs": [],
   "source": [
    "# 11. Using Scatterplots to Plot Correlations"
   ]
  },
  {
   "cell_type": "code",
   "execution_count": null,
   "metadata": {
    "collapsed": true
   },
   "outputs": [],
   "source": [
    "# Learn\n",
    "# 我们花了很多时间去查看单个变量以及它们的分布情况。\n",
    "# 虽然分布本身很有意思，但也可以揭示两个变量之间的相互关系。\n",
    "\n",
    "# 大部分统计数据都是分析变量如何相互影响，第一步是用散点图来绘制变量。\n",
    "\n",
    "# 在绘制出来的时候，我们可以看看相关性。\n",
    "# 如果两个变量一起变化（即一个变量上升，另一个变量上升），我们知道它们是相关的。\n",
    "# 我们花了很多时间考虑单个变量以及它们的分布情况。\n",
    "# 虽然分布本身很有意思，但也可以揭示两个变量之间的相互关系。\n",
    "\n",
    "# 大部分统计数据都是分析变量如何相互影响，第一步是用散点图来绘制变量。\n",
    "\n",
    "# 在绘制出来的时候，我们可以看看相关性。\n",
    "# 如果两个变量一起变化（即一个变化，另一个变化），我们知道它们是相关的。"
   ]
  },
  {
   "cell_type": "code",
   "execution_count": 30,
   "metadata": {
    "collapsed": true
   },
   "outputs": [],
   "source": [
    "# Instructions\n",
    "# 根据“pts”列制作“fta”（free-throws attempt）列的散点图。\n",
    "\n",
    "# 根据“pf”列制作“stl”（抢断）列的散点图。"
   ]
  },
  {
   "cell_type": "code",
   "execution_count": 31,
   "metadata": {
    "collapsed": false
   },
   "outputs": [
    {
     "data": {
      "image/png": "[encoded data removed]",
      "text/plain": [
       "<matplotlib.figure.Figure at 0x10e9e4190>"
      ]
     },
     "metadata": {},
     "output_type": "display_data"
    },
    {
     "data": {
      "image/png": "[encoded data removed]",
      "text/plain": [
       "<matplotlib.figure.Figure at 0x10e6368d0>"
      ]
     },
     "metadata": {},
     "output_type": "display_data"
    },
    {
     "data": {
      "image/png": "[encoded data removed]",
      "text/plain": [
       "<matplotlib.figure.Figure at 0x10e9e6a90>"
      ]
     },
     "metadata": {},
     "output_type": "display_data"
    },
    {
     "data": {
      "image/png": "[encoded data removed]",
      "text/plain": [
       "<matplotlib.figure.Figure at 0x10eaf5290>"
      ]
     },
     "metadata": {},
     "output_type": "display_data"
    },
    {
     "data": {
      "image/png": "[encoded data removed]",
      "text/plain": [
       "<matplotlib.figure.Figure at 0x10eb2dcd0>"
      ]
     },
     "metadata": {},
     "output_type": "display_data"
    }
   ],
   "source": [
    "# Answer\n",
    "import matplotlib.pyplot as plt\n",
    "import pandas as pd\n",
    "# We've already loaded the NBA data into the nba_stats variable.\n",
    "# Find the mean value of the column.\n",
    "f = \"nba_2013.csv\"\n",
    "nba_stats = pd.read_csv(f)\n",
    "# Plot field goals attempted (number of shots someone takes in a season) vs. point scored in a season.\n",
    "# Field goals attempted is on the x-axis, and points is on the y-axis.\n",
    "# As you can tell, they are very strongly correlated. The plot is close to a straight line.\n",
    "# The plot also slopes upward, which means that as field goal attempts go up, so do points.\n",
    "# That means that the plot is positively correlated.\n",
    "plt.scatter(nba_stats[\"fga\"], nba_stats[\"pts\"])\n",
    "plt.show()\n",
    "\n",
    "# If we make points negative (so the people who scored the most points now score the least, because 3000 becomes -3000), we can change the direction of the correlation.\n",
    "# Field goals are negatively correlated with our new \"negative\" points column -- the more free throws you attempt, the less negative points you score.\n",
    "# We can see this because the correlation line slopes downward.\n",
    "plt.scatter(nba_stats[\"fga\"], -nba_stats[\"pts\"])\n",
    "plt.show()\n",
    "\n",
    "# Now, we can plot total rebounds (number of times someone got the ball back for their team after someone shot) vs total assists (number of times someone helped another person score).\n",
    "# These are uncorrelated, so you don't see the same nice line as you see with the plot above.\n",
    "plt.scatter(nba_stats[\"trb\"], nba_stats[\"ast\"])\n",
    "plt.show()\n",
    "plt.scatter(nba_stats[\"fta\"], nba_stats[\"pts\"])\n",
    "plt.show()\n",
    "\n",
    "plt.scatter(nba_stats[\"stl\"], nba_stats[\"pf\"])\n",
    "plt.show()"
   ]
  },
  {
   "cell_type": "code",
   "execution_count": null,
   "metadata": {
    "collapsed": true
   },
   "outputs": [],
   "source": [
    "# end"
   ]
  },
  {
   "cell_type": "code",
   "execution_count": null,
   "metadata": {
    "collapsed": true
   },
   "outputs": [],
   "source": []
  },
  {
   "cell_type": "code",
   "execution_count": null,
   "metadata": {
    "collapsed": true
   },
   "outputs": [],
   "source": [
    "# 12. Measuring Correlation with Pearson's r"
   ]
  },
  {
   "cell_type": "code",
   "execution_count": null,
   "metadata": {
    "collapsed": true
   },
   "outputs": [],
   "source": [
    "# Learn\n",
    "\n",
    "# 当我们需要分析很多变量时，衡量相关性可以是一个很大的帮助。这使我们无需眼球一切。\n",
    "\n",
    "# 衡量相关性最常用的方法是使用皮尔逊的r，我们也称之为r值。\n",
    "\n",
    "# 我们将在后面探讨计算的工作方式。但现在，我们将重点关注价值。\n",
    "\n",
    "# r值范围从-1到1，表示两个变量的相关程度。\n",
    "\n",
    "# A 1表示完美正相关。这将在我们的地块上显示为一条直线向上倾斜的线。\n",
    "\n",
    "# 0表示不相关。我们会看到随机出现的散点图。\n",
    "\n",
    "# -1表示完美的负相关。这将看起来是一条直线，向下倾斜的线。\n",
    "\n",
    "# -1和0之间的任何相关将显示为点的散射。 \n",
    "# 0和1之间的相关性也是如此。值越接近0，点越显示出随机性。越接近于-1或1，点将出现越“线状”。\n",
    "\n",
    "# 我们可以使用scipy的函数来计算Pearson的r。"
   ]
  },
  {
   "cell_type": "code",
   "execution_count": null,
   "metadata": {
    "collapsed": true
   },
   "outputs": [],
   "source": [
    "# Instructions"
   ]
  },
  {
   "cell_type": "code",
   "execution_count": null,
   "metadata": {
    "collapsed": true
   },
   "outputs": [],
   "source": [
    "# 找到“fta”列和“pts”列之间的关系。 将结果分配给r_fta_pts。\n",
    "\n",
    "# 找到“stl”列和“pf”列之间的关系。 将结果分配给r_stl_pf。"
   ]
  },
  {
   "cell_type": "code",
   "execution_count": 32,
   "metadata": {
    "collapsed": false
   },
   "outputs": [
    {
     "name": "stdout",
     "output_type": "stream",
     "text": [
      "0.989211400652\n",
      "0.369861731248\n"
     ]
    }
   ],
   "source": [
    "# Ansewer\n",
    "from scipy.stats.stats import pearsonr\n",
    "\n",
    "# The pearsonr function will find the correlation between two columns of data.\n",
    "# It returns the r value and the p value.  We'll learn more about p values later on.\n",
    "r, p_value = pearsonr(nba_stats[\"fga\"], nba_stats[\"pts\"])\n",
    "# As we can see, this is a very high positive r value - it's close to 1.\n",
    "print(r)\n",
    "\n",
    "# These two columns are much less correlated.\n",
    "r, p_value = pearsonr(nba_stats[\"trb\"], nba_stats[\"ast\"])\n",
    "# We get a much lower, but still positive, r value.\n",
    "print(r)\n",
    "r_fta_pts, p_value = pearsonr(nba_stats[\"fta\"], nba_stats[\"pts\"])\n",
    "r_stl_pf, p_value = pearsonr(nba_stats[\"stl\"], nba_stats[\"pf\"])"
   ]
  },
  {
   "cell_type": "code",
   "execution_count": null,
   "metadata": {
    "collapsed": true
   },
   "outputs": [],
   "source": [
    "# end"
   ]
  },
  {
   "cell_type": "code",
   "execution_count": null,
   "metadata": {
    "collapsed": true
   },
   "outputs": [],
   "source": []
  },
  {
   "cell_type": "code",
   "execution_count": null,
   "metadata": {
    "collapsed": true
   },
   "outputs": [],
   "source": [
    "# 13. Calculate Covariance -- start"
   ]
  },
  {
   "cell_type": "code",
   "execution_count": 36,
   "metadata": {
    "collapsed": false
   },
   "outputs": [],
   "source": [
    "# Learn\n",
    "# 我们着眼于找到一个函数的相关系数。现在，让我们来看看我们如何做到这一点。\n",
    "\n",
    "# 另一种考虑相关性的方法是方差。\n",
    "\n",
    "# 两个变量在相互独立地变化时相关，但是以相似的方式变化。\n",
    "# 例如，如果一个变量上升，另一个变量也上升，则发生相关。\n",
    "\n",
    "# 这被称为协方差。协方差是指不同的数字如何共同变化。\n",
    "\n",
    "# 有两个变量可以共同变化的限制。\n",
    "# 这是因为每个变量都有自己的变化。\n",
    "# 这些个体差异为两个变量之间的协方差设定了最大的理论极限。\n",
    "# 换句话说，一组变量的平均值不可能多于两个变量的平均值。\n",
    "\n",
    "# 当两个变量以相同的方式变化时（即，在图上看到一条直线），两个变量达到最大可能的协方差。\n",
    "\n",
    "# r值是实际协方差与最大可能正协方差之间的比率。\n",
    "\n",
    "# 我们先看实际的协方差。从数学上讲，两个变量之间的协方差如下所示："
   ]
  },
  {
   "cell_type": "code",
   "execution_count": 34,
   "metadata": {
    "collapsed": false
   },
   "outputs": [
    {
     "data": {
      "image/png": "[encoded data removed]",
      "text/plain": [
       "<IPython.core.display.Image object>"
      ]
     },
     "execution_count": 34,
     "metadata": {},
     "output_type": "execute_result"
    }
   ],
   "source": [
    "from IPython.display import Image\n",
    "Image(filename='gs.png')"
   ]
  },
  {
   "cell_type": "code",
   "execution_count": null,
   "metadata": {
    "collapsed": true
   },
   "outputs": [],
   "source": [
    "# 对于向量x和y中的每个元素，我们：\n",
    "\n",
    "# 取从1到每个向量长度的值。\n",
    "# 从这些值中减去向量的平均值。\n",
    "# 在每个位置将它们相乘，并将所有的结果值一起进行比较。"
   ]
  },
  {
   "cell_type": "code",
   "execution_count": null,
   "metadata": {
    "collapsed": true
   },
   "outputs": [],
   "source": [
    "# Instructions\n",
    "# 做一个计算协方差的函数。\n",
    "\n",
    "# 使用该函数来计算“stl”和“pf”列的协方差。 将结果分配给cov_stl_pf。\n",
    "\n",
    "# 使用该函数来计算“fta”和“pts”列的协方差。 将结果分配给cov_fta_pts。"
   ]
  },
  {
   "cell_type": "code",
   "execution_count": null,
   "metadata": {
    "collapsed": true
   },
   "outputs": [],
   "source": [
    "# Answer\n",
    "# We've already loaded the nba_stats variable.\n",
    "def covariance(x, y):\n",
    "    x_mean = sum(x) / len(x)\n",
    "    y_mean = sum(y) / len(y)\n",
    "    x_diffs = [i - x_mean for i in x]\n",
    "    y_diffs = [i - y_mean for i in y]\n",
    "    codeviates = [x_diffs[i] * y_diffs[i] for i in range(len(x))]\n",
    "    return sum(codeviates) / len(codeviates)\n",
    "\n",
    "cov_stl_pf = covariance(nba_stats[\"stl\"], nba_stats[\"pf\"])\n",
    "cov_fta_pts = covariance(nba_stats[\"fta\"], nba_stats[\"pts\"])"
   ]
  },
  {
   "cell_type": "code",
   "execution_count": null,
   "metadata": {
    "collapsed": true
   },
   "outputs": [],
   "source": [
    "# end"
   ]
  },
  {
   "cell_type": "code",
   "execution_count": null,
   "metadata": {
    "collapsed": true
   },
   "outputs": [],
   "source": []
  },
  {
   "cell_type": "code",
   "execution_count": null,
   "metadata": {
    "collapsed": true
   },
   "outputs": [],
   "source": [
    "# 14. Calculate Correlation With the std() Method"
   ]
  },
  {
   "cell_type": "code",
   "execution_count": null,
   "metadata": {
    "collapsed": true
   },
   "outputs": [],
   "source": [
    "# Learn\n",
    "# 现在我们知道如何计算协方差了，我们可以用下面的公式得到相关系数：\n",
    "\n",
    "# 对于分母，我们需要乘以x和y的标准差。 \n",
    "# 这是最大可能的正协方差，这只是两个标准偏差值的乘积。 \n",
    "# 如果我们用我们的实际协方差除以这个，我们得到r值。\n",
    "\n",
    "# 我们可以在任何熊猫DataFrame或Series上使用std方法来计算标准偏差。 \n",
    "# 以下代码返回pf列的标准偏差：\n",
    "nba_stats[\"pf\"].std()\n",
    "\n",
    "# 我们可以使用NumPy的cov函数来计算协方差，返回一个2x2矩阵。 \n",
    "# 以下代码返回pf和stl列之间的协方差：\n",
    "cov(nba_stats[\"pf\"], nba_stats[\"stl\"])[0,1]"
   ]
  },
  {
   "cell_type": "code",
   "execution_count": null,
   "metadata": {
    "collapsed": true
   },
   "outputs": [],
   "source": [
    "# Instructions\n",
    "# 计算fta和blk列的相关系数，\n",
    "# 并将结果分配给r_fta_blk。\n",
    "\n",
    "# 计算ast和stl列的相关系数，\n",
    "# 并将结果分配给r_ast_stl。\n",
    "# Compute the correlation coefficient for the fta and blk columns, \n",
    "# and assign the result to r_fta_blk.\n",
    "\n",
    "# Compute the correlation coefficient for the ast and stl columns, \n",
    "# and assign the result to r_ast_stl."
   ]
  },
  {
   "cell_type": "code",
   "execution_count": 38,
   "metadata": {
    "collapsed": false
   },
   "outputs": [],
   "source": [
    "from numpy import cov\n",
    "# We've already loaded the nba_stats variable for you.\n",
    "r_fta_blk = cov(nba_stats[\"fta\"], nba_stats[\"blk\"])[0,1] / ((nba_stats[\"fta\"].var() * nba_stats[\"blk\"].var())** (1/2))\n",
    "\n",
    "r_ast_stl = cov(nba_stats[\"ast\"], nba_stats[\"stl\"])[0,1] / ((nba_stats[\"ast\"].var() * nba_stats[\"stl\"].var())** (1/2))"
   ]
  },
  {
   "cell_type": "code",
   "execution_count": null,
   "metadata": {
    "collapsed": true
   },
   "outputs": [],
   "source": [
    "# end"
   ]
  },
  {
   "cell_type": "code",
   "execution_count": null,
   "metadata": {
    "collapsed": true
   },
   "outputs": [],
   "source": []
  },
  {
   "cell_type": "code",
   "execution_count": null,
   "metadata": {
    "collapsed": true
   },
   "outputs": [],
   "source": []
  },
  {
   "cell_type": "code",
   "execution_count": null,
   "metadata": {
    "collapsed": true
   },
   "outputs": [],
   "source": []
  },
  {
   "cell_type": "code",
   "execution_count": null,
   "metadata": {
    "collapsed": true
   },
   "outputs": [],
   "source": []
  },
  {
   "cell_type": "code",
   "execution_count": null,
   "metadata": {
    "collapsed": true
   },
   "outputs": [],
   "source": []
  },
  {
   "cell_type": "code",
   "execution_count": null,
   "metadata": {
    "collapsed": true
   },
   "outputs": [],
   "source": []
  },
  {
   "cell_type": "code",
   "execution_count": null,
   "metadata": {
    "collapsed": true
   },
   "outputs": [],
   "source": []
  },
  {
   "cell_type": "code",
   "execution_count": null,
   "metadata": {
    "collapsed": true
   },
   "outputs": [],
   "source": []
  },
  {
   "cell_type": "code",
   "execution_count": null,
   "metadata": {
    "collapsed": true
   },
   "outputs": [],
   "source": []
  },
  {
   "cell_type": "code",
   "execution_count": null,
   "metadata": {
    "collapsed": true
   },
   "outputs": [],
   "source": []
  }
 ],
 "metadata": {
  "kernelspec": {
   "display_name": "Python 2",
   "language": "python",
   "name": "python2"
  },
  "language_info": {
   "codemirror_mode": {
    "name": "ipython",
    "version": 2
   },
   "file_extension": ".py",
   "mimetype": "text/x-python",
   "name": "python",
   "nbconvert_exporter": "python",
   "pygments_lexer": "ipython2",
   "version": "2.7.13"
  }
 },
 "nbformat": 4,
 "nbformat_minor": 2
}
